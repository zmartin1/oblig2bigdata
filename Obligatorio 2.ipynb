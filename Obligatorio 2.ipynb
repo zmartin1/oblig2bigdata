{
 "cells": [
  {
   "cell_type": "markdown",
   "metadata": {},
   "source": [
    "# Obligatorio 2 - Big Data Science\n",
    "\n",
    "Integrantes del grupo: Martín Brian - Joaquín Martínez\n",
    "\n",
    "Debajo de cada pregunta o tarea incluya las celdas necesarias para desarrolar la respuesta. Puede usar una o varias celdas de código o mark down (https://www.datacamp.com/community/tutorials/markdown-in-jupyter-notebook)\n",
    "\n",
    "Para entregar, renombrar este notebook como \"Obligatorio 2 - Apellido1 - Apellido 2 - Apellido 3\" con los apellidos de los miembros del grupo. Un solo integrante del grupo debe realizar la entrega. \n"
   ]
  },
  {
   "cell_type": "markdown",
   "metadata": {},
   "source": [
    "1. Cargar los datos del Obligatorio 1, de entrenamiento (.data) y validación (.test) en spark dataframes (distintos). Los nombres de las columnas deben corresponder a los especificados en \"Attribute Information\"."
   ]
  },
  {
   "cell_type": "code",
   "execution_count": 1,
   "metadata": {},
   "outputs": [],
   "source": [
    "#from pyspark import SparkContext\n",
    "import pyspark\n",
    "from pyspark.sql import SQLContext\n",
    "\n",
    "sc = pyspark.SparkContext.getOrCreate()\n",
    "\n",
    "spark = SQLContext(sc)"
   ]
  },
  {
   "cell_type": "code",
   "execution_count": 2,
   "metadata": {},
   "outputs": [],
   "source": [
    "from pyspark.sql.types import StructType, StructField, IntegerType, StringType, FloatType\n",
    "\n",
    "schema = StructType([\n",
    "    StructField(\"age\", IntegerType(), True),\n",
    "    StructField(\"workclass\", StringType(), True),\n",
    "    StructField(\"fnlwgt\", FloatType(), True),\n",
    "    StructField(\"education\", StringType(), True),\n",
    "    StructField(\"education-num\", FloatType(), True),\n",
    "    StructField(\"marital-status\", StringType(), True),\n",
    "    StructField(\"occupation\", StringType(), True),\n",
    "    StructField(\"relationship\", StringType(), True),\n",
    "    StructField(\"race\", StringType(), True),\n",
    "    StructField(\"sex\", StringType(), True),\n",
    "    StructField(\"capital-gain\", FloatType(), True),\n",
    "    StructField(\"capital-loss\", FloatType(), True),\n",
    "    StructField(\"hours-per-week\", FloatType(), True),\n",
    "    StructField(\"native-country\", StringType(), True),\n",
    "    StructField(\"salary\", StringType(), False)\n",
    "])"
   ]
  },
  {
   "cell_type": "code",
   "execution_count": 3,
   "metadata": {},
   "outputs": [],
   "source": [
    "#Leemos los archivos\n",
    "df_data = spark.read.csv(\"./adult.data\", header=False,schema=schema)\n",
    "df_test = spark.read.csv(\"./adult.test\", header=True,schema=schema)"
   ]
  },
  {
   "cell_type": "code",
   "execution_count": 4,
   "metadata": {},
   "outputs": [
    {
     "output_type": "execute_result",
     "data": {
      "text/plain": [
       "       age          workclass    fnlwgt    education  education-num  \\\n",
       "0       39          State-gov   77516.0    Bachelors           13.0   \n",
       "1       50   Self-emp-not-inc   83311.0    Bachelors           13.0   \n",
       "2       38            Private  215646.0      HS-grad            9.0   \n",
       "3       53            Private  234721.0         11th            7.0   \n",
       "4       28            Private  338409.0    Bachelors           13.0   \n",
       "...    ...                ...       ...          ...            ...   \n",
       "32556   27            Private  257302.0   Assoc-acdm           12.0   \n",
       "32557   40            Private  154374.0      HS-grad            9.0   \n",
       "32558   58            Private  151910.0      HS-grad            9.0   \n",
       "32559   22            Private  201490.0      HS-grad            9.0   \n",
       "32560   52       Self-emp-inc  287927.0      HS-grad            9.0   \n",
       "\n",
       "            marital-status          occupation    relationship    race  \\\n",
       "0            Never-married        Adm-clerical   Not-in-family   White   \n",
       "1       Married-civ-spouse     Exec-managerial         Husband   White   \n",
       "2                 Divorced   Handlers-cleaners   Not-in-family   White   \n",
       "3       Married-civ-spouse   Handlers-cleaners         Husband   Black   \n",
       "4       Married-civ-spouse      Prof-specialty            Wife   Black   \n",
       "...                    ...                 ...             ...     ...   \n",
       "32556   Married-civ-spouse        Tech-support            Wife   White   \n",
       "32557   Married-civ-spouse   Machine-op-inspct         Husband   White   \n",
       "32558              Widowed        Adm-clerical       Unmarried   White   \n",
       "32559        Never-married        Adm-clerical       Own-child   White   \n",
       "32560   Married-civ-spouse     Exec-managerial            Wife   White   \n",
       "\n",
       "           sex  capital-gain  capital-loss  hours-per-week  native-country  \\\n",
       "0         Male        2174.0           0.0            40.0   United-States   \n",
       "1         Male           0.0           0.0            13.0   United-States   \n",
       "2         Male           0.0           0.0            40.0   United-States   \n",
       "3         Male           0.0           0.0            40.0   United-States   \n",
       "4       Female           0.0           0.0            40.0            Cuba   \n",
       "...        ...           ...           ...             ...             ...   \n",
       "32556   Female           0.0           0.0            38.0   United-States   \n",
       "32557     Male           0.0           0.0            40.0   United-States   \n",
       "32558   Female           0.0           0.0            40.0   United-States   \n",
       "32559     Male           0.0           0.0            20.0   United-States   \n",
       "32560   Female       15024.0           0.0            40.0   United-States   \n",
       "\n",
       "       salary  \n",
       "0       <=50K  \n",
       "1       <=50K  \n",
       "2       <=50K  \n",
       "3       <=50K  \n",
       "4       <=50K  \n",
       "...       ...  \n",
       "32556   <=50K  \n",
       "32557    >50K  \n",
       "32558   <=50K  \n",
       "32559   <=50K  \n",
       "32560    >50K  \n",
       "\n",
       "[32561 rows x 15 columns]"
      ],
      "text/html": "<div>\n<style scoped>\n    .dataframe tbody tr th:only-of-type {\n        vertical-align: middle;\n    }\n\n    .dataframe tbody tr th {\n        vertical-align: top;\n    }\n\n    .dataframe thead th {\n        text-align: right;\n    }\n</style>\n<table border=\"1\" class=\"dataframe\">\n  <thead>\n    <tr style=\"text-align: right;\">\n      <th></th>\n      <th>age</th>\n      <th>workclass</th>\n      <th>fnlwgt</th>\n      <th>education</th>\n      <th>education-num</th>\n      <th>marital-status</th>\n      <th>occupation</th>\n      <th>relationship</th>\n      <th>race</th>\n      <th>sex</th>\n      <th>capital-gain</th>\n      <th>capital-loss</th>\n      <th>hours-per-week</th>\n      <th>native-country</th>\n      <th>salary</th>\n    </tr>\n  </thead>\n  <tbody>\n    <tr>\n      <th>0</th>\n      <td>39</td>\n      <td>State-gov</td>\n      <td>77516.0</td>\n      <td>Bachelors</td>\n      <td>13.0</td>\n      <td>Never-married</td>\n      <td>Adm-clerical</td>\n      <td>Not-in-family</td>\n      <td>White</td>\n      <td>Male</td>\n      <td>2174.0</td>\n      <td>0.0</td>\n      <td>40.0</td>\n      <td>United-States</td>\n      <td>&lt;=50K</td>\n    </tr>\n    <tr>\n      <th>1</th>\n      <td>50</td>\n      <td>Self-emp-not-inc</td>\n      <td>83311.0</td>\n      <td>Bachelors</td>\n      <td>13.0</td>\n      <td>Married-civ-spouse</td>\n      <td>Exec-managerial</td>\n      <td>Husband</td>\n      <td>White</td>\n      <td>Male</td>\n      <td>0.0</td>\n      <td>0.0</td>\n      <td>13.0</td>\n      <td>United-States</td>\n      <td>&lt;=50K</td>\n    </tr>\n    <tr>\n      <th>2</th>\n      <td>38</td>\n      <td>Private</td>\n      <td>215646.0</td>\n      <td>HS-grad</td>\n      <td>9.0</td>\n      <td>Divorced</td>\n      <td>Handlers-cleaners</td>\n      <td>Not-in-family</td>\n      <td>White</td>\n      <td>Male</td>\n      <td>0.0</td>\n      <td>0.0</td>\n      <td>40.0</td>\n      <td>United-States</td>\n      <td>&lt;=50K</td>\n    </tr>\n    <tr>\n      <th>3</th>\n      <td>53</td>\n      <td>Private</td>\n      <td>234721.0</td>\n      <td>11th</td>\n      <td>7.0</td>\n      <td>Married-civ-spouse</td>\n      <td>Handlers-cleaners</td>\n      <td>Husband</td>\n      <td>Black</td>\n      <td>Male</td>\n      <td>0.0</td>\n      <td>0.0</td>\n      <td>40.0</td>\n      <td>United-States</td>\n      <td>&lt;=50K</td>\n    </tr>\n    <tr>\n      <th>4</th>\n      <td>28</td>\n      <td>Private</td>\n      <td>338409.0</td>\n      <td>Bachelors</td>\n      <td>13.0</td>\n      <td>Married-civ-spouse</td>\n      <td>Prof-specialty</td>\n      <td>Wife</td>\n      <td>Black</td>\n      <td>Female</td>\n      <td>0.0</td>\n      <td>0.0</td>\n      <td>40.0</td>\n      <td>Cuba</td>\n      <td>&lt;=50K</td>\n    </tr>\n    <tr>\n      <th>...</th>\n      <td>...</td>\n      <td>...</td>\n      <td>...</td>\n      <td>...</td>\n      <td>...</td>\n      <td>...</td>\n      <td>...</td>\n      <td>...</td>\n      <td>...</td>\n      <td>...</td>\n      <td>...</td>\n      <td>...</td>\n      <td>...</td>\n      <td>...</td>\n      <td>...</td>\n    </tr>\n    <tr>\n      <th>32556</th>\n      <td>27</td>\n      <td>Private</td>\n      <td>257302.0</td>\n      <td>Assoc-acdm</td>\n      <td>12.0</td>\n      <td>Married-civ-spouse</td>\n      <td>Tech-support</td>\n      <td>Wife</td>\n      <td>White</td>\n      <td>Female</td>\n      <td>0.0</td>\n      <td>0.0</td>\n      <td>38.0</td>\n      <td>United-States</td>\n      <td>&lt;=50K</td>\n    </tr>\n    <tr>\n      <th>32557</th>\n      <td>40</td>\n      <td>Private</td>\n      <td>154374.0</td>\n      <td>HS-grad</td>\n      <td>9.0</td>\n      <td>Married-civ-spouse</td>\n      <td>Machine-op-inspct</td>\n      <td>Husband</td>\n      <td>White</td>\n      <td>Male</td>\n      <td>0.0</td>\n      <td>0.0</td>\n      <td>40.0</td>\n      <td>United-States</td>\n      <td>&gt;50K</td>\n    </tr>\n    <tr>\n      <th>32558</th>\n      <td>58</td>\n      <td>Private</td>\n      <td>151910.0</td>\n      <td>HS-grad</td>\n      <td>9.0</td>\n      <td>Widowed</td>\n      <td>Adm-clerical</td>\n      <td>Unmarried</td>\n      <td>White</td>\n      <td>Female</td>\n      <td>0.0</td>\n      <td>0.0</td>\n      <td>40.0</td>\n      <td>United-States</td>\n      <td>&lt;=50K</td>\n    </tr>\n    <tr>\n      <th>32559</th>\n      <td>22</td>\n      <td>Private</td>\n      <td>201490.0</td>\n      <td>HS-grad</td>\n      <td>9.0</td>\n      <td>Never-married</td>\n      <td>Adm-clerical</td>\n      <td>Own-child</td>\n      <td>White</td>\n      <td>Male</td>\n      <td>0.0</td>\n      <td>0.0</td>\n      <td>20.0</td>\n      <td>United-States</td>\n      <td>&lt;=50K</td>\n    </tr>\n    <tr>\n      <th>32560</th>\n      <td>52</td>\n      <td>Self-emp-inc</td>\n      <td>287927.0</td>\n      <td>HS-grad</td>\n      <td>9.0</td>\n      <td>Married-civ-spouse</td>\n      <td>Exec-managerial</td>\n      <td>Wife</td>\n      <td>White</td>\n      <td>Female</td>\n      <td>15024.0</td>\n      <td>0.0</td>\n      <td>40.0</td>\n      <td>United-States</td>\n      <td>&gt;50K</td>\n    </tr>\n  </tbody>\n</table>\n<p>32561 rows × 15 columns</p>\n</div>"
     },
     "metadata": {},
     "execution_count": 4
    }
   ],
   "source": [
    "df_data.toPandas()"
   ]
  },
  {
   "cell_type": "code",
   "execution_count": 5,
   "metadata": {},
   "outputs": [
    {
     "output_type": "execute_result",
     "data": {
      "text/plain": [
       "                 age workclass        fnlwgt education  education-num  \\\n",
       "count   32561.000000     32561  3.256100e+04     32561   32561.000000   \n",
       "unique           NaN         9           NaN        16            NaN   \n",
       "top              NaN   Private           NaN   HS-grad            NaN   \n",
       "freq             NaN     22696           NaN     10501            NaN   \n",
       "mean       38.581647       NaN  1.897784e+05       NaN      10.080679   \n",
       "std        13.640433       NaN  1.055500e+05       NaN       2.572720   \n",
       "min        17.000000       NaN  1.228500e+04       NaN       1.000000   \n",
       "25%        28.000000       NaN  1.178270e+05       NaN       9.000000   \n",
       "50%        37.000000       NaN  1.783560e+05       NaN      10.000000   \n",
       "75%        48.000000       NaN  2.370510e+05       NaN      12.000000   \n",
       "max        90.000000       NaN  1.484705e+06       NaN      16.000000   \n",
       "\n",
       "             marital-status       occupation relationship    race    sex  \\\n",
       "count                 32561            32561        32561   32561  32561   \n",
       "unique                    7               15            6       5      2   \n",
       "top      Married-civ-spouse   Prof-specialty      Husband   White   Male   \n",
       "freq                  14976             4140        13193   27816  21790   \n",
       "mean                    NaN              NaN          NaN     NaN    NaN   \n",
       "std                     NaN              NaN          NaN     NaN    NaN   \n",
       "min                     NaN              NaN          NaN     NaN    NaN   \n",
       "25%                     NaN              NaN          NaN     NaN    NaN   \n",
       "50%                     NaN              NaN          NaN     NaN    NaN   \n",
       "75%                     NaN              NaN          NaN     NaN    NaN   \n",
       "max                     NaN              NaN          NaN     NaN    NaN   \n",
       "\n",
       "        capital-gain  capital-loss  hours-per-week  native-country  salary  \n",
       "count   32561.000000  32561.000000    32561.000000           32561   32561  \n",
       "unique           NaN           NaN             NaN              42       2  \n",
       "top              NaN           NaN             NaN   United-States   <=50K  \n",
       "freq             NaN           NaN             NaN           29170   24720  \n",
       "mean     1077.648804     87.303833       40.437454             NaN     NaN  \n",
       "std      7385.291992    402.960205       12.347429             NaN     NaN  \n",
       "min         0.000000      0.000000        1.000000             NaN     NaN  \n",
       "25%         0.000000      0.000000       40.000000             NaN     NaN  \n",
       "50%         0.000000      0.000000       40.000000             NaN     NaN  \n",
       "75%         0.000000      0.000000       45.000000             NaN     NaN  \n",
       "max     99999.000000   4356.000000       99.000000             NaN     NaN  "
      ],
      "text/html": "<div>\n<style scoped>\n    .dataframe tbody tr th:only-of-type {\n        vertical-align: middle;\n    }\n\n    .dataframe tbody tr th {\n        vertical-align: top;\n    }\n\n    .dataframe thead th {\n        text-align: right;\n    }\n</style>\n<table border=\"1\" class=\"dataframe\">\n  <thead>\n    <tr style=\"text-align: right;\">\n      <th></th>\n      <th>age</th>\n      <th>workclass</th>\n      <th>fnlwgt</th>\n      <th>education</th>\n      <th>education-num</th>\n      <th>marital-status</th>\n      <th>occupation</th>\n      <th>relationship</th>\n      <th>race</th>\n      <th>sex</th>\n      <th>capital-gain</th>\n      <th>capital-loss</th>\n      <th>hours-per-week</th>\n      <th>native-country</th>\n      <th>salary</th>\n    </tr>\n  </thead>\n  <tbody>\n    <tr>\n      <th>count</th>\n      <td>32561.000000</td>\n      <td>32561</td>\n      <td>3.256100e+04</td>\n      <td>32561</td>\n      <td>32561.000000</td>\n      <td>32561</td>\n      <td>32561</td>\n      <td>32561</td>\n      <td>32561</td>\n      <td>32561</td>\n      <td>32561.000000</td>\n      <td>32561.000000</td>\n      <td>32561.000000</td>\n      <td>32561</td>\n      <td>32561</td>\n    </tr>\n    <tr>\n      <th>unique</th>\n      <td>NaN</td>\n      <td>9</td>\n      <td>NaN</td>\n      <td>16</td>\n      <td>NaN</td>\n      <td>7</td>\n      <td>15</td>\n      <td>6</td>\n      <td>5</td>\n      <td>2</td>\n      <td>NaN</td>\n      <td>NaN</td>\n      <td>NaN</td>\n      <td>42</td>\n      <td>2</td>\n    </tr>\n    <tr>\n      <th>top</th>\n      <td>NaN</td>\n      <td>Private</td>\n      <td>NaN</td>\n      <td>HS-grad</td>\n      <td>NaN</td>\n      <td>Married-civ-spouse</td>\n      <td>Prof-specialty</td>\n      <td>Husband</td>\n      <td>White</td>\n      <td>Male</td>\n      <td>NaN</td>\n      <td>NaN</td>\n      <td>NaN</td>\n      <td>United-States</td>\n      <td>&lt;=50K</td>\n    </tr>\n    <tr>\n      <th>freq</th>\n      <td>NaN</td>\n      <td>22696</td>\n      <td>NaN</td>\n      <td>10501</td>\n      <td>NaN</td>\n      <td>14976</td>\n      <td>4140</td>\n      <td>13193</td>\n      <td>27816</td>\n      <td>21790</td>\n      <td>NaN</td>\n      <td>NaN</td>\n      <td>NaN</td>\n      <td>29170</td>\n      <td>24720</td>\n    </tr>\n    <tr>\n      <th>mean</th>\n      <td>38.581647</td>\n      <td>NaN</td>\n      <td>1.897784e+05</td>\n      <td>NaN</td>\n      <td>10.080679</td>\n      <td>NaN</td>\n      <td>NaN</td>\n      <td>NaN</td>\n      <td>NaN</td>\n      <td>NaN</td>\n      <td>1077.648804</td>\n      <td>87.303833</td>\n      <td>40.437454</td>\n      <td>NaN</td>\n      <td>NaN</td>\n    </tr>\n    <tr>\n      <th>std</th>\n      <td>13.640433</td>\n      <td>NaN</td>\n      <td>1.055500e+05</td>\n      <td>NaN</td>\n      <td>2.572720</td>\n      <td>NaN</td>\n      <td>NaN</td>\n      <td>NaN</td>\n      <td>NaN</td>\n      <td>NaN</td>\n      <td>7385.291992</td>\n      <td>402.960205</td>\n      <td>12.347429</td>\n      <td>NaN</td>\n      <td>NaN</td>\n    </tr>\n    <tr>\n      <th>min</th>\n      <td>17.000000</td>\n      <td>NaN</td>\n      <td>1.228500e+04</td>\n      <td>NaN</td>\n      <td>1.000000</td>\n      <td>NaN</td>\n      <td>NaN</td>\n      <td>NaN</td>\n      <td>NaN</td>\n      <td>NaN</td>\n      <td>0.000000</td>\n      <td>0.000000</td>\n      <td>1.000000</td>\n      <td>NaN</td>\n      <td>NaN</td>\n    </tr>\n    <tr>\n      <th>25%</th>\n      <td>28.000000</td>\n      <td>NaN</td>\n      <td>1.178270e+05</td>\n      <td>NaN</td>\n      <td>9.000000</td>\n      <td>NaN</td>\n      <td>NaN</td>\n      <td>NaN</td>\n      <td>NaN</td>\n      <td>NaN</td>\n      <td>0.000000</td>\n      <td>0.000000</td>\n      <td>40.000000</td>\n      <td>NaN</td>\n      <td>NaN</td>\n    </tr>\n    <tr>\n      <th>50%</th>\n      <td>37.000000</td>\n      <td>NaN</td>\n      <td>1.783560e+05</td>\n      <td>NaN</td>\n      <td>10.000000</td>\n      <td>NaN</td>\n      <td>NaN</td>\n      <td>NaN</td>\n      <td>NaN</td>\n      <td>NaN</td>\n      <td>0.000000</td>\n      <td>0.000000</td>\n      <td>40.000000</td>\n      <td>NaN</td>\n      <td>NaN</td>\n    </tr>\n    <tr>\n      <th>75%</th>\n      <td>48.000000</td>\n      <td>NaN</td>\n      <td>2.370510e+05</td>\n      <td>NaN</td>\n      <td>12.000000</td>\n      <td>NaN</td>\n      <td>NaN</td>\n      <td>NaN</td>\n      <td>NaN</td>\n      <td>NaN</td>\n      <td>0.000000</td>\n      <td>0.000000</td>\n      <td>45.000000</td>\n      <td>NaN</td>\n      <td>NaN</td>\n    </tr>\n    <tr>\n      <th>max</th>\n      <td>90.000000</td>\n      <td>NaN</td>\n      <td>1.484705e+06</td>\n      <td>NaN</td>\n      <td>16.000000</td>\n      <td>NaN</td>\n      <td>NaN</td>\n      <td>NaN</td>\n      <td>NaN</td>\n      <td>NaN</td>\n      <td>99999.000000</td>\n      <td>4356.000000</td>\n      <td>99.000000</td>\n      <td>NaN</td>\n      <td>NaN</td>\n    </tr>\n  </tbody>\n</table>\n</div>"
     },
     "metadata": {},
     "execution_count": 5
    }
   ],
   "source": [
    "df_data.toPandas().describe(include = 'all')"
   ]
  },
  {
   "cell_type": "code",
   "execution_count": 6,
   "metadata": {},
   "outputs": [],
   "source": [
    "from pyspark.sql.functions import regexp_replace\n",
    "\n",
    "# Limpiamos puntos en la columna salario\n",
    "df_test = df_test.withColumn('salary', regexp_replace('salary', '<=50K.', '<=50K'))\n",
    "df_test = df_test.withColumn('salary', regexp_replace('salary', '>50K.', '>50K'))"
   ]
  },
  {
   "cell_type": "markdown",
   "metadata": {},
   "source": [
    "2. Seleccionar un conjunto relevante de 5 atributos y crear un Spark Pipeline en el que el estimator sea un DecisionTreeClassifier (https://spark.apache.org/docs/latest/ml-classification-regression.html#decision-tree-classifier). Puede utilizar libremente los transformers/estimators de Spark para realizar ingeniería de atributos (StringIndexer, OneHotEncoding, etc)."
   ]
  },
  {
   "cell_type": "code",
   "execution_count": 7,
   "metadata": {},
   "outputs": [],
   "source": [
    "from pyspark.ml import Pipeline\n",
    "from pyspark.ml.classification import DecisionTreeClassifier\n",
    "from pyspark.ml.feature import StringIndexer, VectorAssembler, Bucketizer, OneHotEncoder\n",
    "\n",
    "def get_indexed_name(name):\n",
    "    return f\"{name}_index\"\n",
    "\n",
    "# def get_onehot_name(name):\n",
    "#     return f\"{name}_onehot\"\n",
    "\n",
    "chosen_columns = [\"age\", \"occupation\", \"education-num\", \"marital-status\", \"hours-per-week\"]\n",
    "\n",
    "string_type_name = StringType.typeName()\n",
    "chosen_columns_dtypes = df_data.select(chosen_columns).dtypes\n",
    "strings_to_index = list(filter(lambda column: dict(chosen_columns_dtypes)[column] == string_type_name, chosen_columns))\n",
    "string_indexers = [StringIndexer(inputCol=column, outputCol=get_indexed_name(column)) for column in strings_to_index]\n",
    "\n",
    "indexer_output=[get_indexed_name(string) for string in strings_to_index]\n",
    "\n",
    "# encoder = OneHotEncoder(inputCols=[get_indexed_name(string) for string in strings_to_index],\n",
    "#                         outputCols=encoder_output)\n",
    "\n",
    "splits = [0, 25, 40, 60, float(\"inf\")]\n",
    "bucketizer = Bucketizer(splits=splits, inputCol=\"age\", outputCol=\"age_bucketed\")\n",
    "\n",
    "splits = [0, 30, 41, 46, 75, float(\"inf\")]\n",
    "bucketizer_hours = Bucketizer(splits=splits, inputCol=\"hours-per-week\", outputCol=\"hours-per-week_bucketed\")\n",
    "\n",
    "chosen_numeric=set(chosen_columns)-set(strings_to_index)-set(\"age\")-set(\"hours-per-week\")\n",
    "\n",
    "chosen = list(chosen_numeric)\n",
    "chosen.extend(indexer_output)\n",
    "chosen.append(\"age_bucketed\")\n",
    "chosen.append(\"hours-per-week_bucketed\")\n",
    "\n",
    "assembler = VectorAssembler(inputCols=chosen, outputCol=\"vector_col\") \n",
    "salary_indexer = StringIndexer(inputCol=\"salary\", outputCol=\"salary_indexed\")\n",
    "\n",
    "# Decision tree parameters (para poder ajustarlo)\n",
    "\"\"\"DecisionTreeClassifier(*, featuresCol='features', labelCol='label', predictionCol='prediction', probabilityCol='probability', rawPredictionCol='rawPrediction', maxDepth=5, maxBins=32, minInstancesPerNode=1, minInfoGain=0.0, maxMemoryInMB=256, cacheNodeIds=False, checkpointInterval=10, impurity='gini', seed=None, weightCol=None, leafCol='', minWeightFractionPerNode=0.0)\"\"\"\n",
    "\n",
    "dt = DecisionTreeClassifier(labelCol=\"salary_indexed\", featuresCol=\"vector_col\", maxDepth=8)\n",
    "\n",
    "stages = string_indexers\n",
    "stages.extend([salary_indexer, bucketizer, bucketizer_hours, assembler, dt])\n",
    "pipeline = Pipeline(stages=stages)\n"
   ]
  },
  {
   "cell_type": "markdown",
   "metadata": {},
   "source": [
    "3. Hacer el fit del pipeline con los datos de entrenamiento. \n"
   ]
  },
  {
   "cell_type": "code",
   "execution_count": 8,
   "metadata": {
    "tags": []
   },
   "outputs": [
    {
     "output_type": "stream",
     "name": "stdout",
     "text": [
      "DecisionTreeClassificationModel: uid=DecisionTreeClassifier_6dc8681fbac2, depth=8, numNodes=203, numClasses=2, numFeatures=6\n  If (feature 4 in {1.0,2.0,3.0,4.0,5.0,6.0})\n   If (feature 2 <= 12.5)\n    If (feature 1 <= 40.5)\n     Predict: 0.0\n    Else (feature 1 > 40.5)\n     If (feature 0 <= 38.5)\n      If (feature 0 <= 23.5)\n       If (feature 2 <= 4.5)\n        If (feature 1 <= 55.5)\n         Predict: 0.0\n        Else (feature 1 > 55.5)\n         If (feature 3 in {3.0,6.0})\n          Predict: 0.0\n         Else (feature 3 not in {3.0,6.0})\n          Predict: 1.0\n       Else (feature 2 > 4.5)\n        Predict: 0.0\n      Else (feature 0 > 23.5)\n       If (feature 3 in {6.0,7.0,9.0,10.0,11.0,13.0,14.0})\n        If (feature 0 <= 37.5)\n         Predict: 0.0\n        Else (feature 0 > 37.5)\n         If (feature 2 <= 11.5)\n          Predict: 0.0\n         Else (feature 2 > 11.5)\n          Predict: 1.0\n       Else (feature 3 not in {6.0,7.0,9.0,10.0,11.0,13.0,14.0})\n        Predict: 0.0\n     Else (feature 0 > 38.5)\n      If (feature 3 in {5.0,6.0,9.0,12.0,13.0,14.0})\n       Predict: 0.0\n      Else (feature 3 not in {5.0,6.0,9.0,12.0,13.0,14.0})\n       If (feature 0 <= 52.5)\n        Predict: 0.0\n       Else (feature 0 > 52.5)\n        If (feature 3 in {3.0,7.0,10.0})\n         Predict: 0.0\n        Else (feature 3 not in {3.0,7.0,10.0})\n         If (feature 3 in {11.0})\n          Predict: 1.0\n         Else (feature 3 not in {11.0})\n          Predict: 0.0\n   Else (feature 2 > 12.5)\n    If (feature 1 <= 43.5)\n     If (feature 0 <= 34.5)\n      If (feature 0 <= 28.5)\n       Predict: 0.0\n      Else (feature 0 > 28.5)\n       If (feature 2 <= 14.5)\n        Predict: 0.0\n       Else (feature 2 > 14.5)\n        If (feature 0 <= 31.5)\n         Predict: 0.0\n        Else (feature 0 > 31.5)\n         Predict: 1.0\n     Else (feature 0 > 34.5)\n      If (feature 2 <= 14.5)\n       Predict: 0.0\n      Else (feature 2 > 14.5)\n       If (feature 4 in {2.0,3.0,4.0,5.0})\n        If (feature 3 in {3.0,4.0,5.0,7.0})\n         Predict: 0.0\n        Else (feature 3 not in {3.0,4.0,5.0,7.0})\n         If (feature 0 <= 46.5)\n          Predict: 1.0\n         Else (feature 0 > 46.5)\n          Predict: 0.0\n       Else (feature 4 not in {2.0,3.0,4.0,5.0})\n        If (feature 1 <= 12.5)\n         Predict: 0.0\n        Else (feature 1 > 12.5)\n         If (feature 0 <= 66.5)\n          Predict: 1.0\n         Else (feature 0 > 66.5)\n          Predict: 0.0\n    Else (feature 1 > 43.5)\n     If (feature 0 <= 28.5)\n      If (feature 0 <= 27.5)\n       If (feature 5 in {0.0})\n        If (feature 3 in {0.0,2.0,3.0,4.0,5.0,6.0,7.0,10.0,11.0,13.0})\n         Predict: 0.0\n        Else (feature 3 not in {0.0,2.0,3.0,4.0,5.0,6.0,7.0,10.0,11.0,13.0})\n         Predict: 1.0\n       Else (feature 5 not in {0.0})\n        If (feature 1 <= 60.5)\n         Predict: 0.0\n        Else (feature 1 > 60.5)\n         If (feature 1 <= 64.5)\n          Predict: 1.0\n         Else (feature 1 > 64.5)\n          Predict: 0.0\n      Else (feature 0 > 27.5)\n       If (feature 1 <= 45.5)\n        Predict: 0.0\n       Else (feature 1 > 45.5)\n        If (feature 3 in {1.0,8.0,12.0})\n         Predict: 0.0\n        Else (feature 3 not in {1.0,8.0,12.0})\n         If (feature 4 in {2.0,3.0,5.0})\n          Predict: 1.0\n         Else (feature 4 not in {2.0,3.0,5.0})\n          Predict: 0.0\n     Else (feature 0 > 28.5)\n      If (feature 2 <= 14.5)\n       If (feature 3 in {0.0,1.0,3.0,4.0,5.0,7.0,8.0,9.0,10.0,11.0,12.0,13.0})\n        Predict: 0.0\n       Else (feature 3 not in {0.0,1.0,3.0,4.0,5.0,7.0,8.0,9.0,10.0,11.0,12.0,13.0})\n        If (feature 2 <= 13.5)\n         If (feature 0 <= 47.5)\n          Predict: 0.0\n         Else (feature 0 > 47.5)\n          Predict: 1.0\n        Else (feature 2 > 13.5)\n         If (feature 0 <= 30.5)\n          Predict: 0.0\n         Else (feature 0 > 30.5)\n          Predict: 1.0\n      Else (feature 2 > 14.5)\n       If (feature 0 <= 32.5)\n        If (feature 1 <= 50.5)\n         If (feature 4 in {2.0})\n          Predict: 1.0\n         Else (feature 4 not in {2.0})\n          Predict: 0.0\n        Else (feature 1 > 50.5)\n         Predict: 0.0\n       Else (feature 0 > 32.5)\n        If (feature 3 in {10.0})\n         Predict: 0.0\n        Else (feature 3 not in {10.0})\n         Predict: 1.0\n  Else (feature 4 not in {1.0,2.0,3.0,4.0,5.0,6.0})\n   If (feature 2 <= 12.5)\n    If (feature 2 <= 8.5)\n     If (feature 0 <= 35.5)\n      If (feature 3 in {0.0,5.0,10.0,12.0,13.0,14.0})\n       Predict: 0.0\n      Else (feature 3 not in {0.0,5.0,10.0,12.0,13.0,14.0})\n       If (feature 1 <= 48.5)\n        Predict: 0.0\n       Else (feature 1 > 48.5)\n        If (feature 0 <= 28.5)\n         If (feature 0 <= 27.5)\n          Predict: 0.0\n         Else (feature 0 > 27.5)\n          Predict: 1.0\n        Else (feature 0 > 28.5)\n         Predict: 0.0\n     Else (feature 0 > 35.5)\n      If (feature 3 in {0.0,3.0,5.0,7.0,10.0,11.0,12.0,13.0})\n       Predict: 0.0\n      Else (feature 3 not in {0.0,3.0,5.0,7.0,10.0,11.0,12.0,13.0})\n       If (feature 1 <= 45.5)\n        Predict: 0.0\n       Else (feature 1 > 45.5)\n        If (feature 1 <= 46.5)\n         Predict: 1.0\n        Else (feature 1 > 46.5)\n         Predict: 0.0\n    Else (feature 2 > 8.5)\n     If (feature 0 <= 35.5)\n      If (feature 0 <= 28.5)\n       Predict: 0.0\n      Else (feature 0 > 28.5)\n       If (feature 3 in {5.0,7.0,9.0,10.0,14.0})\n        If (feature 2 <= 10.5)\n         Predict: 0.0\n        Else (feature 2 > 10.5)\n         If (feature 3 in {9.0,10.0})\n          Predict: 0.0\n         Else (feature 3 not in {9.0,10.0})\n          Predict: 1.0\n       Else (feature 3 not in {5.0,7.0,9.0,10.0,14.0})\n        Predict: 0.0\n     Else (feature 0 > 35.5)\n      If (feature 3 in {5.0,7.0,9.0,10.0,13.0})\n       Predict: 0.0\n      Else (feature 3 not in {5.0,7.0,9.0,10.0,13.0})\n       If (feature 2 <= 9.5)\n        Predict: 0.0\n       Else (feature 2 > 9.5)\n        If (feature 3 in {6.0,8.0})\n         If (feature 1 <= 12.5)\n          Predict: 1.0\n         Else (feature 1 > 12.5)\n          Predict: 0.0\n        Else (feature 3 not in {6.0,8.0})\n         If (feature 1 <= 34.5)\n          Predict: 0.0\n         Else (feature 1 > 34.5)\n          Predict: 1.0\n   Else (feature 2 > 12.5)\n    If (feature 3 in {1.0,3.0,5.0,6.0,7.0,8.0,9.0,10.0,11.0,12.0,13.0,14.0})\n     If (feature 3 in {5.0,6.0,8.0,9.0,10.0,13.0,14.0})\n      If (feature 1 <= 34.5)\n       Predict: 0.0\n      Else (feature 1 > 34.5)\n       If (feature 1 <= 55.5)\n        If (feature 0 <= 42.5)\n         Predict: 0.0\n        Else (feature 0 > 42.5)\n         If (feature 3 in {5.0,9.0,14.0})\n          Predict: 0.0\n         Else (feature 3 not in {5.0,9.0,14.0})\n          Predict: 1.0\n       Else (feature 1 > 55.5)\n        If (feature 0 <= 30.5)\n         Predict: 1.0\n        Else (feature 0 > 30.5)\n         If (feature 0 <= 38.5)\n          Predict: 0.0\n         Else (feature 0 > 38.5)\n          Predict: 1.0\n     Else (feature 3 not in {5.0,6.0,8.0,9.0,10.0,13.0,14.0})\n      If (feature 1 <= 34.5)\n       If (feature 0 <= 35.5)\n        Predict: 0.0\n       Else (feature 0 > 35.5)\n        If (feature 0 <= 55.5)\n         If (feature 1 <= 19.5)\n          Predict: 0.0\n         Else (feature 1 > 19.5)\n          Predict: 1.0\n        Else (feature 0 > 55.5)\n         If (feature 2 <= 14.5)\n          Predict: 0.0\n         Else (feature 2 > 14.5)\n          Predict: 1.0\n      Else (feature 1 > 34.5)\n       If (feature 5 in {0.0,1.0,3.0})\n        If (feature 0 <= 25.5)\n         Predict: 0.0\n        Else (feature 0 > 25.5)\n         Predict: 1.0\n       Else (feature 5 not in {0.0,1.0,3.0})\n        If (feature 3 in {7.0,11.0,12.0})\n         Predict: 1.0\n        Else (feature 3 not in {7.0,11.0,12.0})\n         If (feature 0 <= 40.5)\n          Predict: 0.0\n         Else (feature 0 > 40.5)\n          Predict: 1.0\n    Else (feature 3 not in {1.0,3.0,5.0,6.0,7.0,8.0,9.0,10.0,11.0,12.0,13.0,14.0})\n     If (feature 0 <= 28.5)\n      If (feature 0 <= 25.5)\n       If (feature 1 <= 43.5)\n        If (feature 1 <= 39.5)\n         If (feature 1 <= 34.5)\n          Predict: 0.0\n         Else (feature 1 > 34.5)\n          Predict: 1.0\n        Else (feature 1 > 39.5)\n         Predict: 0.0\n       Else (feature 1 > 43.5)\n        If (feature 1 <= 55.5)\n         Predict: 1.0\n        Else (feature 1 > 55.5)\n         Predict: 0.0\n      Else (feature 0 > 25.5)\n       If (feature 1 <= 20.5)\n        If (feature 2 <= 13.5)\n         Predict: 0.0\n        Else (feature 2 > 13.5)\n         If (feature 0 <= 26.5)\n          Predict: 0.0\n         Else (feature 0 > 26.5)\n          Predict: 1.0\n       Else (feature 1 > 20.5)\n        If (feature 3 in {4.0})\n         Predict: 1.0\n        Else (feature 3 not in {4.0})\n         If (feature 1 <= 60.5)\n          Predict: 1.0\n         Else (feature 1 > 60.5)\n          Predict: 0.0\n     Else (feature 0 > 28.5)\n      If (feature 1 <= 25.5)\n       If (feature 0 <= 49.5)\n        If (feature 0 <= 30.5)\n         If (feature 2 <= 14.5)\n          Predict: 0.0\n         Else (feature 2 > 14.5)\n          Predict: 1.0\n        Else (feature 0 > 30.5)\n         Predict: 1.0\n       Else (feature 0 > 49.5)\n        If (feature 0 <= 55.5)\n         Predict: 0.0\n        Else (feature 0 > 55.5)\n         If (feature 2 <= 15.5)\n          Predict: 0.0\n         Else (feature 2 > 15.5)\n          Predict: 1.0\n      Else (feature 1 > 25.5)\n       If (feature 2 <= 13.5)\n        If (feature 3 in {0.0,4.0})\n         If (feature 1 <= 30.5)\n          Predict: 0.0\n         Else (feature 1 > 30.5)\n          Predict: 1.0\n        Else (feature 3 not in {0.0,4.0})\n         Predict: 1.0\n       Else (feature 2 > 13.5)\n        Predict: 1.0\n\n"
     ]
    }
   ],
   "source": [
    "model = pipeline.fit(df_data)\n",
    "\n",
    "decision_tree = model.stages[-1]\n",
    "print(decision_tree.toDebugString)"
   ]
  },
  {
   "cell_type": "code",
   "execution_count": 9,
   "metadata": {},
   "outputs": [
    {
     "output_type": "execute_result",
     "data": {
      "text/plain": [
       "                 age workclass        fnlwgt education  education-num  \\\n",
       "count   16281.000000     16281  1.628100e+04     16281   16281.000000   \n",
       "unique           NaN         9           NaN        16            NaN   \n",
       "top              NaN   Private           NaN   HS-grad            NaN   \n",
       "freq             NaN     11210           NaN      5283            NaN   \n",
       "mean       38.767459       NaN  1.894357e+05       NaN      10.072907   \n",
       "std        13.849187       NaN  1.057149e+05       NaN       2.567545   \n",
       "min        17.000000       NaN  1.349200e+04       NaN       1.000000   \n",
       "25%        28.000000       NaN  1.167360e+05       NaN       9.000000   \n",
       "50%        37.000000       NaN  1.778310e+05       NaN      10.000000   \n",
       "75%        48.000000       NaN  2.383840e+05       NaN      12.000000   \n",
       "max        90.000000       NaN  1.490400e+06       NaN      16.000000   \n",
       "\n",
       "             marital-status       occupation relationship    race    sex  ...  \\\n",
       "count                 16281            16281        16281   16281  16281  ...   \n",
       "unique                    7               15            6       5      2  ...   \n",
       "top      Married-civ-spouse   Prof-specialty      Husband   White   Male  ...   \n",
       "freq                   7403             2032         6523   13946  10860  ...   \n",
       "mean                    NaN              NaN          NaN     NaN    NaN  ...   \n",
       "std                     NaN              NaN          NaN     NaN    NaN  ...   \n",
       "min                     NaN              NaN          NaN     NaN    NaN  ...   \n",
       "25%                     NaN              NaN          NaN     NaN    NaN  ...   \n",
       "50%                     NaN              NaN          NaN     NaN    NaN  ...   \n",
       "75%                     NaN              NaN          NaN     NaN    NaN  ...   \n",
       "max                     NaN              NaN          NaN     NaN    NaN  ...   \n",
       "\n",
       "        salary  occupation_index  marital-status_index salary_indexed  \\\n",
       "count    16281      16281.000000          16281.000000   16281.000000   \n",
       "unique       2               NaN                   NaN            NaN   \n",
       "top      <=50K               NaN                   NaN            NaN   \n",
       "freq     12435               NaN                   NaN            NaN   \n",
       "mean       NaN          4.198452              0.894478       0.236226   \n",
       "std        NaN          3.294846              1.104678       0.424776   \n",
       "min        NaN          0.000000              0.000000       0.000000   \n",
       "25%        NaN          2.000000              0.000000       0.000000   \n",
       "50%        NaN          4.000000              1.000000       0.000000   \n",
       "75%        NaN          6.000000              1.000000       0.000000   \n",
       "max        NaN         14.000000              6.000000       1.000000   \n",
       "\n",
       "        age_bucketed  hours-per-week_bucketed  \\\n",
       "count   16281.000000             16281.000000   \n",
       "unique           NaN                      NaN   \n",
       "top              NaN                      NaN   \n",
       "freq             NaN                      NaN   \n",
       "mean        1.350716                 1.400098   \n",
       "std         0.867564                 0.994016   \n",
       "min         0.000000                 0.000000   \n",
       "25%         1.000000                 1.000000   \n",
       "50%         1.000000                 1.000000   \n",
       "75%         2.000000                 2.000000   \n",
       "max         3.000000                 4.000000   \n",
       "\n",
       "                              vector_col     rawPrediction  \\\n",
       "count                              16281             16281   \n",
       "unique                             11844                86   \n",
       "top     [36.0, 40.0, 9.0, 1.0, 0.0, 1.0]  [11227.0, 231.0]   \n",
       "freq                                  22              5808   \n",
       "mean                                 NaN               NaN   \n",
       "std                                  NaN               NaN   \n",
       "min                                  NaN               NaN   \n",
       "25%                                  NaN               NaN   \n",
       "50%                                  NaN               NaN   \n",
       "75%                                  NaN               NaN   \n",
       "max                                  NaN               NaN   \n",
       "\n",
       "                                       probability    prediction  \n",
       "count                                        16281  16281.000000  \n",
       "unique                                          71           NaN  \n",
       "top     [0.9798394135102112, 0.020160586489788794]           NaN  \n",
       "freq                                          5808           NaN  \n",
       "mean                                           NaN      0.191266  \n",
       "std                                            NaN      0.393310  \n",
       "min                                            NaN      0.000000  \n",
       "25%                                            NaN      0.000000  \n",
       "50%                                            NaN      0.000000  \n",
       "75%                                            NaN      0.000000  \n",
       "max                                            NaN      1.000000  \n",
       "\n",
       "[11 rows x 24 columns]"
      ],
      "text/html": "<div>\n<style scoped>\n    .dataframe tbody tr th:only-of-type {\n        vertical-align: middle;\n    }\n\n    .dataframe tbody tr th {\n        vertical-align: top;\n    }\n\n    .dataframe thead th {\n        text-align: right;\n    }\n</style>\n<table border=\"1\" class=\"dataframe\">\n  <thead>\n    <tr style=\"text-align: right;\">\n      <th></th>\n      <th>age</th>\n      <th>workclass</th>\n      <th>fnlwgt</th>\n      <th>education</th>\n      <th>education-num</th>\n      <th>marital-status</th>\n      <th>occupation</th>\n      <th>relationship</th>\n      <th>race</th>\n      <th>sex</th>\n      <th>...</th>\n      <th>salary</th>\n      <th>occupation_index</th>\n      <th>marital-status_index</th>\n      <th>salary_indexed</th>\n      <th>age_bucketed</th>\n      <th>hours-per-week_bucketed</th>\n      <th>vector_col</th>\n      <th>rawPrediction</th>\n      <th>probability</th>\n      <th>prediction</th>\n    </tr>\n  </thead>\n  <tbody>\n    <tr>\n      <th>count</th>\n      <td>16281.000000</td>\n      <td>16281</td>\n      <td>1.628100e+04</td>\n      <td>16281</td>\n      <td>16281.000000</td>\n      <td>16281</td>\n      <td>16281</td>\n      <td>16281</td>\n      <td>16281</td>\n      <td>16281</td>\n      <td>...</td>\n      <td>16281</td>\n      <td>16281.000000</td>\n      <td>16281.000000</td>\n      <td>16281.000000</td>\n      <td>16281.000000</td>\n      <td>16281.000000</td>\n      <td>16281</td>\n      <td>16281</td>\n      <td>16281</td>\n      <td>16281.000000</td>\n    </tr>\n    <tr>\n      <th>unique</th>\n      <td>NaN</td>\n      <td>9</td>\n      <td>NaN</td>\n      <td>16</td>\n      <td>NaN</td>\n      <td>7</td>\n      <td>15</td>\n      <td>6</td>\n      <td>5</td>\n      <td>2</td>\n      <td>...</td>\n      <td>2</td>\n      <td>NaN</td>\n      <td>NaN</td>\n      <td>NaN</td>\n      <td>NaN</td>\n      <td>NaN</td>\n      <td>11844</td>\n      <td>86</td>\n      <td>71</td>\n      <td>NaN</td>\n    </tr>\n    <tr>\n      <th>top</th>\n      <td>NaN</td>\n      <td>Private</td>\n      <td>NaN</td>\n      <td>HS-grad</td>\n      <td>NaN</td>\n      <td>Married-civ-spouse</td>\n      <td>Prof-specialty</td>\n      <td>Husband</td>\n      <td>White</td>\n      <td>Male</td>\n      <td>...</td>\n      <td>&lt;=50K</td>\n      <td>NaN</td>\n      <td>NaN</td>\n      <td>NaN</td>\n      <td>NaN</td>\n      <td>NaN</td>\n      <td>[36.0, 40.0, 9.0, 1.0, 0.0, 1.0]</td>\n      <td>[11227.0, 231.0]</td>\n      <td>[0.9798394135102112, 0.020160586489788794]</td>\n      <td>NaN</td>\n    </tr>\n    <tr>\n      <th>freq</th>\n      <td>NaN</td>\n      <td>11210</td>\n      <td>NaN</td>\n      <td>5283</td>\n      <td>NaN</td>\n      <td>7403</td>\n      <td>2032</td>\n      <td>6523</td>\n      <td>13946</td>\n      <td>10860</td>\n      <td>...</td>\n      <td>12435</td>\n      <td>NaN</td>\n      <td>NaN</td>\n      <td>NaN</td>\n      <td>NaN</td>\n      <td>NaN</td>\n      <td>22</td>\n      <td>5808</td>\n      <td>5808</td>\n      <td>NaN</td>\n    </tr>\n    <tr>\n      <th>mean</th>\n      <td>38.767459</td>\n      <td>NaN</td>\n      <td>1.894357e+05</td>\n      <td>NaN</td>\n      <td>10.072907</td>\n      <td>NaN</td>\n      <td>NaN</td>\n      <td>NaN</td>\n      <td>NaN</td>\n      <td>NaN</td>\n      <td>...</td>\n      <td>NaN</td>\n      <td>4.198452</td>\n      <td>0.894478</td>\n      <td>0.236226</td>\n      <td>1.350716</td>\n      <td>1.400098</td>\n      <td>NaN</td>\n      <td>NaN</td>\n      <td>NaN</td>\n      <td>0.191266</td>\n    </tr>\n    <tr>\n      <th>std</th>\n      <td>13.849187</td>\n      <td>NaN</td>\n      <td>1.057149e+05</td>\n      <td>NaN</td>\n      <td>2.567545</td>\n      <td>NaN</td>\n      <td>NaN</td>\n      <td>NaN</td>\n      <td>NaN</td>\n      <td>NaN</td>\n      <td>...</td>\n      <td>NaN</td>\n      <td>3.294846</td>\n      <td>1.104678</td>\n      <td>0.424776</td>\n      <td>0.867564</td>\n      <td>0.994016</td>\n      <td>NaN</td>\n      <td>NaN</td>\n      <td>NaN</td>\n      <td>0.393310</td>\n    </tr>\n    <tr>\n      <th>min</th>\n      <td>17.000000</td>\n      <td>NaN</td>\n      <td>1.349200e+04</td>\n      <td>NaN</td>\n      <td>1.000000</td>\n      <td>NaN</td>\n      <td>NaN</td>\n      <td>NaN</td>\n      <td>NaN</td>\n      <td>NaN</td>\n      <td>...</td>\n      <td>NaN</td>\n      <td>0.000000</td>\n      <td>0.000000</td>\n      <td>0.000000</td>\n      <td>0.000000</td>\n      <td>0.000000</td>\n      <td>NaN</td>\n      <td>NaN</td>\n      <td>NaN</td>\n      <td>0.000000</td>\n    </tr>\n    <tr>\n      <th>25%</th>\n      <td>28.000000</td>\n      <td>NaN</td>\n      <td>1.167360e+05</td>\n      <td>NaN</td>\n      <td>9.000000</td>\n      <td>NaN</td>\n      <td>NaN</td>\n      <td>NaN</td>\n      <td>NaN</td>\n      <td>NaN</td>\n      <td>...</td>\n      <td>NaN</td>\n      <td>2.000000</td>\n      <td>0.000000</td>\n      <td>0.000000</td>\n      <td>1.000000</td>\n      <td>1.000000</td>\n      <td>NaN</td>\n      <td>NaN</td>\n      <td>NaN</td>\n      <td>0.000000</td>\n    </tr>\n    <tr>\n      <th>50%</th>\n      <td>37.000000</td>\n      <td>NaN</td>\n      <td>1.778310e+05</td>\n      <td>NaN</td>\n      <td>10.000000</td>\n      <td>NaN</td>\n      <td>NaN</td>\n      <td>NaN</td>\n      <td>NaN</td>\n      <td>NaN</td>\n      <td>...</td>\n      <td>NaN</td>\n      <td>4.000000</td>\n      <td>1.000000</td>\n      <td>0.000000</td>\n      <td>1.000000</td>\n      <td>1.000000</td>\n      <td>NaN</td>\n      <td>NaN</td>\n      <td>NaN</td>\n      <td>0.000000</td>\n    </tr>\n    <tr>\n      <th>75%</th>\n      <td>48.000000</td>\n      <td>NaN</td>\n      <td>2.383840e+05</td>\n      <td>NaN</td>\n      <td>12.000000</td>\n      <td>NaN</td>\n      <td>NaN</td>\n      <td>NaN</td>\n      <td>NaN</td>\n      <td>NaN</td>\n      <td>...</td>\n      <td>NaN</td>\n      <td>6.000000</td>\n      <td>1.000000</td>\n      <td>0.000000</td>\n      <td>2.000000</td>\n      <td>2.000000</td>\n      <td>NaN</td>\n      <td>NaN</td>\n      <td>NaN</td>\n      <td>0.000000</td>\n    </tr>\n    <tr>\n      <th>max</th>\n      <td>90.000000</td>\n      <td>NaN</td>\n      <td>1.490400e+06</td>\n      <td>NaN</td>\n      <td>16.000000</td>\n      <td>NaN</td>\n      <td>NaN</td>\n      <td>NaN</td>\n      <td>NaN</td>\n      <td>NaN</td>\n      <td>...</td>\n      <td>NaN</td>\n      <td>14.000000</td>\n      <td>6.000000</td>\n      <td>1.000000</td>\n      <td>3.000000</td>\n      <td>4.000000</td>\n      <td>NaN</td>\n      <td>NaN</td>\n      <td>NaN</td>\n      <td>1.000000</td>\n    </tr>\n  </tbody>\n</table>\n<p>11 rows × 24 columns</p>\n</div>"
     },
     "metadata": {},
     "execution_count": 9
    }
   ],
   "source": [
    "predictions_in_training = model.transform(df_data)\n",
    "predictions = model.transform(df_test)\n",
    "\n",
    "predictions.toPandas().describe(include = 'all')\n",
    "# predictions.select([\"prediction\", \"salary_indexed\"]).show(15)"
   ]
  },
  {
   "cell_type": "code",
   "execution_count": 10,
   "metadata": {},
   "outputs": [
    {
     "output_type": "stream",
     "name": "stdout",
     "text": [
      "hits/total: 0.8400847639814502\n",
      "   prediction  salary_indexed  count\n",
      "0         1.0             1.0   4464\n",
      "1         0.0             1.0   3377\n",
      "2         1.0             0.0   1830\n",
      "3         0.0             0.0  22890\n",
      "\n",
      "\n",
      "\n",
      "hits/total: 0.8345310484613967\n",
      "   prediction  salary_indexed  count\n",
      "0         1.0             1.0   2133\n",
      "1         0.0             1.0   1713\n",
      "2         1.0             0.0    981\n",
      "3         0.0             0.0  11454\n"
     ]
    }
   ],
   "source": [
    "def get_confusion_matrix(predictions):\n",
    "    confusion=predictions.groupBy(\"prediction\", 'salary_indexed').count()\n",
    "    confusion_collected = confusion.collect()\n",
    "    hits = 0\n",
    "    total = 0\n",
    "    for row in confusion_collected:\n",
    "        total += row[2]\n",
    "        if row[0]==row[1]:\n",
    "            hits += row[2]\n",
    "\n",
    "    print(f\"hits/total: {hits/total}\")\n",
    "    \n",
    "    return confusion.toPandas()\n",
    "\n",
    "print(get_confusion_matrix(predictions_in_training), end='\\n'*4)\n",
    "print(get_confusion_matrix(predictions))"
   ]
  },
  {
   "cell_type": "markdown",
   "metadata": {},
   "source": [
    "4. Graficar la curva ROC utilizando los datos de validación (sin usar el paquete de evluación de Spark pyspark.ml.evaluation)"
   ]
  },
  {
   "cell_type": "code",
   "execution_count": 11,
   "metadata": {
    "tags": []
   },
   "outputs": [
    {
     "output_type": "display_data",
     "data": {
      "text/plain": "<Figure size 432x288 with 1 Axes>",
      "image/svg+xml": "<?xml version=\"1.0\" encoding=\"utf-8\" standalone=\"no\"?>\n<!DOCTYPE svg PUBLIC \"-//W3C//DTD SVG 1.1//EN\"\n  \"http://www.w3.org/Graphics/SVG/1.1/DTD/svg11.dtd\">\n<svg height=\"265.995469pt\" version=\"1.1\" viewBox=\"0 0 393.732813 265.995469\" width=\"393.732813pt\" xmlns=\"http://www.w3.org/2000/svg\" xmlns:xlink=\"http://www.w3.org/1999/xlink\">\n <metadata>\n  <rdf:RDF xmlns:cc=\"http://creativecommons.org/ns#\" xmlns:dc=\"http://purl.org/dc/elements/1.1/\" xmlns:rdf=\"http://www.w3.org/1999/02/22-rdf-syntax-ns#\">\n   <cc:Work>\n    <dc:type rdf:resource=\"http://purl.org/dc/dcmitype/StillImage\"/>\n    <dc:date>2021-05-11T23:03:03.138892</dc:date>\n    <dc:format>image/svg+xml</dc:format>\n    <dc:creator>\n     <cc:Agent>\n      <dc:title>Matplotlib v3.4.2, https://matplotlib.org/</dc:title>\n     </cc:Agent>\n    </dc:creator>\n   </cc:Work>\n  </rdf:RDF>\n </metadata>\n <defs>\n  <style type=\"text/css\">*{stroke-linecap:butt;stroke-linejoin:round;}</style>\n </defs>\n <g id=\"figure_1\">\n  <g id=\"patch_1\">\n   <path d=\"M 0 265.995469 \nL 393.732813 265.995469 \nL 393.732813 0 \nL 0 0 \nz\n\" style=\"fill:none;\"/>\n  </g>\n  <g id=\"axes_1\">\n   <g id=\"patch_2\">\n    <path d=\"M 43.78125 228.439219 \nL 378.58125 228.439219 \nL 378.58125 10.999219 \nL 43.78125 10.999219 \nz\n\" style=\"fill:#ffffff;\"/>\n   </g>\n   <g id=\"matplotlib.axis_1\">\n    <g id=\"xtick_1\">\n     <g id=\"line2d_1\">\n      <defs>\n       <path d=\"M 0 0 \nL 0 3.5 \n\" id=\"m19c66f65e8\" style=\"stroke:#000000;stroke-width:0.8;\"/>\n      </defs>\n      <g>\n       <use style=\"stroke:#000000;stroke-width:0.8;\" x=\"43.78125\" xlink:href=\"#m19c66f65e8\" y=\"228.439219\"/>\n      </g>\n     </g>\n     <g id=\"text_1\">\n      <!-- 0.0 -->\n      <g transform=\"translate(35.829688 243.037656)scale(0.1 -0.1)\">\n       <defs>\n        <path d=\"M 2034 4250 \nQ 1547 4250 1301 3770 \nQ 1056 3291 1056 2328 \nQ 1056 1369 1301 889 \nQ 1547 409 2034 409 \nQ 2525 409 2770 889 \nQ 3016 1369 3016 2328 \nQ 3016 3291 2770 3770 \nQ 2525 4250 2034 4250 \nz\nM 2034 4750 \nQ 2819 4750 3233 4129 \nQ 3647 3509 3647 2328 \nQ 3647 1150 3233 529 \nQ 2819 -91 2034 -91 \nQ 1250 -91 836 529 \nQ 422 1150 422 2328 \nQ 422 3509 836 4129 \nQ 1250 4750 2034 4750 \nz\n\" id=\"DejaVuSans-30\" transform=\"scale(0.015625)\"/>\n        <path d=\"M 684 794 \nL 1344 794 \nL 1344 0 \nL 684 0 \nL 684 794 \nz\n\" id=\"DejaVuSans-2e\" transform=\"scale(0.015625)\"/>\n       </defs>\n       <use xlink:href=\"#DejaVuSans-30\"/>\n       <use x=\"63.623047\" xlink:href=\"#DejaVuSans-2e\"/>\n       <use x=\"95.410156\" xlink:href=\"#DejaVuSans-30\"/>\n      </g>\n     </g>\n    </g>\n    <g id=\"xtick_2\">\n     <g id=\"line2d_2\">\n      <g>\n       <use style=\"stroke:#000000;stroke-width:0.8;\" x=\"110.74125\" xlink:href=\"#m19c66f65e8\" y=\"228.439219\"/>\n      </g>\n     </g>\n     <g id=\"text_2\">\n      <!-- 0.2 -->\n      <g transform=\"translate(102.789688 243.037656)scale(0.1 -0.1)\">\n       <defs>\n        <path d=\"M 1228 531 \nL 3431 531 \nL 3431 0 \nL 469 0 \nL 469 531 \nQ 828 903 1448 1529 \nQ 2069 2156 2228 2338 \nQ 2531 2678 2651 2914 \nQ 2772 3150 2772 3378 \nQ 2772 3750 2511 3984 \nQ 2250 4219 1831 4219 \nQ 1534 4219 1204 4116 \nQ 875 4013 500 3803 \nL 500 4441 \nQ 881 4594 1212 4672 \nQ 1544 4750 1819 4750 \nQ 2544 4750 2975 4387 \nQ 3406 4025 3406 3419 \nQ 3406 3131 3298 2873 \nQ 3191 2616 2906 2266 \nQ 2828 2175 2409 1742 \nQ 1991 1309 1228 531 \nz\n\" id=\"DejaVuSans-32\" transform=\"scale(0.015625)\"/>\n       </defs>\n       <use xlink:href=\"#DejaVuSans-30\"/>\n       <use x=\"63.623047\" xlink:href=\"#DejaVuSans-2e\"/>\n       <use x=\"95.410156\" xlink:href=\"#DejaVuSans-32\"/>\n      </g>\n     </g>\n    </g>\n    <g id=\"xtick_3\">\n     <g id=\"line2d_3\">\n      <g>\n       <use style=\"stroke:#000000;stroke-width:0.8;\" x=\"177.70125\" xlink:href=\"#m19c66f65e8\" y=\"228.439219\"/>\n      </g>\n     </g>\n     <g id=\"text_3\">\n      <!-- 0.4 -->\n      <g transform=\"translate(169.749688 243.037656)scale(0.1 -0.1)\">\n       <defs>\n        <path d=\"M 2419 4116 \nL 825 1625 \nL 2419 1625 \nL 2419 4116 \nz\nM 2253 4666 \nL 3047 4666 \nL 3047 1625 \nL 3713 1625 \nL 3713 1100 \nL 3047 1100 \nL 3047 0 \nL 2419 0 \nL 2419 1100 \nL 313 1100 \nL 313 1709 \nL 2253 4666 \nz\n\" id=\"DejaVuSans-34\" transform=\"scale(0.015625)\"/>\n       </defs>\n       <use xlink:href=\"#DejaVuSans-30\"/>\n       <use x=\"63.623047\" xlink:href=\"#DejaVuSans-2e\"/>\n       <use x=\"95.410156\" xlink:href=\"#DejaVuSans-34\"/>\n      </g>\n     </g>\n    </g>\n    <g id=\"xtick_4\">\n     <g id=\"line2d_4\">\n      <g>\n       <use style=\"stroke:#000000;stroke-width:0.8;\" x=\"244.66125\" xlink:href=\"#m19c66f65e8\" y=\"228.439219\"/>\n      </g>\n     </g>\n     <g id=\"text_4\">\n      <!-- 0.6 -->\n      <g transform=\"translate(236.709688 243.037656)scale(0.1 -0.1)\">\n       <defs>\n        <path d=\"M 2113 2584 \nQ 1688 2584 1439 2293 \nQ 1191 2003 1191 1497 \nQ 1191 994 1439 701 \nQ 1688 409 2113 409 \nQ 2538 409 2786 701 \nQ 3034 994 3034 1497 \nQ 3034 2003 2786 2293 \nQ 2538 2584 2113 2584 \nz\nM 3366 4563 \nL 3366 3988 \nQ 3128 4100 2886 4159 \nQ 2644 4219 2406 4219 \nQ 1781 4219 1451 3797 \nQ 1122 3375 1075 2522 \nQ 1259 2794 1537 2939 \nQ 1816 3084 2150 3084 \nQ 2853 3084 3261 2657 \nQ 3669 2231 3669 1497 \nQ 3669 778 3244 343 \nQ 2819 -91 2113 -91 \nQ 1303 -91 875 529 \nQ 447 1150 447 2328 \nQ 447 3434 972 4092 \nQ 1497 4750 2381 4750 \nQ 2619 4750 2861 4703 \nQ 3103 4656 3366 4563 \nz\n\" id=\"DejaVuSans-36\" transform=\"scale(0.015625)\"/>\n       </defs>\n       <use xlink:href=\"#DejaVuSans-30\"/>\n       <use x=\"63.623047\" xlink:href=\"#DejaVuSans-2e\"/>\n       <use x=\"95.410156\" xlink:href=\"#DejaVuSans-36\"/>\n      </g>\n     </g>\n    </g>\n    <g id=\"xtick_5\">\n     <g id=\"line2d_5\">\n      <g>\n       <use style=\"stroke:#000000;stroke-width:0.8;\" x=\"311.62125\" xlink:href=\"#m19c66f65e8\" y=\"228.439219\"/>\n      </g>\n     </g>\n     <g id=\"text_5\">\n      <!-- 0.8 -->\n      <g transform=\"translate(303.669688 243.037656)scale(0.1 -0.1)\">\n       <defs>\n        <path d=\"M 2034 2216 \nQ 1584 2216 1326 1975 \nQ 1069 1734 1069 1313 \nQ 1069 891 1326 650 \nQ 1584 409 2034 409 \nQ 2484 409 2743 651 \nQ 3003 894 3003 1313 \nQ 3003 1734 2745 1975 \nQ 2488 2216 2034 2216 \nz\nM 1403 2484 \nQ 997 2584 770 2862 \nQ 544 3141 544 3541 \nQ 544 4100 942 4425 \nQ 1341 4750 2034 4750 \nQ 2731 4750 3128 4425 \nQ 3525 4100 3525 3541 \nQ 3525 3141 3298 2862 \nQ 3072 2584 2669 2484 \nQ 3125 2378 3379 2068 \nQ 3634 1759 3634 1313 \nQ 3634 634 3220 271 \nQ 2806 -91 2034 -91 \nQ 1263 -91 848 271 \nQ 434 634 434 1313 \nQ 434 1759 690 2068 \nQ 947 2378 1403 2484 \nz\nM 1172 3481 \nQ 1172 3119 1398 2916 \nQ 1625 2713 2034 2713 \nQ 2441 2713 2670 2916 \nQ 2900 3119 2900 3481 \nQ 2900 3844 2670 4047 \nQ 2441 4250 2034 4250 \nQ 1625 4250 1398 4047 \nQ 1172 3844 1172 3481 \nz\n\" id=\"DejaVuSans-38\" transform=\"scale(0.015625)\"/>\n       </defs>\n       <use xlink:href=\"#DejaVuSans-30\"/>\n       <use x=\"63.623047\" xlink:href=\"#DejaVuSans-2e\"/>\n       <use x=\"95.410156\" xlink:href=\"#DejaVuSans-38\"/>\n      </g>\n     </g>\n    </g>\n    <g id=\"xtick_6\">\n     <g id=\"line2d_6\">\n      <g>\n       <use style=\"stroke:#000000;stroke-width:0.8;\" x=\"378.58125\" xlink:href=\"#m19c66f65e8\" y=\"228.439219\"/>\n      </g>\n     </g>\n     <g id=\"text_6\">\n      <!-- 1.0 -->\n      <g transform=\"translate(370.629687 243.037656)scale(0.1 -0.1)\">\n       <defs>\n        <path d=\"M 794 531 \nL 1825 531 \nL 1825 4091 \nL 703 3866 \nL 703 4441 \nL 1819 4666 \nL 2450 4666 \nL 2450 531 \nL 3481 531 \nL 3481 0 \nL 794 0 \nL 794 531 \nz\n\" id=\"DejaVuSans-31\" transform=\"scale(0.015625)\"/>\n       </defs>\n       <use xlink:href=\"#DejaVuSans-31\"/>\n       <use x=\"63.623047\" xlink:href=\"#DejaVuSans-2e\"/>\n       <use x=\"95.410156\" xlink:href=\"#DejaVuSans-30\"/>\n      </g>\n     </g>\n    </g>\n    <g id=\"text_7\">\n     <!-- False positive rate -->\n     <g transform=\"translate(165.680469 256.715781)scale(0.1 -0.1)\">\n      <defs>\n       <path d=\"M 628 4666 \nL 3309 4666 \nL 3309 4134 \nL 1259 4134 \nL 1259 2759 \nL 3109 2759 \nL 3109 2228 \nL 1259 2228 \nL 1259 0 \nL 628 0 \nL 628 4666 \nz\n\" id=\"DejaVuSans-46\" transform=\"scale(0.015625)\"/>\n       <path d=\"M 2194 1759 \nQ 1497 1759 1228 1600 \nQ 959 1441 959 1056 \nQ 959 750 1161 570 \nQ 1363 391 1709 391 \nQ 2188 391 2477 730 \nQ 2766 1069 2766 1631 \nL 2766 1759 \nL 2194 1759 \nz\nM 3341 1997 \nL 3341 0 \nL 2766 0 \nL 2766 531 \nQ 2569 213 2275 61 \nQ 1981 -91 1556 -91 \nQ 1019 -91 701 211 \nQ 384 513 384 1019 \nQ 384 1609 779 1909 \nQ 1175 2209 1959 2209 \nL 2766 2209 \nL 2766 2266 \nQ 2766 2663 2505 2880 \nQ 2244 3097 1772 3097 \nQ 1472 3097 1187 3025 \nQ 903 2953 641 2809 \nL 641 3341 \nQ 956 3463 1253 3523 \nQ 1550 3584 1831 3584 \nQ 2591 3584 2966 3190 \nQ 3341 2797 3341 1997 \nz\n\" id=\"DejaVuSans-61\" transform=\"scale(0.015625)\"/>\n       <path d=\"M 603 4863 \nL 1178 4863 \nL 1178 0 \nL 603 0 \nL 603 4863 \nz\n\" id=\"DejaVuSans-6c\" transform=\"scale(0.015625)\"/>\n       <path d=\"M 2834 3397 \nL 2834 2853 \nQ 2591 2978 2328 3040 \nQ 2066 3103 1784 3103 \nQ 1356 3103 1142 2972 \nQ 928 2841 928 2578 \nQ 928 2378 1081 2264 \nQ 1234 2150 1697 2047 \nL 1894 2003 \nQ 2506 1872 2764 1633 \nQ 3022 1394 3022 966 \nQ 3022 478 2636 193 \nQ 2250 -91 1575 -91 \nQ 1294 -91 989 -36 \nQ 684 19 347 128 \nL 347 722 \nQ 666 556 975 473 \nQ 1284 391 1588 391 \nQ 1994 391 2212 530 \nQ 2431 669 2431 922 \nQ 2431 1156 2273 1281 \nQ 2116 1406 1581 1522 \nL 1381 1569 \nQ 847 1681 609 1914 \nQ 372 2147 372 2553 \nQ 372 3047 722 3315 \nQ 1072 3584 1716 3584 \nQ 2034 3584 2315 3537 \nQ 2597 3491 2834 3397 \nz\n\" id=\"DejaVuSans-73\" transform=\"scale(0.015625)\"/>\n       <path d=\"M 3597 1894 \nL 3597 1613 \nL 953 1613 \nQ 991 1019 1311 708 \nQ 1631 397 2203 397 \nQ 2534 397 2845 478 \nQ 3156 559 3463 722 \nL 3463 178 \nQ 3153 47 2828 -22 \nQ 2503 -91 2169 -91 \nQ 1331 -91 842 396 \nQ 353 884 353 1716 \nQ 353 2575 817 3079 \nQ 1281 3584 2069 3584 \nQ 2775 3584 3186 3129 \nQ 3597 2675 3597 1894 \nz\nM 3022 2063 \nQ 3016 2534 2758 2815 \nQ 2500 3097 2075 3097 \nQ 1594 3097 1305 2825 \nQ 1016 2553 972 2059 \nL 3022 2063 \nz\n\" id=\"DejaVuSans-65\" transform=\"scale(0.015625)\"/>\n       <path id=\"DejaVuSans-20\" transform=\"scale(0.015625)\"/>\n       <path d=\"M 1159 525 \nL 1159 -1331 \nL 581 -1331 \nL 581 3500 \nL 1159 3500 \nL 1159 2969 \nQ 1341 3281 1617 3432 \nQ 1894 3584 2278 3584 \nQ 2916 3584 3314 3078 \nQ 3713 2572 3713 1747 \nQ 3713 922 3314 415 \nQ 2916 -91 2278 -91 \nQ 1894 -91 1617 61 \nQ 1341 213 1159 525 \nz\nM 3116 1747 \nQ 3116 2381 2855 2742 \nQ 2594 3103 2138 3103 \nQ 1681 3103 1420 2742 \nQ 1159 2381 1159 1747 \nQ 1159 1113 1420 752 \nQ 1681 391 2138 391 \nQ 2594 391 2855 752 \nQ 3116 1113 3116 1747 \nz\n\" id=\"DejaVuSans-70\" transform=\"scale(0.015625)\"/>\n       <path d=\"M 1959 3097 \nQ 1497 3097 1228 2736 \nQ 959 2375 959 1747 \nQ 959 1119 1226 758 \nQ 1494 397 1959 397 \nQ 2419 397 2687 759 \nQ 2956 1122 2956 1747 \nQ 2956 2369 2687 2733 \nQ 2419 3097 1959 3097 \nz\nM 1959 3584 \nQ 2709 3584 3137 3096 \nQ 3566 2609 3566 1747 \nQ 3566 888 3137 398 \nQ 2709 -91 1959 -91 \nQ 1206 -91 779 398 \nQ 353 888 353 1747 \nQ 353 2609 779 3096 \nQ 1206 3584 1959 3584 \nz\n\" id=\"DejaVuSans-6f\" transform=\"scale(0.015625)\"/>\n       <path d=\"M 603 3500 \nL 1178 3500 \nL 1178 0 \nL 603 0 \nL 603 3500 \nz\nM 603 4863 \nL 1178 4863 \nL 1178 4134 \nL 603 4134 \nL 603 4863 \nz\n\" id=\"DejaVuSans-69\" transform=\"scale(0.015625)\"/>\n       <path d=\"M 1172 4494 \nL 1172 3500 \nL 2356 3500 \nL 2356 3053 \nL 1172 3053 \nL 1172 1153 \nQ 1172 725 1289 603 \nQ 1406 481 1766 481 \nL 2356 481 \nL 2356 0 \nL 1766 0 \nQ 1100 0 847 248 \nQ 594 497 594 1153 \nL 594 3053 \nL 172 3053 \nL 172 3500 \nL 594 3500 \nL 594 4494 \nL 1172 4494 \nz\n\" id=\"DejaVuSans-74\" transform=\"scale(0.015625)\"/>\n       <path d=\"M 191 3500 \nL 800 3500 \nL 1894 563 \nL 2988 3500 \nL 3597 3500 \nL 2284 0 \nL 1503 0 \nL 191 3500 \nz\n\" id=\"DejaVuSans-76\" transform=\"scale(0.015625)\"/>\n       <path d=\"M 2631 2963 \nQ 2534 3019 2420 3045 \nQ 2306 3072 2169 3072 \nQ 1681 3072 1420 2755 \nQ 1159 2438 1159 1844 \nL 1159 0 \nL 581 0 \nL 581 3500 \nL 1159 3500 \nL 1159 2956 \nQ 1341 3275 1631 3429 \nQ 1922 3584 2338 3584 \nQ 2397 3584 2469 3576 \nQ 2541 3569 2628 3553 \nL 2631 2963 \nz\n\" id=\"DejaVuSans-72\" transform=\"scale(0.015625)\"/>\n      </defs>\n      <use xlink:href=\"#DejaVuSans-46\"/>\n      <use x=\"48.394531\" xlink:href=\"#DejaVuSans-61\"/>\n      <use x=\"109.673828\" xlink:href=\"#DejaVuSans-6c\"/>\n      <use x=\"137.457031\" xlink:href=\"#DejaVuSans-73\"/>\n      <use x=\"189.556641\" xlink:href=\"#DejaVuSans-65\"/>\n      <use x=\"251.080078\" xlink:href=\"#DejaVuSans-20\"/>\n      <use x=\"282.867188\" xlink:href=\"#DejaVuSans-70\"/>\n      <use x=\"346.34375\" xlink:href=\"#DejaVuSans-6f\"/>\n      <use x=\"407.525391\" xlink:href=\"#DejaVuSans-73\"/>\n      <use x=\"459.625\" xlink:href=\"#DejaVuSans-69\"/>\n      <use x=\"487.408203\" xlink:href=\"#DejaVuSans-74\"/>\n      <use x=\"526.617188\" xlink:href=\"#DejaVuSans-69\"/>\n      <use x=\"554.400391\" xlink:href=\"#DejaVuSans-76\"/>\n      <use x=\"613.580078\" xlink:href=\"#DejaVuSans-65\"/>\n      <use x=\"675.103516\" xlink:href=\"#DejaVuSans-20\"/>\n      <use x=\"706.890625\" xlink:href=\"#DejaVuSans-72\"/>\n      <use x=\"748.003906\" xlink:href=\"#DejaVuSans-61\"/>\n      <use x=\"809.283203\" xlink:href=\"#DejaVuSans-74\"/>\n      <use x=\"848.492188\" xlink:href=\"#DejaVuSans-65\"/>\n     </g>\n    </g>\n   </g>\n   <g id=\"matplotlib.axis_2\">\n    <g id=\"ytick_1\">\n     <g id=\"line2d_7\">\n      <defs>\n       <path d=\"M 0 0 \nL -3.5 0 \n\" id=\"m746c42940e\" style=\"stroke:#000000;stroke-width:0.8;\"/>\n      </defs>\n      <g>\n       <use style=\"stroke:#000000;stroke-width:0.8;\" x=\"43.78125\" xlink:href=\"#m746c42940e\" y=\"228.439219\"/>\n      </g>\n     </g>\n     <g id=\"text_8\">\n      <!-- 0.0 -->\n      <g transform=\"translate(20.878125 232.238437)scale(0.1 -0.1)\">\n       <use xlink:href=\"#DejaVuSans-30\"/>\n       <use x=\"63.623047\" xlink:href=\"#DejaVuSans-2e\"/>\n       <use x=\"95.410156\" xlink:href=\"#DejaVuSans-30\"/>\n      </g>\n     </g>\n    </g>\n    <g id=\"ytick_2\">\n     <g id=\"line2d_8\">\n      <g>\n       <use style=\"stroke:#000000;stroke-width:0.8;\" x=\"43.78125\" xlink:href=\"#m746c42940e\" y=\"184.951219\"/>\n      </g>\n     </g>\n     <g id=\"text_9\">\n      <!-- 0.2 -->\n      <g transform=\"translate(20.878125 188.750437)scale(0.1 -0.1)\">\n       <use xlink:href=\"#DejaVuSans-30\"/>\n       <use x=\"63.623047\" xlink:href=\"#DejaVuSans-2e\"/>\n       <use x=\"95.410156\" xlink:href=\"#DejaVuSans-32\"/>\n      </g>\n     </g>\n    </g>\n    <g id=\"ytick_3\">\n     <g id=\"line2d_9\">\n      <g>\n       <use style=\"stroke:#000000;stroke-width:0.8;\" x=\"43.78125\" xlink:href=\"#m746c42940e\" y=\"141.463219\"/>\n      </g>\n     </g>\n     <g id=\"text_10\">\n      <!-- 0.4 -->\n      <g transform=\"translate(20.878125 145.262437)scale(0.1 -0.1)\">\n       <use xlink:href=\"#DejaVuSans-30\"/>\n       <use x=\"63.623047\" xlink:href=\"#DejaVuSans-2e\"/>\n       <use x=\"95.410156\" xlink:href=\"#DejaVuSans-34\"/>\n      </g>\n     </g>\n    </g>\n    <g id=\"ytick_4\">\n     <g id=\"line2d_10\">\n      <g>\n       <use style=\"stroke:#000000;stroke-width:0.8;\" x=\"43.78125\" xlink:href=\"#m746c42940e\" y=\"97.975219\"/>\n      </g>\n     </g>\n     <g id=\"text_11\">\n      <!-- 0.6 -->\n      <g transform=\"translate(20.878125 101.774437)scale(0.1 -0.1)\">\n       <use xlink:href=\"#DejaVuSans-30\"/>\n       <use x=\"63.623047\" xlink:href=\"#DejaVuSans-2e\"/>\n       <use x=\"95.410156\" xlink:href=\"#DejaVuSans-36\"/>\n      </g>\n     </g>\n    </g>\n    <g id=\"ytick_5\">\n     <g id=\"line2d_11\">\n      <g>\n       <use style=\"stroke:#000000;stroke-width:0.8;\" x=\"43.78125\" xlink:href=\"#m746c42940e\" y=\"54.487219\"/>\n      </g>\n     </g>\n     <g id=\"text_12\">\n      <!-- 0.8 -->\n      <g transform=\"translate(20.878125 58.286437)scale(0.1 -0.1)\">\n       <use xlink:href=\"#DejaVuSans-30\"/>\n       <use x=\"63.623047\" xlink:href=\"#DejaVuSans-2e\"/>\n       <use x=\"95.410156\" xlink:href=\"#DejaVuSans-38\"/>\n      </g>\n     </g>\n    </g>\n    <g id=\"ytick_6\">\n     <g id=\"line2d_12\">\n      <g>\n       <use style=\"stroke:#000000;stroke-width:0.8;\" x=\"43.78125\" xlink:href=\"#m746c42940e\" y=\"10.999219\"/>\n      </g>\n     </g>\n     <g id=\"text_13\">\n      <!-- 1.0 -->\n      <g transform=\"translate(20.878125 14.798437)scale(0.1 -0.1)\">\n       <use xlink:href=\"#DejaVuSans-31\"/>\n       <use x=\"63.623047\" xlink:href=\"#DejaVuSans-2e\"/>\n       <use x=\"95.410156\" xlink:href=\"#DejaVuSans-30\"/>\n      </g>\n     </g>\n    </g>\n    <g id=\"text_14\">\n     <!-- True positive rate -->\n     <g transform=\"translate(14.798438 163.283281)rotate(-90)scale(0.1 -0.1)\">\n      <defs>\n       <path d=\"M -19 4666 \nL 3928 4666 \nL 3928 4134 \nL 2272 4134 \nL 2272 0 \nL 1638 0 \nL 1638 4134 \nL -19 4134 \nL -19 4666 \nz\n\" id=\"DejaVuSans-54\" transform=\"scale(0.015625)\"/>\n       <path d=\"M 544 1381 \nL 544 3500 \nL 1119 3500 \nL 1119 1403 \nQ 1119 906 1312 657 \nQ 1506 409 1894 409 \nQ 2359 409 2629 706 \nQ 2900 1003 2900 1516 \nL 2900 3500 \nL 3475 3500 \nL 3475 0 \nL 2900 0 \nL 2900 538 \nQ 2691 219 2414 64 \nQ 2138 -91 1772 -91 \nQ 1169 -91 856 284 \nQ 544 659 544 1381 \nz\nM 1991 3584 \nL 1991 3584 \nz\n\" id=\"DejaVuSans-75\" transform=\"scale(0.015625)\"/>\n      </defs>\n      <use xlink:href=\"#DejaVuSans-54\"/>\n      <use x=\"46.333984\" xlink:href=\"#DejaVuSans-72\"/>\n      <use x=\"87.447266\" xlink:href=\"#DejaVuSans-75\"/>\n      <use x=\"150.826172\" xlink:href=\"#DejaVuSans-65\"/>\n      <use x=\"212.349609\" xlink:href=\"#DejaVuSans-20\"/>\n      <use x=\"244.136719\" xlink:href=\"#DejaVuSans-70\"/>\n      <use x=\"307.613281\" xlink:href=\"#DejaVuSans-6f\"/>\n      <use x=\"368.794922\" xlink:href=\"#DejaVuSans-73\"/>\n      <use x=\"420.894531\" xlink:href=\"#DejaVuSans-69\"/>\n      <use x=\"448.677734\" xlink:href=\"#DejaVuSans-74\"/>\n      <use x=\"487.886719\" xlink:href=\"#DejaVuSans-69\"/>\n      <use x=\"515.669922\" xlink:href=\"#DejaVuSans-76\"/>\n      <use x=\"574.849609\" xlink:href=\"#DejaVuSans-65\"/>\n      <use x=\"636.373047\" xlink:href=\"#DejaVuSans-20\"/>\n      <use x=\"668.160156\" xlink:href=\"#DejaVuSans-72\"/>\n      <use x=\"709.273438\" xlink:href=\"#DejaVuSans-61\"/>\n      <use x=\"770.552734\" xlink:href=\"#DejaVuSans-74\"/>\n      <use x=\"809.761719\" xlink:href=\"#DejaVuSans-65\"/>\n     </g>\n    </g>\n   </g>\n   <g id=\"line2d_13\">\n    <path clip-path=\"url(#pac65e978ea)\" d=\"M 378.58125 10.999219 \nL 378.494199 11.226538 \nL 378.494199 11.226538 \nL 378.494199 11.226538 \nL 378.494199 11.226538 \nL 378.494199 11.226538 \nL 378.494199 11.226538 \nL 378.494199 11.226538 \nL 378.494199 11.226538 \nL 378.494199 11.226538 \nL 378.494199 11.226538 \nL 378.494199 11.226538 \nL 378.494199 11.226538 \nL 378.494199 11.226538 \nL 378.494199 11.226538 \nL 378.494199 11.226538 \nL 329.83242 13.254929 \nL 329.83242 13.254929 \nL 329.83242 13.254929 \nL 305.806211 14.671306 \nL 305.806211 14.671306 \nL 305.458005 14.776222 \nL 305.458005 14.776222 \nL 301.453637 14.916111 \nL 301.453637 14.916111 \nL 301.453637 14.916111 \nL 297.53632 15.143431 \nL 297.53632 15.143431 \nL 294.663621 15.685501 \nL 258.537256 18.151045 \nL 258.537256 18.151045 \nL 258.537256 18.151045 \nL 258.450205 18.168531 \nL 252.095447 18.62317 \nL 252.095447 18.62317 \nL 251.224932 18.675629 \nL 250.441468 18.833004 \nL 250.441468 18.833004 \nL 250.180314 18.972893 \nL 250.180314 18.972893 \nL 250.180314 18.972893 \nL 202.563153 26.194664 \nL 202.563153 26.194664 \nL 196.034292 27.348748 \nL 196.034292 27.348748 \nL 194.72852 27.715957 \nL 193.161593 28.048193 \nL 192.900439 28.15311 \nL 192.900439 28.15311 \nL 192.900439 28.15311 \nL 192.900439 28.15311 \nL 192.900439 28.15311 \nL 192.900439 28.15311 \nL 192.900439 28.15311 \nL 192.900439 28.15311 \nL 192.900439 28.15311 \nL 192.813387 28.188082 \nL 192.813387 28.188082 \nL 192.639284 28.223055 \nL 147.024308 42.771513 \nL 145.718535 43.068777 \nL 145.283278 43.226152 \nL 140.495447 44.310292 \nL 138.406211 45.149626 \nL 138.406211 45.149626 \nL 137.709799 45.149626 \nL 137.709799 45.149626 \nL 137.709799 45.167113 \nL 136.055821 45.936502 \nL 113.335384 54.207441 \nL 106.893574 57.634722 \nL 105.500751 58.666403 \nL 103.498567 59.890432 \nL 103.150361 60.327585 \nL 103.150361 60.327585 \nL 103.150361 60.327585 \nL 102.279846 60.537419 \nL 102.279846 60.537419 \nL 90.876102 67.864107 \nL 90.614947 68.038968 \nL 90.353793 68.283774 \nL 90.353793 68.283774 \nL 90.353793 68.371204 \nL 81.909799 75.995156 \nL 81.38749 76.170017 \nL 70.854261 88.200473 \nL 67.023996 92.09988 \nL 66.67579 92.362172 \nL 65.457069 94.215701 \nL 65.282966 94.233187 \nL 65.282966 94.233187 \nL 64.93476 94.705313 \nL 60.408083 105.074587 \nL 58.231796 109.8483 \nL 57.796539 110.355397 \nL 57.013075 112.943344 \nL 57.013075 112.943344 \nL 56.490766 114.656985 \nL 45.696383 221.357337 \nL 44.999971 223.525617 \nL 44.912919 226.620661 \n\" style=\"fill:none;stroke:#1f77b4;stroke-linecap:square;stroke-width:1.5;\"/>\n   </g>\n   <g id=\"line2d_14\">\n    <path clip-path=\"url(#pac65e978ea)\" d=\"M 28.229503 238.539493 \nL 394.732813 0.509387 \n\" style=\"fill:none;stroke:#000000;stroke-dasharray:7.4,3.2;stroke-dashoffset:0;stroke-width:2;\"/>\n   </g>\n   <g id=\"patch_3\">\n    <path d=\"M 43.78125 228.439219 \nL 43.78125 10.999219 \n\" style=\"fill:none;stroke:#000000;stroke-linecap:square;stroke-linejoin:miter;stroke-width:0.8;\"/>\n   </g>\n   <g id=\"patch_4\">\n    <path d=\"M 378.58125 228.439219 \nL 378.58125 10.999219 \n\" style=\"fill:none;stroke:#000000;stroke-linecap:square;stroke-linejoin:miter;stroke-width:0.8;\"/>\n   </g>\n   <g id=\"patch_5\">\n    <path d=\"M 43.78125 228.439219 \nL 378.58125 228.439219 \n\" style=\"fill:none;stroke:#000000;stroke-linecap:square;stroke-linejoin:miter;stroke-width:0.8;\"/>\n   </g>\n   <g id=\"patch_6\">\n    <path d=\"M 43.78125 10.999219 \nL 378.58125 10.999219 \n\" style=\"fill:none;stroke:#000000;stroke-linecap:square;stroke-linejoin:miter;stroke-width:0.8;\"/>\n   </g>\n  </g>\n </g>\n <defs>\n  <clipPath id=\"pac65e978ea\">\n   <rect height=\"217.44\" width=\"334.8\" x=\"43.78125\" y=\"10.999219\"/>\n  </clipPath>\n </defs>\n</svg>\n",
      "image/png": "[encoded data removed]"
     },
     "metadata": {
      "needs_background": "light"
     }
    }
   ],
   "source": [
    "\n",
    "import matplotlib.pyplot as plt\n",
    "\n",
    "def get_confusion_with_threshold(threshold, data):\n",
    "    true_positive = 0\n",
    "    false_positive = 0\n",
    "    true_negative = 0\n",
    "    false_negative = 0\n",
    "    for row in data:\n",
    "        if row[\"probability\"][0] >= threshold and row[\"salary_indexed\"] == 1.0:\n",
    "            true_positive += 1\n",
    "        elif row[\"probability\"][0] >= threshold:\n",
    "            false_positive += 1\n",
    "        elif row[\"probability\"][0] < threshold and row[\"salary_indexed\"] == 0.0:\n",
    "            true_negative += 1\n",
    "        else:\n",
    "            false_negative +=1\n",
    "\n",
    "    return (true_positive, false_positive, true_negative, false_negative)\n",
    "\n",
    "\n",
    "def get_trp_and_fpr(true_positive, false_positive, true_negative, false_negative):\n",
    "    true_positive_rate = true_positive/(true_positive+false_negative)\n",
    "    false_positive_rate = false_positive/(false_positive+true_negative)\n",
    "    return true_positive_rate, false_positive_rate\n",
    "\n",
    "def plot_roc(threshold, data):\n",
    "    values_to_plot_tpr = []\n",
    "    values_to_plot_fpr = []\n",
    "    for value in threshold:\n",
    "        tpr, fpr = get_trp_and_fpr(*get_confusion_with_threshold(value, data))\n",
    "        values_to_plot_tpr.append(tpr)\n",
    "        values_to_plot_fpr.append(fpr)\n",
    "\n",
    "    plt.plot(values_to_plot_tpr, values_to_plot_fpr)\n",
    "    plt.xlabel('False positive rate')\n",
    "    plt.ylabel('True positive rate')\n",
    "    xpoints = ypoints = plt.xlim()\n",
    "    plt.plot(xpoints, ypoints, linestyle='--', color='k', lw=2, scalex=False, scaley=False)\n",
    "    plt.axis([0, 1, 0, 1])\n",
    "    plt.show()\n",
    "\n",
    "\n",
    "threshold = [x / 100 for x in range(0, 101, 1)]\n",
    "data = predictions.select(\"prediction\", \"salary_indexed\", \"probability\").collect()\n",
    "\n",
    "plot_roc(threshold, data)"
   ]
  },
  {
   "cell_type": "markdown",
   "metadata": {},
   "source": [
    "5. Escribir dos funciones train() y predict() que creen el arbol de acuerdo a la metodología vista en clase (utilizando entropía como métrica de homogeneidad de clases).\n",
    "```\n",
    "def train(train_dataframe):\n",
    "    '''\n",
    "    @return devuelve una estructura de datos que representa el árbol de decision\n",
    "    '''\n",
    "     pass        \n",
    "```\n",
    "\n",
    "```\n",
    "def predict(tree, train_dataframe)\n",
    "    '''\n",
    "    @param tree la estructura de datos que representa el árbol de decisión.\n",
    "    @ return un dataframe con todos los datos de train_dataframe con una columna adicional que representa la probabilidad de que el income sea >50K. \n",
    "    '''\n",
    "    pass\n",
    "```    \n",
    "Ejemplo de uso:\n",
    "\n",
    "```\n",
    "tree = train(train_dataframe)\n",
    "predictions_df = predict(tree, train_dataframe)\n",
    "```"
   ]
  },
  {
   "cell_type": "code",
   "execution_count": 12,
   "metadata": {},
   "outputs": [],
   "source": [
    "# "
   ]
  },
  {
   "cell_type": "markdown",
   "metadata": {},
   "source": [
    "<i>[Extra credit y alumnos masters]</i>\n",
    "    \n",
    "5.  Mejorar la implementación de su algoritmo evitando hacer el split cuando no se logra un mínimo de Information Gain ( https://en.wikipedia.org/wiki/Information_gain_in_decision_trees   )\n"
   ]
  },
  {
   "cell_type": "code",
   "execution_count": 13,
   "metadata": {},
   "outputs": [],
   "source": [
    "#"
   ]
  }
 ],
 "metadata": {
  "kernelspec": {
   "name": "python391jvsc74a57bd07812ea015bdcee6f23a998adcdd2ef97c151c0c241b7b7070987d9313e41299d",
   "display_name": "Python 3.9.1 64-bit"
  },
  "language_info": {
   "codemirror_mode": {
    "name": "ipython",
    "version": 3
   },
   "file_extension": ".py",
   "mimetype": "text/x-python",
   "name": "python",
   "nbconvert_exporter": "python",
   "pygments_lexer": "ipython3",
   "version": "3.9.1-final"
  },
  "metadata": {
   "interpreter": {
    "hash": "7812ea015bdcee6f23a998adcdd2ef97c151c0c241b7b7070987d9313e41299d"
   }
  }
 },
 "nbformat": 4,
 "nbformat_minor": 4
}