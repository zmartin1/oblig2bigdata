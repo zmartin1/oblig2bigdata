{
 "cells": [
  {
   "cell_type": "markdown",
   "metadata": {},
   "source": [
    "# Obligatorio 2 - Big Data Science\n",
    "\n",
    "Integrantes del grupo: Martín Brian - Joaquín Martínez\n",
    "\n",
    "Debajo de cada pregunta o tarea incluya las celdas necesarias para desarrolar la respuesta. Puede usar una o varias celdas de código o mark down (https://www.datacamp.com/community/tutorials/markdown-in-jupyter-notebook)\n",
    "\n",
    "Para entregar, renombrar este notebook como \"Obligatorio 2 - Apellido1 - Apellido 2 - Apellido 3\" con los apellidos de los miembros del grupo. Un solo integrante del grupo debe realizar la entrega. \n"
   ]
  },
  {
   "cell_type": "markdown",
   "metadata": {},
   "source": [
    "1. Cargar los datos del Obligatorio 1, de entrenamiento (.data) y validación (.test) en spark dataframes (distintos). Los nombres de las columnas deben corresponder a los especificados en \"Attribute Information\"."
   ]
  },
  {
   "cell_type": "code",
   "execution_count": 1,
   "metadata": {},
   "outputs": [],
   "source": [
    "#from pyspark import SparkContext\n",
    "import pyspark\n",
    "from pyspark.sql import SQLContext\n",
    "\n",
    "sc = pyspark.SparkContext.getOrCreate()\n",
    "\n",
    "spark = SQLContext(sc)"
   ]
  },
  {
   "cell_type": "code",
   "execution_count": 2,
   "metadata": {},
   "outputs": [],
   "source": [
    "from pyspark.sql.types import StructType, StructField, IntegerType, StringType, FloatType\n",
    "\n",
    "schema = StructType([\n",
    "    StructField(\"age\", IntegerType(), True),\n",
    "    StructField(\"workclass\", StringType(), True),\n",
    "    StructField(\"fnlwgt\", FloatType(), True),\n",
    "    StructField(\"education\", StringType(), True),\n",
    "    StructField(\"education-num\", FloatType(), True),\n",
    "    StructField(\"marital-status\", StringType(), True),\n",
    "    StructField(\"occupation\", StringType(), True),\n",
    "    StructField(\"relationship\", StringType(), True),\n",
    "    StructField(\"race\", StringType(), True),\n",
    "    StructField(\"sex\", StringType(), True),\n",
    "    StructField(\"capital-gain\", FloatType(), True),\n",
    "    StructField(\"capital-loss\", FloatType(), True),\n",
    "    StructField(\"hours-per-week\", FloatType(), True),\n",
    "    StructField(\"native-country\", StringType(), True),\n",
    "    StructField(\"salary\", StringType(), False)\n",
    "])"
   ]
  },
  {
   "cell_type": "code",
   "execution_count": 3,
   "metadata": {},
   "outputs": [],
   "source": [
    "#Leemos los archivos\n",
    "df_data = spark.read.csv(\"./adult.data\", header=False,schema=schema)\n",
    "df_test = spark.read.csv(\"./adult.test\", header=True,schema=schema)"
   ]
  },
  {
   "cell_type": "code",
   "execution_count": 4,
   "metadata": {},
   "outputs": [
    {
     "output_type": "execute_result",
     "data": {
      "text/plain": [
       "       age          workclass    fnlwgt    education  education-num  \\\n",
       "0       39          State-gov   77516.0    Bachelors           13.0   \n",
       "1       50   Self-emp-not-inc   83311.0    Bachelors           13.0   \n",
       "2       38            Private  215646.0      HS-grad            9.0   \n",
       "3       53            Private  234721.0         11th            7.0   \n",
       "4       28            Private  338409.0    Bachelors           13.0   \n",
       "...    ...                ...       ...          ...            ...   \n",
       "32556   27            Private  257302.0   Assoc-acdm           12.0   \n",
       "32557   40            Private  154374.0      HS-grad            9.0   \n",
       "32558   58            Private  151910.0      HS-grad            9.0   \n",
       "32559   22            Private  201490.0      HS-grad            9.0   \n",
       "32560   52       Self-emp-inc  287927.0      HS-grad            9.0   \n",
       "\n",
       "            marital-status          occupation    relationship    race  \\\n",
       "0            Never-married        Adm-clerical   Not-in-family   White   \n",
       "1       Married-civ-spouse     Exec-managerial         Husband   White   \n",
       "2                 Divorced   Handlers-cleaners   Not-in-family   White   \n",
       "3       Married-civ-spouse   Handlers-cleaners         Husband   Black   \n",
       "4       Married-civ-spouse      Prof-specialty            Wife   Black   \n",
       "...                    ...                 ...             ...     ...   \n",
       "32556   Married-civ-spouse        Tech-support            Wife   White   \n",
       "32557   Married-civ-spouse   Machine-op-inspct         Husband   White   \n",
       "32558              Widowed        Adm-clerical       Unmarried   White   \n",
       "32559        Never-married        Adm-clerical       Own-child   White   \n",
       "32560   Married-civ-spouse     Exec-managerial            Wife   White   \n",
       "\n",
       "           sex  capital-gain  capital-loss  hours-per-week  native-country  \\\n",
       "0         Male        2174.0           0.0            40.0   United-States   \n",
       "1         Male           0.0           0.0            13.0   United-States   \n",
       "2         Male           0.0           0.0            40.0   United-States   \n",
       "3         Male           0.0           0.0            40.0   United-States   \n",
       "4       Female           0.0           0.0            40.0            Cuba   \n",
       "...        ...           ...           ...             ...             ...   \n",
       "32556   Female           0.0           0.0            38.0   United-States   \n",
       "32557     Male           0.0           0.0            40.0   United-States   \n",
       "32558   Female           0.0           0.0            40.0   United-States   \n",
       "32559     Male           0.0           0.0            20.0   United-States   \n",
       "32560   Female       15024.0           0.0            40.0   United-States   \n",
       "\n",
       "       salary  \n",
       "0       <=50K  \n",
       "1       <=50K  \n",
       "2       <=50K  \n",
       "3       <=50K  \n",
       "4       <=50K  \n",
       "...       ...  \n",
       "32556   <=50K  \n",
       "32557    >50K  \n",
       "32558   <=50K  \n",
       "32559   <=50K  \n",
       "32560    >50K  \n",
       "\n",
       "[32561 rows x 15 columns]"
      ],
      "text/html": "<div>\n<style scoped>\n    .dataframe tbody tr th:only-of-type {\n        vertical-align: middle;\n    }\n\n    .dataframe tbody tr th {\n        vertical-align: top;\n    }\n\n    .dataframe thead th {\n        text-align: right;\n    }\n</style>\n<table border=\"1\" class=\"dataframe\">\n  <thead>\n    <tr style=\"text-align: right;\">\n      <th></th>\n      <th>age</th>\n      <th>workclass</th>\n      <th>fnlwgt</th>\n      <th>education</th>\n      <th>education-num</th>\n      <th>marital-status</th>\n      <th>occupation</th>\n      <th>relationship</th>\n      <th>race</th>\n      <th>sex</th>\n      <th>capital-gain</th>\n      <th>capital-loss</th>\n      <th>hours-per-week</th>\n      <th>native-country</th>\n      <th>salary</th>\n    </tr>\n  </thead>\n  <tbody>\n    <tr>\n      <th>0</th>\n      <td>39</td>\n      <td>State-gov</td>\n      <td>77516.0</td>\n      <td>Bachelors</td>\n      <td>13.0</td>\n      <td>Never-married</td>\n      <td>Adm-clerical</td>\n      <td>Not-in-family</td>\n      <td>White</td>\n      <td>Male</td>\n      <td>2174.0</td>\n      <td>0.0</td>\n      <td>40.0</td>\n      <td>United-States</td>\n      <td>&lt;=50K</td>\n    </tr>\n    <tr>\n      <th>1</th>\n      <td>50</td>\n      <td>Self-emp-not-inc</td>\n      <td>83311.0</td>\n      <td>Bachelors</td>\n      <td>13.0</td>\n      <td>Married-civ-spouse</td>\n      <td>Exec-managerial</td>\n      <td>Husband</td>\n      <td>White</td>\n      <td>Male</td>\n      <td>0.0</td>\n      <td>0.0</td>\n      <td>13.0</td>\n      <td>United-States</td>\n      <td>&lt;=50K</td>\n    </tr>\n    <tr>\n      <th>2</th>\n      <td>38</td>\n      <td>Private</td>\n      <td>215646.0</td>\n      <td>HS-grad</td>\n      <td>9.0</td>\n      <td>Divorced</td>\n      <td>Handlers-cleaners</td>\n      <td>Not-in-family</td>\n      <td>White</td>\n      <td>Male</td>\n      <td>0.0</td>\n      <td>0.0</td>\n      <td>40.0</td>\n      <td>United-States</td>\n      <td>&lt;=50K</td>\n    </tr>\n    <tr>\n      <th>3</th>\n      <td>53</td>\n      <td>Private</td>\n      <td>234721.0</td>\n      <td>11th</td>\n      <td>7.0</td>\n      <td>Married-civ-spouse</td>\n      <td>Handlers-cleaners</td>\n      <td>Husband</td>\n      <td>Black</td>\n      <td>Male</td>\n      <td>0.0</td>\n      <td>0.0</td>\n      <td>40.0</td>\n      <td>United-States</td>\n      <td>&lt;=50K</td>\n    </tr>\n    <tr>\n      <th>4</th>\n      <td>28</td>\n      <td>Private</td>\n      <td>338409.0</td>\n      <td>Bachelors</td>\n      <td>13.0</td>\n      <td>Married-civ-spouse</td>\n      <td>Prof-specialty</td>\n      <td>Wife</td>\n      <td>Black</td>\n      <td>Female</td>\n      <td>0.0</td>\n      <td>0.0</td>\n      <td>40.0</td>\n      <td>Cuba</td>\n      <td>&lt;=50K</td>\n    </tr>\n    <tr>\n      <th>...</th>\n      <td>...</td>\n      <td>...</td>\n      <td>...</td>\n      <td>...</td>\n      <td>...</td>\n      <td>...</td>\n      <td>...</td>\n      <td>...</td>\n      <td>...</td>\n      <td>...</td>\n      <td>...</td>\n      <td>...</td>\n      <td>...</td>\n      <td>...</td>\n      <td>...</td>\n    </tr>\n    <tr>\n      <th>32556</th>\n      <td>27</td>\n      <td>Private</td>\n      <td>257302.0</td>\n      <td>Assoc-acdm</td>\n      <td>12.0</td>\n      <td>Married-civ-spouse</td>\n      <td>Tech-support</td>\n      <td>Wife</td>\n      <td>White</td>\n      <td>Female</td>\n      <td>0.0</td>\n      <td>0.0</td>\n      <td>38.0</td>\n      <td>United-States</td>\n      <td>&lt;=50K</td>\n    </tr>\n    <tr>\n      <th>32557</th>\n      <td>40</td>\n      <td>Private</td>\n      <td>154374.0</td>\n      <td>HS-grad</td>\n      <td>9.0</td>\n      <td>Married-civ-spouse</td>\n      <td>Machine-op-inspct</td>\n      <td>Husband</td>\n      <td>White</td>\n      <td>Male</td>\n      <td>0.0</td>\n      <td>0.0</td>\n      <td>40.0</td>\n      <td>United-States</td>\n      <td>&gt;50K</td>\n    </tr>\n    <tr>\n      <th>32558</th>\n      <td>58</td>\n      <td>Private</td>\n      <td>151910.0</td>\n      <td>HS-grad</td>\n      <td>9.0</td>\n      <td>Widowed</td>\n      <td>Adm-clerical</td>\n      <td>Unmarried</td>\n      <td>White</td>\n      <td>Female</td>\n      <td>0.0</td>\n      <td>0.0</td>\n      <td>40.0</td>\n      <td>United-States</td>\n      <td>&lt;=50K</td>\n    </tr>\n    <tr>\n      <th>32559</th>\n      <td>22</td>\n      <td>Private</td>\n      <td>201490.0</td>\n      <td>HS-grad</td>\n      <td>9.0</td>\n      <td>Never-married</td>\n      <td>Adm-clerical</td>\n      <td>Own-child</td>\n      <td>White</td>\n      <td>Male</td>\n      <td>0.0</td>\n      <td>0.0</td>\n      <td>20.0</td>\n      <td>United-States</td>\n      <td>&lt;=50K</td>\n    </tr>\n    <tr>\n      <th>32560</th>\n      <td>52</td>\n      <td>Self-emp-inc</td>\n      <td>287927.0</td>\n      <td>HS-grad</td>\n      <td>9.0</td>\n      <td>Married-civ-spouse</td>\n      <td>Exec-managerial</td>\n      <td>Wife</td>\n      <td>White</td>\n      <td>Female</td>\n      <td>15024.0</td>\n      <td>0.0</td>\n      <td>40.0</td>\n      <td>United-States</td>\n      <td>&gt;50K</td>\n    </tr>\n  </tbody>\n</table>\n<p>32561 rows × 15 columns</p>\n</div>"
     },
     "metadata": {},
     "execution_count": 4
    }
   ],
   "source": [
    "df_data.toPandas()"
   ]
  },
  {
   "cell_type": "code",
   "execution_count": 5,
   "metadata": {},
   "outputs": [
    {
     "output_type": "execute_result",
     "data": {
      "text/plain": [
       "                 age workclass        fnlwgt education  education-num  \\\n",
       "count   32561.000000     32561  3.256100e+04     32561   32561.000000   \n",
       "unique           NaN         9           NaN        16            NaN   \n",
       "top              NaN   Private           NaN   HS-grad            NaN   \n",
       "freq             NaN     22696           NaN     10501            NaN   \n",
       "mean       38.581647       NaN  1.897784e+05       NaN      10.080679   \n",
       "std        13.640433       NaN  1.055500e+05       NaN       2.572720   \n",
       "min        17.000000       NaN  1.228500e+04       NaN       1.000000   \n",
       "25%        28.000000       NaN  1.178270e+05       NaN       9.000000   \n",
       "50%        37.000000       NaN  1.783560e+05       NaN      10.000000   \n",
       "75%        48.000000       NaN  2.370510e+05       NaN      12.000000   \n",
       "max        90.000000       NaN  1.484705e+06       NaN      16.000000   \n",
       "\n",
       "             marital-status       occupation relationship    race    sex  \\\n",
       "count                 32561            32561        32561   32561  32561   \n",
       "unique                    7               15            6       5      2   \n",
       "top      Married-civ-spouse   Prof-specialty      Husband   White   Male   \n",
       "freq                  14976             4140        13193   27816  21790   \n",
       "mean                    NaN              NaN          NaN     NaN    NaN   \n",
       "std                     NaN              NaN          NaN     NaN    NaN   \n",
       "min                     NaN              NaN          NaN     NaN    NaN   \n",
       "25%                     NaN              NaN          NaN     NaN    NaN   \n",
       "50%                     NaN              NaN          NaN     NaN    NaN   \n",
       "75%                     NaN              NaN          NaN     NaN    NaN   \n",
       "max                     NaN              NaN          NaN     NaN    NaN   \n",
       "\n",
       "        capital-gain  capital-loss  hours-per-week  native-country  salary  \n",
       "count   32561.000000  32561.000000    32561.000000           32561   32561  \n",
       "unique           NaN           NaN             NaN              42       2  \n",
       "top              NaN           NaN             NaN   United-States   <=50K  \n",
       "freq             NaN           NaN             NaN           29170   24720  \n",
       "mean     1077.648804     87.303833       40.437454             NaN     NaN  \n",
       "std      7385.291992    402.960205       12.347429             NaN     NaN  \n",
       "min         0.000000      0.000000        1.000000             NaN     NaN  \n",
       "25%         0.000000      0.000000       40.000000             NaN     NaN  \n",
       "50%         0.000000      0.000000       40.000000             NaN     NaN  \n",
       "75%         0.000000      0.000000       45.000000             NaN     NaN  \n",
       "max     99999.000000   4356.000000       99.000000             NaN     NaN  "
      ],
      "text/html": "<div>\n<style scoped>\n    .dataframe tbody tr th:only-of-type {\n        vertical-align: middle;\n    }\n\n    .dataframe tbody tr th {\n        vertical-align: top;\n    }\n\n    .dataframe thead th {\n        text-align: right;\n    }\n</style>\n<table border=\"1\" class=\"dataframe\">\n  <thead>\n    <tr style=\"text-align: right;\">\n      <th></th>\n      <th>age</th>\n      <th>workclass</th>\n      <th>fnlwgt</th>\n      <th>education</th>\n      <th>education-num</th>\n      <th>marital-status</th>\n      <th>occupation</th>\n      <th>relationship</th>\n      <th>race</th>\n      <th>sex</th>\n      <th>capital-gain</th>\n      <th>capital-loss</th>\n      <th>hours-per-week</th>\n      <th>native-country</th>\n      <th>salary</th>\n    </tr>\n  </thead>\n  <tbody>\n    <tr>\n      <th>count</th>\n      <td>32561.000000</td>\n      <td>32561</td>\n      <td>3.256100e+04</td>\n      <td>32561</td>\n      <td>32561.000000</td>\n      <td>32561</td>\n      <td>32561</td>\n      <td>32561</td>\n      <td>32561</td>\n      <td>32561</td>\n      <td>32561.000000</td>\n      <td>32561.000000</td>\n      <td>32561.000000</td>\n      <td>32561</td>\n      <td>32561</td>\n    </tr>\n    <tr>\n      <th>unique</th>\n      <td>NaN</td>\n      <td>9</td>\n      <td>NaN</td>\n      <td>16</td>\n      <td>NaN</td>\n      <td>7</td>\n      <td>15</td>\n      <td>6</td>\n      <td>5</td>\n      <td>2</td>\n      <td>NaN</td>\n      <td>NaN</td>\n      <td>NaN</td>\n      <td>42</td>\n      <td>2</td>\n    </tr>\n    <tr>\n      <th>top</th>\n      <td>NaN</td>\n      <td>Private</td>\n      <td>NaN</td>\n      <td>HS-grad</td>\n      <td>NaN</td>\n      <td>Married-civ-spouse</td>\n      <td>Prof-specialty</td>\n      <td>Husband</td>\n      <td>White</td>\n      <td>Male</td>\n      <td>NaN</td>\n      <td>NaN</td>\n      <td>NaN</td>\n      <td>United-States</td>\n      <td>&lt;=50K</td>\n    </tr>\n    <tr>\n      <th>freq</th>\n      <td>NaN</td>\n      <td>22696</td>\n      <td>NaN</td>\n      <td>10501</td>\n      <td>NaN</td>\n      <td>14976</td>\n      <td>4140</td>\n      <td>13193</td>\n      <td>27816</td>\n      <td>21790</td>\n      <td>NaN</td>\n      <td>NaN</td>\n      <td>NaN</td>\n      <td>29170</td>\n      <td>24720</td>\n    </tr>\n    <tr>\n      <th>mean</th>\n      <td>38.581647</td>\n      <td>NaN</td>\n      <td>1.897784e+05</td>\n      <td>NaN</td>\n      <td>10.080679</td>\n      <td>NaN</td>\n      <td>NaN</td>\n      <td>NaN</td>\n      <td>NaN</td>\n      <td>NaN</td>\n      <td>1077.648804</td>\n      <td>87.303833</td>\n      <td>40.437454</td>\n      <td>NaN</td>\n      <td>NaN</td>\n    </tr>\n    <tr>\n      <th>std</th>\n      <td>13.640433</td>\n      <td>NaN</td>\n      <td>1.055500e+05</td>\n      <td>NaN</td>\n      <td>2.572720</td>\n      <td>NaN</td>\n      <td>NaN</td>\n      <td>NaN</td>\n      <td>NaN</td>\n      <td>NaN</td>\n      <td>7385.291992</td>\n      <td>402.960205</td>\n      <td>12.347429</td>\n      <td>NaN</td>\n      <td>NaN</td>\n    </tr>\n    <tr>\n      <th>min</th>\n      <td>17.000000</td>\n      <td>NaN</td>\n      <td>1.228500e+04</td>\n      <td>NaN</td>\n      <td>1.000000</td>\n      <td>NaN</td>\n      <td>NaN</td>\n      <td>NaN</td>\n      <td>NaN</td>\n      <td>NaN</td>\n      <td>0.000000</td>\n      <td>0.000000</td>\n      <td>1.000000</td>\n      <td>NaN</td>\n      <td>NaN</td>\n    </tr>\n    <tr>\n      <th>25%</th>\n      <td>28.000000</td>\n      <td>NaN</td>\n      <td>1.178270e+05</td>\n      <td>NaN</td>\n      <td>9.000000</td>\n      <td>NaN</td>\n      <td>NaN</td>\n      <td>NaN</td>\n      <td>NaN</td>\n      <td>NaN</td>\n      <td>0.000000</td>\n      <td>0.000000</td>\n      <td>40.000000</td>\n      <td>NaN</td>\n      <td>NaN</td>\n    </tr>\n    <tr>\n      <th>50%</th>\n      <td>37.000000</td>\n      <td>NaN</td>\n      <td>1.783560e+05</td>\n      <td>NaN</td>\n      <td>10.000000</td>\n      <td>NaN</td>\n      <td>NaN</td>\n      <td>NaN</td>\n      <td>NaN</td>\n      <td>NaN</td>\n      <td>0.000000</td>\n      <td>0.000000</td>\n      <td>40.000000</td>\n      <td>NaN</td>\n      <td>NaN</td>\n    </tr>\n    <tr>\n      <th>75%</th>\n      <td>48.000000</td>\n      <td>NaN</td>\n      <td>2.370510e+05</td>\n      <td>NaN</td>\n      <td>12.000000</td>\n      <td>NaN</td>\n      <td>NaN</td>\n      <td>NaN</td>\n      <td>NaN</td>\n      <td>NaN</td>\n      <td>0.000000</td>\n      <td>0.000000</td>\n      <td>45.000000</td>\n      <td>NaN</td>\n      <td>NaN</td>\n    </tr>\n    <tr>\n      <th>max</th>\n      <td>90.000000</td>\n      <td>NaN</td>\n      <td>1.484705e+06</td>\n      <td>NaN</td>\n      <td>16.000000</td>\n      <td>NaN</td>\n      <td>NaN</td>\n      <td>NaN</td>\n      <td>NaN</td>\n      <td>NaN</td>\n      <td>99999.000000</td>\n      <td>4356.000000</td>\n      <td>99.000000</td>\n      <td>NaN</td>\n      <td>NaN</td>\n    </tr>\n  </tbody>\n</table>\n</div>"
     },
     "metadata": {},
     "execution_count": 5
    }
   ],
   "source": [
    "df_data.toPandas().describe(include = 'all')"
   ]
  },
  {
   "cell_type": "code",
   "execution_count": 6,
   "metadata": {},
   "outputs": [],
   "source": [
    "from pyspark.sql.functions import regexp_replace\n",
    "\n",
    "# Limpiamos puntos en la columna salario\n",
    "df_test = df_test.withColumn('salary', regexp_replace('salary', '<=50K.', '<=50K'))\n",
    "df_test = df_test.withColumn('salary', regexp_replace('salary', '>50K.', '>50K'))"
   ]
  },
  {
   "cell_type": "markdown",
   "metadata": {},
   "source": [
    "2. Seleccionar un conjunto relevante de 5 atributos y crear un Spark Pipeline en el que el estimator sea un DecisionTreeClassifier (https://spark.apache.org/docs/latest/ml-classification-regression.html#decision-tree-classifier). Puede utilizar libremente los transformers/estimators de Spark para realizar ingeniería de atributos (StringIndexer, OneHotEncoding, etc)."
   ]
  },
  {
   "cell_type": "code",
   "execution_count": 7,
   "metadata": {},
   "outputs": [],
   "source": [
    "from pyspark.ml import Pipeline\n",
    "from pyspark.ml.classification import DecisionTreeClassifier\n",
    "from pyspark.ml.feature import StringIndexer, VectorAssembler, Bucketizer, OneHotEncoder\n",
    "\n",
    "def get_indexed_name(name):\n",
    "    return f\"{name}_index\"\n",
    "\n",
    "def get_onehot_name(name):\n",
    "    return f\"{name}_onehot\"\n",
    "\n",
    "chosen_columns = [\"age\", \"sex\", \"education-num\", \"occupation\", \"education\"]\n",
    "\n",
    "string_type_name = StringType.typeName()\n",
    "chosen_columns_dtypes = df_data.select(chosen_columns).dtypes\n",
    "strings_to_index = list(filter(lambda column: dict(chosen_columns_dtypes)[column] == string_type_name, chosen_columns))\n",
    "string_indexers = [StringIndexer(inputCol=column, outputCol=get_indexed_name(column)) for column in strings_to_index]\n",
    "\n",
    "encoder_output=[get_onehot_name(string) for string in strings_to_index]\n",
    "\n",
    "encoder = OneHotEncoder(inputCols=[get_indexed_name(string) for string in strings_to_index],\n",
    "                        outputCols=encoder_output)\n",
    "\n",
    "splits = [0, 25, 40, 60, float(\"inf\")]\n",
    "bucketizer = Bucketizer(splits=splits, inputCol=\"age\", outputCol=\"age_bucketed\")\n",
    "\n",
    "chosen_numeric=set(chosen_columns)-set(strings_to_index)\n",
    "\n",
    "chosen = list(chosen_numeric)\n",
    "chosen.extend(encoder_output)\n",
    "chosen.append(\"age_bucketed\")\n",
    "\n",
    "assembler = VectorAssembler(inputCols=chosen, outputCol=\"vector_col\") \n",
    "salary_indexer = StringIndexer(inputCol=\"salary\", outputCol=\"salary_indexed\")\n",
    "\n",
    "# Decision tree parameters (para poder ajustarlo)\n",
    "\"\"\"DecisionTreeClassifier(*, featuresCol='features', labelCol='label', predictionCol='prediction', probabilityCol='probability', rawPredictionCol='rawPrediction', maxDepth=5, maxBins=32, minInstancesPerNode=1, minInfoGain=0.0, maxMemoryInMB=256, cacheNodeIds=False, checkpointInterval=10, impurity='gini', seed=None, weightCol=None, leafCol='', minWeightFractionPerNode=0.0)\"\"\"\n",
    "\n",
    "dt = DecisionTreeClassifier(labelCol=\"salary_indexed\", featuresCol=\"vector_col\", maxDepth=8)\n",
    "\n",
    "stages = string_indexers\n",
    "stages.extend([salary_indexer, encoder, bucketizer, assembler, dt])\n",
    "pipeline = Pipeline(stages=stages)\n"
   ]
  },
  {
   "cell_type": "markdown",
   "metadata": {},
   "source": [
    "3. Hacer el fit del pipeline con los datos de entrenamiento. \n"
   ]
  },
  {
   "cell_type": "code",
   "execution_count": 8,
   "metadata": {},
   "outputs": [
    {
     "output_type": "stream",
     "name": "stdout",
     "text": [
      "+----------+--------------+--------------------+\n",
      "|prediction|salary_indexed|          vector_col|\n",
      "+----------+--------------+--------------------+\n",
      "|       0.0|           0.0|(33,[0,1,2,9,22,3...|\n",
      "|       0.0|           0.0|(33,[0,1,2,13,17,...|\n",
      "|       0.0|           1.0|(33,[0,1,2,15,23,...|\n",
      "|       0.0|           1.0|(33,[0,1,2,9,18,3...|\n",
      "|       0.0|           0.0|(33,[0,1,10,18],[...|\n",
      "|       0.0|           0.0|(33,[0,1,2,8,24,3...|\n",
      "|       0.0|           0.0|(33,[0,1,2,10,17,...|\n",
      "|       1.0|           1.0|(33,[0,1,2,3,26,3...|\n",
      "|       0.0|           0.0|(33,[0,1,8,18],[1...|\n",
      "|       0.0|           0.0|(33,[0,1,2,4,25,3...|\n",
      "|       0.0|           1.0|(33,[0,1,2,9,17,3...|\n",
      "|       0.0|           0.0|(33,[0,1,2,6,19,3...|\n",
      "|       0.0|           0.0|(33,[0,1,6,17,32]...|\n",
      "|       0.0|           0.0|(33,[0,1,2,10,17,...|\n",
      "|       0.0|           1.0|(33,[0,1,2,9,17,3...|\n",
      "+----------+--------------+--------------------+\n",
      "only showing top 15 rows\n",
      "\n",
      "hits/total: 0.8143484536715703\n",
      "   prediction  salary_indexed  count\n",
      "0         1.0             1.0   3202\n",
      "1         0.0             1.0   4639\n",
      "2         1.0             0.0   1406\n",
      "3         0.0             0.0  23314\n",
      "\n",
      "\n",
      "\n",
      "hits/total: 0.8075671027578158\n",
      "   prediction  salary_indexed  count\n",
      "0         1.0             1.0   1501\n",
      "1         0.0             1.0   2345\n",
      "2         1.0             0.0    788\n",
      "3         0.0             0.0  11647\n"
     ]
    }
   ],
   "source": [
    "model = pipeline.fit(df_data)\n",
    "\n",
    "predictions_in_training = model.transform(df_data)\n",
    "predictions = model.transform(df_test)\n",
    "\n",
    "predictions.select(\"prediction\", \"salary_indexed\", \"vector_col\").show(15)\n",
    "\n",
    "def get_confusion_matrix(predictions):\n",
    "    confusion=predictions.groupBy(\"prediction\", 'salary_indexed').count()\n",
    "    confusion_collected = confusion.collect()\n",
    "    hits = 0\n",
    "    total = 0\n",
    "    for row in confusion_collected:\n",
    "        total += row[2]\n",
    "        if row[0]==row[1]:\n",
    "            hits += row[2]\n",
    "\n",
    "    print(f\"hits/total: {hits/total}\")\n",
    "    return confusion.toPandas()\n",
    "\n",
    "print(get_confusion_matrix(predictions_in_training), end='\\n'*4)\n",
    "print(get_confusion_matrix(predictions))"
   ]
  },
  {
   "cell_type": "markdown",
   "metadata": {},
   "source": [
    "4. Graficar la curva ROC utilizando los datos de validación (sin usar el paquete de evluación de Spark pyspark.ml.evaluation)"
   ]
  },
  {
   "cell_type": "code",
   "execution_count": 12,
   "metadata": {},
   "outputs": [
    {
     "output_type": "execute_result",
     "data": {
      "text/plain": [
       "DataFrame[prediction: double, salary_indexed: double, vector_col: vector, probability: vector]"
      ]
     },
     "metadata": {},
     "execution_count": 12
    },
    {
     "output_type": "display_data",
     "data": {
      "text/plain": "<Figure size 432x288 with 1 Axes>",
      "image/svg+xml": "<?xml version=\"1.0\" encoding=\"utf-8\" standalone=\"no\"?>\n<!DOCTYPE svg PUBLIC \"-//W3C//DTD SVG 1.1//EN\"\n  \"http://www.w3.org/Graphics/SVG/1.1/DTD/svg11.dtd\">\n<svg height=\"265.995469pt\" version=\"1.1\" viewBox=\"0 0 393.732813 265.995469\" width=\"393.732813pt\" xmlns=\"http://www.w3.org/2000/svg\" xmlns:xlink=\"http://www.w3.org/1999/xlink\">\n <metadata>\n  <rdf:RDF xmlns:cc=\"http://creativecommons.org/ns#\" xmlns:dc=\"http://purl.org/dc/elements/1.1/\" xmlns:rdf=\"http://www.w3.org/1999/02/22-rdf-syntax-ns#\">\n   <cc:Work>\n    <dc:type rdf:resource=\"http://purl.org/dc/dcmitype/StillImage\"/>\n    <dc:date>2021-05-10T03:52:16.563050</dc:date>\n    <dc:format>image/svg+xml</dc:format>\n    <dc:creator>\n     <cc:Agent>\n      <dc:title>Matplotlib v3.4.2, https://matplotlib.org/</dc:title>\n     </cc:Agent>\n    </dc:creator>\n   </cc:Work>\n  </rdf:RDF>\n </metadata>\n <defs>\n  <style type=\"text/css\">*{stroke-linecap:butt;stroke-linejoin:round;}</style>\n </defs>\n <g id=\"figure_1\">\n  <g id=\"patch_1\">\n   <path d=\"M 0 265.995469 \nL 393.732813 265.995469 \nL 393.732813 0 \nL 0 0 \nz\n\" style=\"fill:none;\"/>\n  </g>\n  <g id=\"axes_1\">\n   <g id=\"patch_2\">\n    <path d=\"M 43.78125 228.439219 \nL 378.58125 228.439219 \nL 378.58125 10.999219 \nL 43.78125 10.999219 \nz\n\" style=\"fill:#ffffff;\"/>\n   </g>\n   <g id=\"matplotlib.axis_1\">\n    <g id=\"xtick_1\">\n     <g id=\"line2d_1\">\n      <defs>\n       <path d=\"M 0 0 \nL 0 3.5 \n\" id=\"m2d01d0774e\" style=\"stroke:#000000;stroke-width:0.8;\"/>\n      </defs>\n      <g>\n       <use style=\"stroke:#000000;stroke-width:0.8;\" x=\"43.78125\" xlink:href=\"#m2d01d0774e\" y=\"228.439219\"/>\n      </g>\n     </g>\n     <g id=\"text_1\">\n      <!-- 0.0 -->\n      <g transform=\"translate(35.829688 243.037656)scale(0.1 -0.1)\">\n       <defs>\n        <path d=\"M 2034 4250 \nQ 1547 4250 1301 3770 \nQ 1056 3291 1056 2328 \nQ 1056 1369 1301 889 \nQ 1547 409 2034 409 \nQ 2525 409 2770 889 \nQ 3016 1369 3016 2328 \nQ 3016 3291 2770 3770 \nQ 2525 4250 2034 4250 \nz\nM 2034 4750 \nQ 2819 4750 3233 4129 \nQ 3647 3509 3647 2328 \nQ 3647 1150 3233 529 \nQ 2819 -91 2034 -91 \nQ 1250 -91 836 529 \nQ 422 1150 422 2328 \nQ 422 3509 836 4129 \nQ 1250 4750 2034 4750 \nz\n\" id=\"DejaVuSans-30\" transform=\"scale(0.015625)\"/>\n        <path d=\"M 684 794 \nL 1344 794 \nL 1344 0 \nL 684 0 \nL 684 794 \nz\n\" id=\"DejaVuSans-2e\" transform=\"scale(0.015625)\"/>\n       </defs>\n       <use xlink:href=\"#DejaVuSans-30\"/>\n       <use x=\"63.623047\" xlink:href=\"#DejaVuSans-2e\"/>\n       <use x=\"95.410156\" xlink:href=\"#DejaVuSans-30\"/>\n      </g>\n     </g>\n    </g>\n    <g id=\"xtick_2\">\n     <g id=\"line2d_2\">\n      <g>\n       <use style=\"stroke:#000000;stroke-width:0.8;\" x=\"110.74125\" xlink:href=\"#m2d01d0774e\" y=\"228.439219\"/>\n      </g>\n     </g>\n     <g id=\"text_2\">\n      <!-- 0.2 -->\n      <g transform=\"translate(102.789688 243.037656)scale(0.1 -0.1)\">\n       <defs>\n        <path d=\"M 1228 531 \nL 3431 531 \nL 3431 0 \nL 469 0 \nL 469 531 \nQ 828 903 1448 1529 \nQ 2069 2156 2228 2338 \nQ 2531 2678 2651 2914 \nQ 2772 3150 2772 3378 \nQ 2772 3750 2511 3984 \nQ 2250 4219 1831 4219 \nQ 1534 4219 1204 4116 \nQ 875 4013 500 3803 \nL 500 4441 \nQ 881 4594 1212 4672 \nQ 1544 4750 1819 4750 \nQ 2544 4750 2975 4387 \nQ 3406 4025 3406 3419 \nQ 3406 3131 3298 2873 \nQ 3191 2616 2906 2266 \nQ 2828 2175 2409 1742 \nQ 1991 1309 1228 531 \nz\n\" id=\"DejaVuSans-32\" transform=\"scale(0.015625)\"/>\n       </defs>\n       <use xlink:href=\"#DejaVuSans-30\"/>\n       <use x=\"63.623047\" xlink:href=\"#DejaVuSans-2e\"/>\n       <use x=\"95.410156\" xlink:href=\"#DejaVuSans-32\"/>\n      </g>\n     </g>\n    </g>\n    <g id=\"xtick_3\">\n     <g id=\"line2d_3\">\n      <g>\n       <use style=\"stroke:#000000;stroke-width:0.8;\" x=\"177.70125\" xlink:href=\"#m2d01d0774e\" y=\"228.439219\"/>\n      </g>\n     </g>\n     <g id=\"text_3\">\n      <!-- 0.4 -->\n      <g transform=\"translate(169.749688 243.037656)scale(0.1 -0.1)\">\n       <defs>\n        <path d=\"M 2419 4116 \nL 825 1625 \nL 2419 1625 \nL 2419 4116 \nz\nM 2253 4666 \nL 3047 4666 \nL 3047 1625 \nL 3713 1625 \nL 3713 1100 \nL 3047 1100 \nL 3047 0 \nL 2419 0 \nL 2419 1100 \nL 313 1100 \nL 313 1709 \nL 2253 4666 \nz\n\" id=\"DejaVuSans-34\" transform=\"scale(0.015625)\"/>\n       </defs>\n       <use xlink:href=\"#DejaVuSans-30\"/>\n       <use x=\"63.623047\" xlink:href=\"#DejaVuSans-2e\"/>\n       <use x=\"95.410156\" xlink:href=\"#DejaVuSans-34\"/>\n      </g>\n     </g>\n    </g>\n    <g id=\"xtick_4\">\n     <g id=\"line2d_4\">\n      <g>\n       <use style=\"stroke:#000000;stroke-width:0.8;\" x=\"244.66125\" xlink:href=\"#m2d01d0774e\" y=\"228.439219\"/>\n      </g>\n     </g>\n     <g id=\"text_4\">\n      <!-- 0.6 -->\n      <g transform=\"translate(236.709688 243.037656)scale(0.1 -0.1)\">\n       <defs>\n        <path d=\"M 2113 2584 \nQ 1688 2584 1439 2293 \nQ 1191 2003 1191 1497 \nQ 1191 994 1439 701 \nQ 1688 409 2113 409 \nQ 2538 409 2786 701 \nQ 3034 994 3034 1497 \nQ 3034 2003 2786 2293 \nQ 2538 2584 2113 2584 \nz\nM 3366 4563 \nL 3366 3988 \nQ 3128 4100 2886 4159 \nQ 2644 4219 2406 4219 \nQ 1781 4219 1451 3797 \nQ 1122 3375 1075 2522 \nQ 1259 2794 1537 2939 \nQ 1816 3084 2150 3084 \nQ 2853 3084 3261 2657 \nQ 3669 2231 3669 1497 \nQ 3669 778 3244 343 \nQ 2819 -91 2113 -91 \nQ 1303 -91 875 529 \nQ 447 1150 447 2328 \nQ 447 3434 972 4092 \nQ 1497 4750 2381 4750 \nQ 2619 4750 2861 4703 \nQ 3103 4656 3366 4563 \nz\n\" id=\"DejaVuSans-36\" transform=\"scale(0.015625)\"/>\n       </defs>\n       <use xlink:href=\"#DejaVuSans-30\"/>\n       <use x=\"63.623047\" xlink:href=\"#DejaVuSans-2e\"/>\n       <use x=\"95.410156\" xlink:href=\"#DejaVuSans-36\"/>\n      </g>\n     </g>\n    </g>\n    <g id=\"xtick_5\">\n     <g id=\"line2d_5\">\n      <g>\n       <use style=\"stroke:#000000;stroke-width:0.8;\" x=\"311.62125\" xlink:href=\"#m2d01d0774e\" y=\"228.439219\"/>\n      </g>\n     </g>\n     <g id=\"text_5\">\n      <!-- 0.8 -->\n      <g transform=\"translate(303.669688 243.037656)scale(0.1 -0.1)\">\n       <defs>\n        <path d=\"M 2034 2216 \nQ 1584 2216 1326 1975 \nQ 1069 1734 1069 1313 \nQ 1069 891 1326 650 \nQ 1584 409 2034 409 \nQ 2484 409 2743 651 \nQ 3003 894 3003 1313 \nQ 3003 1734 2745 1975 \nQ 2488 2216 2034 2216 \nz\nM 1403 2484 \nQ 997 2584 770 2862 \nQ 544 3141 544 3541 \nQ 544 4100 942 4425 \nQ 1341 4750 2034 4750 \nQ 2731 4750 3128 4425 \nQ 3525 4100 3525 3541 \nQ 3525 3141 3298 2862 \nQ 3072 2584 2669 2484 \nQ 3125 2378 3379 2068 \nQ 3634 1759 3634 1313 \nQ 3634 634 3220 271 \nQ 2806 -91 2034 -91 \nQ 1263 -91 848 271 \nQ 434 634 434 1313 \nQ 434 1759 690 2068 \nQ 947 2378 1403 2484 \nz\nM 1172 3481 \nQ 1172 3119 1398 2916 \nQ 1625 2713 2034 2713 \nQ 2441 2713 2670 2916 \nQ 2900 3119 2900 3481 \nQ 2900 3844 2670 4047 \nQ 2441 4250 2034 4250 \nQ 1625 4250 1398 4047 \nQ 1172 3844 1172 3481 \nz\n\" id=\"DejaVuSans-38\" transform=\"scale(0.015625)\"/>\n       </defs>\n       <use xlink:href=\"#DejaVuSans-30\"/>\n       <use x=\"63.623047\" xlink:href=\"#DejaVuSans-2e\"/>\n       <use x=\"95.410156\" xlink:href=\"#DejaVuSans-38\"/>\n      </g>\n     </g>\n    </g>\n    <g id=\"xtick_6\">\n     <g id=\"line2d_6\">\n      <g>\n       <use style=\"stroke:#000000;stroke-width:0.8;\" x=\"378.58125\" xlink:href=\"#m2d01d0774e\" y=\"228.439219\"/>\n      </g>\n     </g>\n     <g id=\"text_6\">\n      <!-- 1.0 -->\n      <g transform=\"translate(370.629687 243.037656)scale(0.1 -0.1)\">\n       <defs>\n        <path d=\"M 794 531 \nL 1825 531 \nL 1825 4091 \nL 703 3866 \nL 703 4441 \nL 1819 4666 \nL 2450 4666 \nL 2450 531 \nL 3481 531 \nL 3481 0 \nL 794 0 \nL 794 531 \nz\n\" id=\"DejaVuSans-31\" transform=\"scale(0.015625)\"/>\n       </defs>\n       <use xlink:href=\"#DejaVuSans-31\"/>\n       <use x=\"63.623047\" xlink:href=\"#DejaVuSans-2e\"/>\n       <use x=\"95.410156\" xlink:href=\"#DejaVuSans-30\"/>\n      </g>\n     </g>\n    </g>\n    <g id=\"text_7\">\n     <!-- false positive rate -->\n     <g transform=\"translate(166.339844 256.715781)scale(0.1 -0.1)\">\n      <defs>\n       <path d=\"M 2375 4863 \nL 2375 4384 \nL 1825 4384 \nQ 1516 4384 1395 4259 \nQ 1275 4134 1275 3809 \nL 1275 3500 \nL 2222 3500 \nL 2222 3053 \nL 1275 3053 \nL 1275 0 \nL 697 0 \nL 697 3053 \nL 147 3053 \nL 147 3500 \nL 697 3500 \nL 697 3744 \nQ 697 4328 969 4595 \nQ 1241 4863 1831 4863 \nL 2375 4863 \nz\n\" id=\"DejaVuSans-66\" transform=\"scale(0.015625)\"/>\n       <path d=\"M 2194 1759 \nQ 1497 1759 1228 1600 \nQ 959 1441 959 1056 \nQ 959 750 1161 570 \nQ 1363 391 1709 391 \nQ 2188 391 2477 730 \nQ 2766 1069 2766 1631 \nL 2766 1759 \nL 2194 1759 \nz\nM 3341 1997 \nL 3341 0 \nL 2766 0 \nL 2766 531 \nQ 2569 213 2275 61 \nQ 1981 -91 1556 -91 \nQ 1019 -91 701 211 \nQ 384 513 384 1019 \nQ 384 1609 779 1909 \nQ 1175 2209 1959 2209 \nL 2766 2209 \nL 2766 2266 \nQ 2766 2663 2505 2880 \nQ 2244 3097 1772 3097 \nQ 1472 3097 1187 3025 \nQ 903 2953 641 2809 \nL 641 3341 \nQ 956 3463 1253 3523 \nQ 1550 3584 1831 3584 \nQ 2591 3584 2966 3190 \nQ 3341 2797 3341 1997 \nz\n\" id=\"DejaVuSans-61\" transform=\"scale(0.015625)\"/>\n       <path d=\"M 603 4863 \nL 1178 4863 \nL 1178 0 \nL 603 0 \nL 603 4863 \nz\n\" id=\"DejaVuSans-6c\" transform=\"scale(0.015625)\"/>\n       <path d=\"M 2834 3397 \nL 2834 2853 \nQ 2591 2978 2328 3040 \nQ 2066 3103 1784 3103 \nQ 1356 3103 1142 2972 \nQ 928 2841 928 2578 \nQ 928 2378 1081 2264 \nQ 1234 2150 1697 2047 \nL 1894 2003 \nQ 2506 1872 2764 1633 \nQ 3022 1394 3022 966 \nQ 3022 478 2636 193 \nQ 2250 -91 1575 -91 \nQ 1294 -91 989 -36 \nQ 684 19 347 128 \nL 347 722 \nQ 666 556 975 473 \nQ 1284 391 1588 391 \nQ 1994 391 2212 530 \nQ 2431 669 2431 922 \nQ 2431 1156 2273 1281 \nQ 2116 1406 1581 1522 \nL 1381 1569 \nQ 847 1681 609 1914 \nQ 372 2147 372 2553 \nQ 372 3047 722 3315 \nQ 1072 3584 1716 3584 \nQ 2034 3584 2315 3537 \nQ 2597 3491 2834 3397 \nz\n\" id=\"DejaVuSans-73\" transform=\"scale(0.015625)\"/>\n       <path d=\"M 3597 1894 \nL 3597 1613 \nL 953 1613 \nQ 991 1019 1311 708 \nQ 1631 397 2203 397 \nQ 2534 397 2845 478 \nQ 3156 559 3463 722 \nL 3463 178 \nQ 3153 47 2828 -22 \nQ 2503 -91 2169 -91 \nQ 1331 -91 842 396 \nQ 353 884 353 1716 \nQ 353 2575 817 3079 \nQ 1281 3584 2069 3584 \nQ 2775 3584 3186 3129 \nQ 3597 2675 3597 1894 \nz\nM 3022 2063 \nQ 3016 2534 2758 2815 \nQ 2500 3097 2075 3097 \nQ 1594 3097 1305 2825 \nQ 1016 2553 972 2059 \nL 3022 2063 \nz\n\" id=\"DejaVuSans-65\" transform=\"scale(0.015625)\"/>\n       <path id=\"DejaVuSans-20\" transform=\"scale(0.015625)\"/>\n       <path d=\"M 1159 525 \nL 1159 -1331 \nL 581 -1331 \nL 581 3500 \nL 1159 3500 \nL 1159 2969 \nQ 1341 3281 1617 3432 \nQ 1894 3584 2278 3584 \nQ 2916 3584 3314 3078 \nQ 3713 2572 3713 1747 \nQ 3713 922 3314 415 \nQ 2916 -91 2278 -91 \nQ 1894 -91 1617 61 \nQ 1341 213 1159 525 \nz\nM 3116 1747 \nQ 3116 2381 2855 2742 \nQ 2594 3103 2138 3103 \nQ 1681 3103 1420 2742 \nQ 1159 2381 1159 1747 \nQ 1159 1113 1420 752 \nQ 1681 391 2138 391 \nQ 2594 391 2855 752 \nQ 3116 1113 3116 1747 \nz\n\" id=\"DejaVuSans-70\" transform=\"scale(0.015625)\"/>\n       <path d=\"M 1959 3097 \nQ 1497 3097 1228 2736 \nQ 959 2375 959 1747 \nQ 959 1119 1226 758 \nQ 1494 397 1959 397 \nQ 2419 397 2687 759 \nQ 2956 1122 2956 1747 \nQ 2956 2369 2687 2733 \nQ 2419 3097 1959 3097 \nz\nM 1959 3584 \nQ 2709 3584 3137 3096 \nQ 3566 2609 3566 1747 \nQ 3566 888 3137 398 \nQ 2709 -91 1959 -91 \nQ 1206 -91 779 398 \nQ 353 888 353 1747 \nQ 353 2609 779 3096 \nQ 1206 3584 1959 3584 \nz\n\" id=\"DejaVuSans-6f\" transform=\"scale(0.015625)\"/>\n       <path d=\"M 603 3500 \nL 1178 3500 \nL 1178 0 \nL 603 0 \nL 603 3500 \nz\nM 603 4863 \nL 1178 4863 \nL 1178 4134 \nL 603 4134 \nL 603 4863 \nz\n\" id=\"DejaVuSans-69\" transform=\"scale(0.015625)\"/>\n       <path d=\"M 1172 4494 \nL 1172 3500 \nL 2356 3500 \nL 2356 3053 \nL 1172 3053 \nL 1172 1153 \nQ 1172 725 1289 603 \nQ 1406 481 1766 481 \nL 2356 481 \nL 2356 0 \nL 1766 0 \nQ 1100 0 847 248 \nQ 594 497 594 1153 \nL 594 3053 \nL 172 3053 \nL 172 3500 \nL 594 3500 \nL 594 4494 \nL 1172 4494 \nz\n\" id=\"DejaVuSans-74\" transform=\"scale(0.015625)\"/>\n       <path d=\"M 191 3500 \nL 800 3500 \nL 1894 563 \nL 2988 3500 \nL 3597 3500 \nL 2284 0 \nL 1503 0 \nL 191 3500 \nz\n\" id=\"DejaVuSans-76\" transform=\"scale(0.015625)\"/>\n       <path d=\"M 2631 2963 \nQ 2534 3019 2420 3045 \nQ 2306 3072 2169 3072 \nQ 1681 3072 1420 2755 \nQ 1159 2438 1159 1844 \nL 1159 0 \nL 581 0 \nL 581 3500 \nL 1159 3500 \nL 1159 2956 \nQ 1341 3275 1631 3429 \nQ 1922 3584 2338 3584 \nQ 2397 3584 2469 3576 \nQ 2541 3569 2628 3553 \nL 2631 2963 \nz\n\" id=\"DejaVuSans-72\" transform=\"scale(0.015625)\"/>\n      </defs>\n      <use xlink:href=\"#DejaVuSans-66\"/>\n      <use x=\"35.205078\" xlink:href=\"#DejaVuSans-61\"/>\n      <use x=\"96.484375\" xlink:href=\"#DejaVuSans-6c\"/>\n      <use x=\"124.267578\" xlink:href=\"#DejaVuSans-73\"/>\n      <use x=\"176.367188\" xlink:href=\"#DejaVuSans-65\"/>\n      <use x=\"237.890625\" xlink:href=\"#DejaVuSans-20\"/>\n      <use x=\"269.677734\" xlink:href=\"#DejaVuSans-70\"/>\n      <use x=\"333.154297\" xlink:href=\"#DejaVuSans-6f\"/>\n      <use x=\"394.335938\" xlink:href=\"#DejaVuSans-73\"/>\n      <use x=\"446.435547\" xlink:href=\"#DejaVuSans-69\"/>\n      <use x=\"474.21875\" xlink:href=\"#DejaVuSans-74\"/>\n      <use x=\"513.427734\" xlink:href=\"#DejaVuSans-69\"/>\n      <use x=\"541.210938\" xlink:href=\"#DejaVuSans-76\"/>\n      <use x=\"600.390625\" xlink:href=\"#DejaVuSans-65\"/>\n      <use x=\"661.914062\" xlink:href=\"#DejaVuSans-20\"/>\n      <use x=\"693.701172\" xlink:href=\"#DejaVuSans-72\"/>\n      <use x=\"734.814453\" xlink:href=\"#DejaVuSans-61\"/>\n      <use x=\"796.09375\" xlink:href=\"#DejaVuSans-74\"/>\n      <use x=\"835.302734\" xlink:href=\"#DejaVuSans-65\"/>\n     </g>\n    </g>\n   </g>\n   <g id=\"matplotlib.axis_2\">\n    <g id=\"ytick_1\">\n     <g id=\"line2d_7\">\n      <defs>\n       <path d=\"M 0 0 \nL -3.5 0 \n\" id=\"m60803cbc30\" style=\"stroke:#000000;stroke-width:0.8;\"/>\n      </defs>\n      <g>\n       <use style=\"stroke:#000000;stroke-width:0.8;\" x=\"43.78125\" xlink:href=\"#m60803cbc30\" y=\"228.439219\"/>\n      </g>\n     </g>\n     <g id=\"text_8\">\n      <!-- 0.0 -->\n      <g transform=\"translate(20.878125 232.238437)scale(0.1 -0.1)\">\n       <use xlink:href=\"#DejaVuSans-30\"/>\n       <use x=\"63.623047\" xlink:href=\"#DejaVuSans-2e\"/>\n       <use x=\"95.410156\" xlink:href=\"#DejaVuSans-30\"/>\n      </g>\n     </g>\n    </g>\n    <g id=\"ytick_2\">\n     <g id=\"line2d_8\">\n      <g>\n       <use style=\"stroke:#000000;stroke-width:0.8;\" x=\"43.78125\" xlink:href=\"#m60803cbc30\" y=\"184.951219\"/>\n      </g>\n     </g>\n     <g id=\"text_9\">\n      <!-- 0.2 -->\n      <g transform=\"translate(20.878125 188.750437)scale(0.1 -0.1)\">\n       <use xlink:href=\"#DejaVuSans-30\"/>\n       <use x=\"63.623047\" xlink:href=\"#DejaVuSans-2e\"/>\n       <use x=\"95.410156\" xlink:href=\"#DejaVuSans-32\"/>\n      </g>\n     </g>\n    </g>\n    <g id=\"ytick_3\">\n     <g id=\"line2d_9\">\n      <g>\n       <use style=\"stroke:#000000;stroke-width:0.8;\" x=\"43.78125\" xlink:href=\"#m60803cbc30\" y=\"141.463219\"/>\n      </g>\n     </g>\n     <g id=\"text_10\">\n      <!-- 0.4 -->\n      <g transform=\"translate(20.878125 145.262437)scale(0.1 -0.1)\">\n       <use xlink:href=\"#DejaVuSans-30\"/>\n       <use x=\"63.623047\" xlink:href=\"#DejaVuSans-2e\"/>\n       <use x=\"95.410156\" xlink:href=\"#DejaVuSans-34\"/>\n      </g>\n     </g>\n    </g>\n    <g id=\"ytick_4\">\n     <g id=\"line2d_10\">\n      <g>\n       <use style=\"stroke:#000000;stroke-width:0.8;\" x=\"43.78125\" xlink:href=\"#m60803cbc30\" y=\"97.975219\"/>\n      </g>\n     </g>\n     <g id=\"text_11\">\n      <!-- 0.6 -->\n      <g transform=\"translate(20.878125 101.774437)scale(0.1 -0.1)\">\n       <use xlink:href=\"#DejaVuSans-30\"/>\n       <use x=\"63.623047\" xlink:href=\"#DejaVuSans-2e\"/>\n       <use x=\"95.410156\" xlink:href=\"#DejaVuSans-36\"/>\n      </g>\n     </g>\n    </g>\n    <g id=\"ytick_5\">\n     <g id=\"line2d_11\">\n      <g>\n       <use style=\"stroke:#000000;stroke-width:0.8;\" x=\"43.78125\" xlink:href=\"#m60803cbc30\" y=\"54.487219\"/>\n      </g>\n     </g>\n     <g id=\"text_12\">\n      <!-- 0.8 -->\n      <g transform=\"translate(20.878125 58.286437)scale(0.1 -0.1)\">\n       <use xlink:href=\"#DejaVuSans-30\"/>\n       <use x=\"63.623047\" xlink:href=\"#DejaVuSans-2e\"/>\n       <use x=\"95.410156\" xlink:href=\"#DejaVuSans-38\"/>\n      </g>\n     </g>\n    </g>\n    <g id=\"ytick_6\">\n     <g id=\"line2d_12\">\n      <g>\n       <use style=\"stroke:#000000;stroke-width:0.8;\" x=\"43.78125\" xlink:href=\"#m60803cbc30\" y=\"10.999219\"/>\n      </g>\n     </g>\n     <g id=\"text_13\">\n      <!-- 1.0 -->\n      <g transform=\"translate(20.878125 14.798437)scale(0.1 -0.1)\">\n       <use xlink:href=\"#DejaVuSans-31\"/>\n       <use x=\"63.623047\" xlink:href=\"#DejaVuSans-2e\"/>\n       <use x=\"95.410156\" xlink:href=\"#DejaVuSans-30\"/>\n      </g>\n     </g>\n    </g>\n    <g id=\"text_14\">\n     <!-- true positive rate -->\n     <g transform=\"translate(14.798438 162.927031)rotate(-90)scale(0.1 -0.1)\">\n      <defs>\n       <path d=\"M 544 1381 \nL 544 3500 \nL 1119 3500 \nL 1119 1403 \nQ 1119 906 1312 657 \nQ 1506 409 1894 409 \nQ 2359 409 2629 706 \nQ 2900 1003 2900 1516 \nL 2900 3500 \nL 3475 3500 \nL 3475 0 \nL 2900 0 \nL 2900 538 \nQ 2691 219 2414 64 \nQ 2138 -91 1772 -91 \nQ 1169 -91 856 284 \nQ 544 659 544 1381 \nz\nM 1991 3584 \nL 1991 3584 \nz\n\" id=\"DejaVuSans-75\" transform=\"scale(0.015625)\"/>\n      </defs>\n      <use xlink:href=\"#DejaVuSans-74\"/>\n      <use x=\"39.208984\" xlink:href=\"#DejaVuSans-72\"/>\n      <use x=\"80.322266\" xlink:href=\"#DejaVuSans-75\"/>\n      <use x=\"143.701172\" xlink:href=\"#DejaVuSans-65\"/>\n      <use x=\"205.224609\" xlink:href=\"#DejaVuSans-20\"/>\n      <use x=\"237.011719\" xlink:href=\"#DejaVuSans-70\"/>\n      <use x=\"300.488281\" xlink:href=\"#DejaVuSans-6f\"/>\n      <use x=\"361.669922\" xlink:href=\"#DejaVuSans-73\"/>\n      <use x=\"413.769531\" xlink:href=\"#DejaVuSans-69\"/>\n      <use x=\"441.552734\" xlink:href=\"#DejaVuSans-74\"/>\n      <use x=\"480.761719\" xlink:href=\"#DejaVuSans-69\"/>\n      <use x=\"508.544922\" xlink:href=\"#DejaVuSans-76\"/>\n      <use x=\"567.724609\" xlink:href=\"#DejaVuSans-65\"/>\n      <use x=\"629.248047\" xlink:href=\"#DejaVuSans-20\"/>\n      <use x=\"661.035156\" xlink:href=\"#DejaVuSans-72\"/>\n      <use x=\"702.148438\" xlink:href=\"#DejaVuSans-61\"/>\n      <use x=\"763.427734\" xlink:href=\"#DejaVuSans-74\"/>\n      <use x=\"802.636719\" xlink:href=\"#DejaVuSans-65\"/>\n     </g>\n    </g>\n   </g>\n   <g id=\"line2d_13\">\n    <path clip-path=\"url(#pc58a330e5b)\" d=\"M 43.78125 228.439219 \nL 43.78125 187.669219 \nL 43.78125 206.419978 \nL 64.70625 206.419978 \nL 64.70625 207.22556 \nL 63.475368 207.22556 \nL 63.475368 210.128482 \nL 62.38125 210.128482 \nL 62.38125 211.216248 \nL 61.402303 211.216248 \nL 61.402303 212.182022 \nL 61.402303 210.319219 \nL 61.402303 210.485457 \nL 60.52125 210.485457 \nL 60.52125 207.458166 \nL 60.52125 207.819908 \nL 59.724107 207.819908 \nL 59.724107 208.339723 \nL 74.217614 208.339723 \nL 74.217614 208.507219 \nL 72.894293 208.507219 \nL 72.894293 206.874921 \nL 72.894293 207.396638 \nL 71.68125 207.396638 \nL 71.68125 205.825459 \nL 71.68125 206.695219 \nL 70.56525 206.695219 \nL 70.56525 207.344293 \nL 82.412019 207.344293 \nL 82.412019 207.806226 \nL 93.38125 207.806226 \nL 93.38125 206.380088 \nL 91.609821 206.380088 \nL 91.609821 204.974471 \nL 91.609821 205.307304 \nL 108.58125 205.307304 \nL 108.58125 205.789219 \nL 106.55625 205.789219 \nL 106.55625 206.099493 \nL 102.863603 206.099493 \nL 110.74125 206.099493 \nL 110.74125 204.77228 \nL 108.88125 204.77228 \nL 108.88125 205.84805 \nL 108.88125 202.936997 \nL 108.88125 203.093452 \nL 105.454934 203.093452 \nL 105.454934 203.551508 \nL 103.873558 203.551508 \nL 110.74125 203.551508 \nL 110.74125 203.700536 \nL 117.273933 203.700536 \nL 113.855669 203.700536 \nL 113.855669 205.487219 \nL 110.74125 205.487219 \nL 110.74125 205.614025 \nL 110.74125 204.544713 \nL 116.563859 204.544713 \nL 116.563859 204.932192 \nL 127.48125 204.932192 \nL 125.773087 204.932192 \nL 125.773087 206.585952 \nL 124.13325 206.585952 \nL 124.13325 206.695219 \nL 124.13325 206.910506 \nL 122.557721 206.910506 \nL 127.48125 206.910506 \nL 127.48125 207.016559 \nL 127.48125 207.430523 \nL 132.218986 207.430523 \nL 132.218986 207.531526 \nL 132.218986 207.926011 \nL 130.58125 207.926011 \nL 130.58125 208.022317 \nL 130.58125 208.398666 \nL 127.48125 208.398666 \nL 131.886513 208.398666 \nL 130.367457 208.490595 \nL 130.367457 208.671946 \nL 126.109119 208.761391 \nL 126.109119 208.937873 \nL 130.18125 208.937873 \nL 130.18125 209.024933 \nL 130.18125 209.111219 \nL 128.809821 209.111219 \nL 128.809821 209.196741 \nL 128.809821 209.281509 \nL 128.809821 208.41185 \nL 128.809821 208.841622 \nL 126.193558 208.925373 \nL 126.193558 209.00841 \nL 124.944886 209.00841 \nL 124.944886 209.090744 \nL 124.944886 209.333612 \nL 128.730504 209.333612 \nL 128.730504 209.413219 \nL 128.730504 209.492165 \nL 128.730504 208.671946 \nL 128.730504 208.753293 \nL 127.48125 208.753293 \nL 127.48125 208.833973 \nL 127.48125 208.913994 \nL 125.089821 208.993365 \nL 125.089821 209.150186 \nL 125.089821 208.354399 \nL 123.94463 208.354399 \nL 127.48125 208.434739 \nL 127.48125 208.903594 \nL 126.334675 208.903594 \nL 126.334675 208.133538 \nL 126.334675 208.290338 \nL 125.219088 208.290338 \nL 125.219088 208.367834 \nL 125.219088 207.611633 \nL 125.219088 208.003129 \nL 124.13325 208.003129 \nL 124.13325 208.079668 \nL 124.13325 208.155637 \nL 124.13325 206.695219 \nL 121.042788 206.695219 \nL 121.042788 206.775455 \nL 121.042788 207.090564 \nL 119.11125 207.090564 \nL 119.11125 206.380088 \nL 122.314583 206.380088 \nL 122.314583 205.674742 \nL 122.314583 206.157381 \nL 121.35686 206.157381 \nL 121.35686 205.470205 \nL 121.35686 205.550798 \nL 120.422214 205.550798 \nL 120.422214 205.630827 \nL 120.422214 205.945426 \nL 123.495536 205.945426 \nL 122.557721 206.022724 \nL 122.557721 206.326676 \nL 122.557721 205.089957 \nL 122.557721 205.168048 \nL 121.641715 205.168048 \nL 121.641715 205.245619 \nL 121.641715 205.475258 \nL 121.641715 204.835535 \nL 120.746767 204.835535 \nL 120.746767 204.912924 \nL 120.746767 205.217471 \nL 120.746767 204.590961 \nL 120.746767 204.667643 \nL 126.540801 204.667643 \nL 126.540801 204.743834 \nL 126.540801 205.336219 \nL 124.721909 205.408191 \nL 124.721909 205.621441 \nL 123.84212 205.621441 \nL 123.84212 205.69165 \nL 123.84212 205.761427 \nL 123.84212 205.165824 \nL 126.58125 205.165824 \nL 126.58125 205.23678 \nL 126.58125 205.516327 \nL 125.700399 205.585165 \nL 125.700399 205.923242 \nL 124.838092 205.923242 \nL 124.838092 205.989661 \nL 124.838092 206.055689 \nL 129.189413 206.12133 \nL 129.189413 204.883219 \nL 129.189413 205.142076 \nL 131.708523 205.142076 \nL 131.708523 205.205904 \nL 131.708523 204.665779 \nL 131.708523 205.377401 \nL 134.17725 205.377401 \nL 134.17725 205.435491 \nL 134.17725 205.608019 \nL 133.28224 205.608019 \nL 133.28224 205.664954 \nL 133.28224 205.83407 \nL 132.404779 205.83407 \nL 132.404779 205.889885 \nL 132.404779 205.409859 \nL 132.404779 205.466442 \nL 131.544357 205.466442 \nL 131.544357 205.522748 \nL 131.544357 205.909291 \nL 133.919712 205.909291 \nL 133.06125 206.017348 \nL 133.06125 206.124374 \nL 137.650409 206.177504 \nL 137.650409 206.230383 \nL 137.650409 206.28301 \nL 137.650409 205.821346 \nL 137.650409 206.189544 \nL 134.267736 206.292552 \nL 134.267736 206.343699 \nL 134.267736 205.893597 \nL 134.267736 205.945426 \nL 136.449107 205.945426 \nL 135.629038 206.048372 \nL 135.629038 206.201037 \nL 134.031685 206.251464 \nL 134.031685 206.301662 \nL 134.031685 205.860799 \nL 136.139871 205.860799 \nL 136.139871 205.962275 \nL 136.139871 206.012672 \nL 135.350481 206.012672 \nL 135.350481 206.11279 \nL 135.350481 206.162515 \nL 134.57447 206.162515 \nL 134.57447 206.261303 \nL 134.57447 206.504482 \nL 134.57447 206.07668 \nL 133.811502 206.07668 \nL 133.811502 206.174121 \nL 133.811502 205.749827 \nL 130.18125 205.799045 \nL 130.18125 205.84805 \nL 130.18125 206.089925 \nL 129.49005 206.13768 \nL 129.49005 206.185232 \nL 129.49005 205.769942 \nL 129.49005 206.008566 \nL 128.809821 206.008566 \nL 130.776526 206.102615 \nL 130.776526 206.425665 \nL 130.096875 206.425665 \nL 130.096875 206.516256 \nL 130.096875 206.739504 \nL 130.096875 205.825459 \nL 130.096875 206.004933 \nL 132.02311 206.004933 \nL 132.02311 206.093606 \nL 132.02311 205.41616 \nL 132.02311 205.550798 \nL 131.344327 205.550798 \nL 131.344327 205.172293 \nL 131.344327 205.528874 \nL 130.017614 205.57268 \nL 130.017614 205.616318 \nL 130.017614 205.245619 \nL 130.017614 205.377401 \nL 129.36922 205.377401 \nL 129.36922 205.464426 \nL 129.36922 205.550798 \nL 128.730504 205.550798 \nL 128.730504 205.636522 \nL 128.730504 205.84805 \nL 128.730504 205.341197 \nL 130.58125 205.341197 \nL 130.58125 205.425496 \nL 130.58125 205.550798 \nL 130.58125 205.198349 \nL 130.58125 205.323976 \nL 129.943015 205.323976 \nL 129.943015 205.36555 \nL 129.943015 205.016598 \nL 129.943015 205.224984 \nL 129.314097 205.224984 \nL 129.314097 204.88 \nL 129.314097 204.921772 \nL 131.12038 204.921772 \nL 131.12038 204.578546 \nL 131.12038 204.78785 \nL 130.492041 204.78785 \nL 130.492041 204.870547 \nL 130.492041 204.532203 \nL 128.660123 204.615358 \nL 128.660123 204.656719 \nL 128.660123 203.907526 \nL 128.660123 204.115422 \nL 128.066565 204.115422 \nL 128.066565 204.197597 \nL 128.066565 204.238477 \nL 126.904009 204.238477 \nL 126.904009 204.319824 \nL 126.904009 204.440824 \nL 128.627825 204.440824 \nL 128.627825 204.520819 \nL 128.627825 204.560616 \nL 128.627825 204.239086 \nL 127.48125 204.279219 \nL 129.166485 204.279219 \nL 129.166485 204.319219 \nL 129.166485 204.359087 \nL 128.035555 204.359087 \nL 131.310662 204.438428 \nL 131.310662 204.477903 \nL 130.18125 204.477903 \nL 130.18125 204.556465 \nL 130.18125 204.712053 \nL 130.18125 204.318061 \nL 130.18125 204.47219 \nL 129.627404 204.47219 \nL 129.627404 204.548518 \nL 129.627404 204.5865 \nL 128.540744 204.624362 \nL 128.540744 204.24135 \nL 128.540744 204.354601 \nL 127.48125 204.429514 \nL 127.48125 204.577951 \nL 127.48125 204.279219 \nL 127.48125 204.316445 \nL 126.961374 204.316445 \nL 128.514583 204.316445 \nL 127.994747 204.42744 \nL 127.994747 204.131225 \nL 127.994747 204.569865 \nL 127.48125 204.569865 \nL 127.48125 204.279219 \nL 127.48125 204.38756 \nL 126.973977 204.38756 \nL 126.973977 204.494933 \nL 126.973977 204.706829 \nL 126.472816 204.706829 \nL 126.472816 204.776631 \nL 126.472816 204.492082 \nL 129.474107 204.492082 \nL 129.474107 204.562206 \nL 129.474107 204.279219 \nL 129.474107 204.419684 \nL 128.967049 204.419684 \nL 130.435368 204.419684 \nL 130.435368 204.138958 \nL 130.435368 204.383357 \nL 133.320785 204.41787 \nL 133.320785 204.486601 \nL 133.320785 204.520819 \nL 132.291595 204.588962 \nL 132.291595 204.622889 \nL 132.291595 204.656719 \nL 132.291595 203.904381 \nL 132.291595 203.938937 \nL 131.285795 204.007758 \nL 132.682945 204.042024 \nL 132.183497 204.042024 \nL 132.183497 204.144247 \nL 129.768135 204.245617 \nL 129.768135 204.346144 \nL 131.12038 204.346144 \nL 131.12038 204.078721 \nL 131.12038 204.112368 \nL 130.648277 204.112368 \nL 130.648277 204.212754 \nL 130.648277 204.279219 \nL 129.262101 204.34532 \nL 129.262101 204.378235 \nL 129.262101 204.41106 \nL 129.262101 204.147557 \nL 130.58125 204.147557 \nL 130.58125 204.246437 \nL 130.58125 204.409461 \nL 131.886513 204.409461 \nL 131.886513 204.506225 \nL 131.886513 204.570303 \nL 131.886513 204.311518 \nL 131.886513 204.407901 \nL 131.425229 204.407901 \nL 131.425229 204.503516 \nL 131.425229 204.247219 \nL 131.425229 204.342965 \nL 132.7125 204.342965 \nL 132.7125 204.437957 \nL 132.7125 204.563454 \nL 131.795683 204.563454 \nL 131.795683 204.656719 \nL 131.795683 204.718491 \nL 130.897577 204.779944 \nL 130.897577 204.810551 \nL 130.897577 204.871528 \nL 130.897577 204.465065 \nL 130.897577 204.495762 \nL 130.017614 204.495762 \nL 130.017614 204.001518 \nL 130.017614 204.063779 \nL 128.730504 204.094791 \nL 128.730504 204.156579 \nL 128.730504 204.218054 \nL 129.967389 204.218054 \nL 129.967389 203.973783 \nL 129.967389 204.004673 \nL 129.542826 204.004673 \nL 130.763603 204.096879 \nL 130.763603 204.157964 \nL 129.919114 204.249019 \nL 129.919114 204.279219 \nL 131.12038 204.279219 \nL 131.12038 204.038221 \nL 131.12038 204.129157 \nL 130.284599 204.189405 \nL 131.466964 204.189405 \nL 131.466964 204.219417 \nL 131.466964 204.42744 \nL 131.466964 204.190395 \nL 131.466964 204.338074 \nL 131.051392 204.338074 \nL 131.051392 204.425821 \nL 131.051392 204.454928 \nL 130.639741 204.454928 \nL 130.639741 204.541827 \nL 130.639741 203.931593 \nL 130.639741 204.048574 \nL 129.827979 204.048574 \nL 129.827979 203.64796 \nL 129.827979 203.677368 \nL 129.427762 203.706707 \nL 129.427762 203.765176 \nL 129.427762 203.938937 \nL 129.03125 203.938937 \nL 130.18125 203.938937 \nL 130.18125 203.379195 \nL 130.18125 203.437407 \nL 129.392209 203.524219 \nL 129.392209 203.61043 \nL 129.392209 203.225166 \nL 129.003068 203.225166 \nL 129.003068 203.311713 \nL 129.003068 203.397668 \nL 129.003068 203.178535 \nL 129.003068 203.293096 \nL 128.235304 203.349988 \nL 128.235304 203.378337 \nL 128.235304 203.463003 \nL 128.235304 203.246508 \nL 127.856586 203.246508 \nL 127.856586 203.0305 \nL 127.48125 203.0305 \nL 127.48125 203.115859 \nL 127.48125 203.144185 \nL 126.740542 203.144185 \nL 127.849972 203.172448 \nL 127.849972 202.957969 \nL 127.849972 203.01472 \nL 127.115748 203.043001 \nL 127.115748 203.099374 \nL 127.115748 203.127467 \nL 127.115748 202.9147 \nL 126.753424 202.9147 \nL 126.753424 202.999219 \nL 126.753424 203.111043 \nL 126.753424 202.900163 \nL 126.394237 202.900163 \nL 127.48125 202.928166 \nL 127.48125 202.983989 \nL 127.48125 203.122483 \nL 126.765865 203.150001 \nL 126.765865 202.941369 \nL 127.83742 202.941369 \nL 127.83742 202.969024 \nL 127.83742 202.761039 \nL 128.899894 202.761039 \nL 128.899894 202.87184 \nL 128.899894 203.036261 \nL 128.540744 203.036261 \nL 128.540744 202.830653 \nL 128.540744 203.101931 \nL 128.184611 203.101931 \nL 128.184611 202.722978 \nL 128.184611 202.777174 \nL 127.831459 202.777174 \nL 127.831459 202.831143 \nL 127.831459 202.629639 \nL 127.831459 202.81803 \nL 128.87625 202.81803 \nL 128.87625 202.472864 \nL 128.87625 202.4998 \nL 128.172986 202.52668 \nL 129.203472 202.52668 \nL 128.853381 202.606987 \nL 128.853381 202.66025 \nL 128.161738 202.739733 \nL 128.161738 202.766118 \nL 128.161738 202.79245 \nL 127.145105 202.871121 \nL 127.145105 202.469664 \nL 126.480852 202.469664 \nL 127.809485 202.54828 \nL 127.809485 202.57438 \nL 127.809485 202.626422 \nL 127.809485 202.433832 \nL 127.809485 202.537957 \nL 127.48125 202.537957 \nL 128.458293 202.563859 \nL 128.458293 202.641253 \nL 128.458293 202.666948 \nL 127.16056 202.769219 \nL 127.16056 202.79466 \nL 126.842319 202.79466 \nL 126.842319 202.845391 \nL 126.842319 202.65582 \nL 126.842319 202.732027 \nL 126.213068 202.807785 \nL 126.213068 202.832938 \nL 126.213068 202.982829 \nL 126.213068 202.608956 \nL 126.213068 202.68419 \nL 125.902005 202.68419 \nL 125.902005 202.70917 \nL 125.902005 202.523405 \nL 125.902005 202.943394 \nL 125.902005 202.858042 \nL 126.851927 202.858042 \nL 126.540801 202.906491 \nL 126.540801 202.724933 \nL 126.540801 202.773496 \nL 126.231996 202.773496 \nL 127.170098 202.797709 \nL 126.554682 202.870075 \nL 126.554682 202.918092 \nL 125.948283 202.989781 \nL 125.948283 203.013587 \nL 125.948283 203.03735 \nL 125.948283 202.703077 \nL 125.648403 202.703077 \nL 125.648403 202.798662 \nL 125.648403 202.869885 \nL 125.648403 202.131171 \nL 125.648403 202.155263 \nL 125.055163 202.155263 \nL 125.055163 202.25119 \nL 125.055163 202.346419 \nL 124.470459 202.370118 \nL 124.470459 202.023117 \nL 124.470459 202.09477 \nL 123.609008 202.166036 \nL 123.609008 202.189705 \nL 123.609008 202.354205 \nL 124.513165 202.354205 \nL 124.227893 202.354205 \nL 124.227893 202.183047 \nL 124.227893 202.206511 \nL 123.94463 202.206511 \nL 124.838092 202.299949 \nL 124.838092 202.323205 \nL 124.838092 202.153139 \nL 124.838092 202.199787 \nL 124.273236 202.199787 \nL 125.15625 202.292587 \nL 125.15625 202.430564 \nL 124.874676 202.430564 \nL 124.874676 202.476234 \nL 124.874676 202.140604 \nL 124.874676 202.300961 \nL 123.767598 202.293752 \nL 123.767598 202.128415 \nL 123.495536 202.128415 \nL 123.495536 202.219064 \nL 123.495536 202.241628 \nL 123.225318 202.241628 \nL 123.225318 202.286641 \nL 123.225318 201.863219 \nL 123.225318 201.953767 \nL 125.796015 201.976308 \nL 125.796015 202.043701 \nL 125.796015 202.066089 \nL 125.796015 201.742521 \nL 125.796015 201.787655 \nL 127.203177 201.832636 \nL 127.203177 201.671731 \nL 127.203177 201.694282 \nL 126.926945 201.694282 \nL 126.926945 201.784105 \nL 126.926945 201.851078 \nL 126.652537 201.851078 \nL 126.652537 201.691369 \nL 126.652537 201.713734 \nL 125.840074 201.688496 \nL 127.48125 201.663549 \nL 127.48125 201.817559 \nL 127.48125 201.839416 \nL 127.48125 201.682861 \nL 127.48125 201.770372 \nL 128.293871 201.770372 \nL 128.02125 201.874947 \nL 128.02125 202.088143 \nL 128.02125 201.934904 \nL 127.750382 201.934904 \nL 127.750382 201.781911 \nL 127.750382 201.803254 \nL 126.948129 201.714749 \nL 127.48125 201.905336 \nL 127.48125 202.155263 \nL 126.954835 202.175878 \nL 127.743632 202.175878 \nL 127.743632 202.258015 \nL 127.743632 202.149671 \nL 127.743632 202.393469 \nL 127.220502 202.413582 \nL 127.220502 202.366475 \nL 127.220502 202.067777 \nL 127.220502 202.503015 \nL 126.447917 202.503015 \nL 126.447917 202.599936 \nL 126.447917 202.696136 \nL 124.944886 202.687627 \nL 124.944886 202.801488 \nL 124.944886 202.839219 \nL 125.711159 202.839219 \nL 125.464383 202.93306 \nL 125.464383 202.989036 \nL 125.464383 202.848692 \nL 125.464383 202.9233 \nL 126.224493 202.9233 \nL 125.977657 202.9233 \nL 125.977657 202.783516 \nL 125.977657 202.802188 \nL 125.488393 202.802188 \nL 126.985984 202.820833 \nL 126.985984 202.681428 \nL 126.985984 202.718812 \nL 126.253977 202.756088 \nL 126.253977 202.8118 \nL 126.253977 202.848807 \nL 126.991776 202.848807 \nL 126.991776 202.867271 \nL 126.991776 202.627996 \nL 127.725273 202.627996 \nL 127.725273 202.738932 \nL 127.725273 202.757329 \nL 126.997435 202.867159 \nL 126.997435 203.012146 \nL 127.72246 203.012146 \nL 127.72246 202.740365 \nL 127.72246 202.75854 \nL 128.443319 202.75854 \nL 128.443319 202.732027 \nL 128.443319 202.597193 \nL 128.443319 202.866943 \nL 128.200734 202.866943 \nL 128.200734 202.973273 \nL 128.200734 203.026107 \nL 127.24414 203.13112 \nL 127.24414 203.183301 \nL 127.24414 203.051307 \nL 127.24414 203.138192 \nL 126.32197 203.162373 \nL 127.717025 203.190038 \nL 126.32197 203.247999 \nL 126.32197 203.265055 \nL 126.32197 203.13497 \nL 126.32197 203.152079 \nL 125.64169 203.107825 \nL 126.334675 203.209762 \nL 126.334675 203.260424 \nL 126.334675 203.310882 \nL 125.884792 203.394532 \nL 125.884792 203.411195 \nL 125.884792 203.477626 \nL 125.439787 203.477626 \nL 126.123953 203.560171 \nL 125.461679 203.580769 \nL 125.461679 203.597091 \nL 125.461679 203.470715 \nL 125.461679 203.519769 \nL 125.02605 203.536077 \nL 125.02605 203.459167 \nL 125.02605 203.333622 \nL 125.02605 203.366333 \nL 124.38125 203.431499 \nL 124.38125 203.463956 \nL 124.38125 203.480153 \nL 124.168585 203.480153 \nL 124.838092 203.480153 \nL 124.838092 203.420266 \nL 124.838092 203.295963 \nL 124.838092 203.328406 \nL 125.504085 203.328406 \nL 125.290151 203.328406 \nL 125.290151 203.204403 \nL 124.865625 203.253118 \nL 124.865625 203.301646 \nL 124.865625 203.366061 \nL 124.237064 203.435 \nL 124.237064 203.466731 \nL 124.237064 203.529953 \nL 124.237064 203.212888 \nL 125.335096 203.139596 \nL 125.335096 203.018829 \nL 125.335096 203.240565 \nL 126.627168 203.271926 \nL 126.416365 203.349988 \nL 126.416365 203.396593 \nL 126.416365 203.158625 \nL 126.416365 203.236555 \nL 126.206631 203.236555 \nL 126.206631 203.11811 \nL 126.206631 203.133702 \nL 126.845554 203.133702 \nL 126.635795 203.242309 \nL 126.635795 203.303953 \nL 126.012829 203.339826 \nL 126.012829 203.238345 \nL 126.012829 203.121766 \nL 126.012829 203.13711 \nL 125.80725 203.13711 \nL 125.80725 203.243998 \nL 125.80725 203.259195 \nL 126.437609 203.274372 \nL 126.231996 203.369971 \nL 126.231996 203.384938 \nL 126.231996 203.27015 \nL 125.840074 203.245636 \nL 126.668629 203.379644 \nL 126.668629 203.453479 \nL 126.668629 203.286148 \nL 126.668629 203.374456 \nL 126.467933 203.374456 \nL 127.682937 203.349988 \nL 127.48125 203.480888 \nL 127.48125 203.495349 \nL 127.080772 203.441784 \nL 127.080772 203.456216 \nL 127.080772 203.345162 \nL 126.881966 203.345162 \nL 128.077687 203.407466 \nL 128.077687 203.29733 \nL 128.077687 203.187319 \nL 127.874208 203.126783 \nL 128.470612 203.187319 \nL 127.874208 203.155498 \nL 127.874208 203.046566 \nL 127.874208 203.146932 \nL 127.091948 203.175462 \nL 127.091948 203.246508 \nL 127.091948 203.359353 \nL 127.091948 203.251709 \nL 127.67545 203.251709 \nL 127.67545 203.158324 \nL 127.67545 202.957969 \nL 127.67545 202.986376 \nL 126.904009 203.085304 \nL 126.904009 203.113428 \nL 128.434553 203.035099 \nL 128.434553 202.928826 \nL 128.242159 202.928826 \nL 129.374915 202.949554 \nL 128.797879 202.892989 \nL 128.797879 202.711585 \nL 128.797879 202.725606 \nL 128.228571 202.71924 \nL 128.228571 202.629268 \nL 128.228571 202.525459 \nL 127.85325 202.449906 \nL 129.5137 202.492005 \nL 129.5137 202.388663 \nL 129.324862 202.388663 \nL 129.872679 202.383808 \nL 129.872679 202.323101 \nL 129.872679 202.220569 \nL 129.872679 202.262654 \nL 128.568263 202.300155 \nL 129.645905 202.369489 \nL 129.645905 202.39712 \nL 129.645905 202.295744 \nL 129.645905 202.309584 \nL 130.686782 202.245763 \nL 130.502269 202.259534 \nL 130.502269 202.15903 \nL 130.502269 202.33734 \nL 131.36606 202.418823 \nL 131.181671 202.445872 \nL 131.181671 202.472864 \nL 130.633133 202.52668 \nL 131.66625 202.548167 \nL 131.66625 202.574832 \nL 131.66625 202.588143 \nL 131.66625 202.391136 \nL 131.301582 202.404522 \nL 131.813548 202.373153 \nL 131.631663 202.30193 \nL 131.631663 202.119872 \nL 132.140838 202.119872 \nL 132.140838 202.226971 \nL 132.140838 202.266908 \nL 131.597643 202.289284 \nL 131.742961 202.241628 \nL 131.742961 202.145671 \nL 131.742961 202.198337 \nL 133.06125 202.263874 \nL 133.06125 202.303039 \nL 133.06125 202.316068 \nL 134.358404 202.402366 \nL 134.358404 202.415242 \nL 134.358404 202.453797 \nL 133.459821 202.538278 \nL 133.94521 202.563646 \nL 133.94521 202.588964 \nL 133.275865 202.681578 \nL 134.374191 202.616243 \nL 133.275865 202.693826 \nL 133.275865 202.718288 \nL 132.423536 202.749238 \nL 133.651949 202.762143 \nL 133.651949 202.642974 \nL 133.651949 202.488338 \nL 133.14516 202.50043 \nL 133.14516 202.596767 \nL 133.14516 202.62074 \nL 133.269848 202.591818 \nL 131.918727 202.73106 \nL 131.918727 202.754241 \nL 131.437977 202.765816 \nL 132.778718 202.720509 \nL 132.298516 202.858042 \nL 132.298516 202.937593 \nL 131.197946 202.987982 \nL 131.481073 203.044067 \nL 131.481073 203.111043 \nL 131.326126 203.111043 \nL 131.762202 203.181996 \nL 131.607306 203.215041 \nL 131.607306 203.313658 \nL 130.3875 203.220662 \nL 130.3875 203.23149 \nL 130.3875 203.148987 \nL 130.087824 203.11002 \nL 130.794675 203.049518 \nL 130.794675 203.082055 \nL 130.794675 203.000039 \nL 130.794675 203.010896 \nL 130.199712 202.950061 \nL 130.623571 202.971616 \nL 130.623571 202.820232 \nL 130.623571 202.831047 \nL 130.034809 202.927966 \nL 130.034809 202.938689 \nL 130.034809 202.970806 \nL 130.034809 202.831239 \nL 129.453977 202.825986 \nL 129.72823 202.93253 \nL 129.72823 202.863358 \nL 129.72823 203.021821 \nL 129.013197 203.057813 \nL 129.840951 202.926022 \nL 129.840951 202.988452 \nL 129.840951 202.910185 \nL 130.252773 202.910185 \nL 129.967389 203.013835 \nL 129.967389 203.147329 \nL 129.825402 203.147329 \nL 129.825402 203.249066 \nL 129.825402 203.289532 \nL 129.122426 203.256471 \nL 129.122426 203.219992 \nL 129.122426 203.14341 \nL 129.122426 203.233788 \nL 128.706128 203.241205 \nL 129.111769 203.139596 \nL 129.111769 202.998653 \nL 128.698213 203.042906 \nL 128.698213 203.10229 \nL 128.698213 203.122022 \nL 128.288645 203.110488 \nL 128.288645 203.22757 \nL 128.288645 203.256672 \nL 128.288645 203.182726 \nL 129.090865 203.20214 \nL 129.090865 203.289131 \nL 129.090865 203.327601 \nL 128.95437 203.327601 \nL 129.353135 203.254081 \nL 129.080613 203.257596 \nL 129.080613 203.184382 \nL 129.080613 203.222793 \nL 129.993572 203.293096 \nL 129.857591 203.331053 \nL 129.857591 203.387773 \nL 129.306484 203.431183 \nL 130.197942 203.396744 \nL 129.799096 203.489735 \nL 129.799096 203.498996 \nL 129.799096 203.427568 \nL 129.799096 203.464636 \nL 129.272993 203.448886 \nL 129.901798 203.476561 \nL 129.901798 203.417631 \nL 129.901798 203.27625 \nL 129.901798 203.294725 \nL 128.993901 203.221888 \nL 129.614533 203.40449 \nL 129.614533 203.458756 \nL 129.614533 203.389251 \nL 129.614533 203.443413 \nL 130.96875 203.410154 \nL 130.839199 203.377014 \nL 130.839199 203.307962 \nL 130.839199 203.325991 \nL 131.44338 203.343993 \nL 130.799752 203.424685 \nL 130.799752 203.433619 \nL 130.799752 203.487088 \nL 130.38414 203.508335 \nL 130.973768 203.502044 \nL 130.973768 203.428692 \nL 130.973768 203.361644 \nL 130.973768 203.38783 \nL 130.474812 203.405257 \nL 130.705073 203.49203 \nL 130.705073 203.500674 \nL 130.705073 203.433995 \nL 130.705073 203.451306 \nL 130.457779 203.459952 \nL 131.161676 203.494478 \nL 130.791419 203.554669 \nL 130.791419 203.563244 \nL 130.302598 203.580376 \nL 130.998057 203.597484 \nL 130.633133 203.667573 \nL 130.633133 203.676045 \nL 130.978464 203.676045 \nL 130.615647 203.688148 \nL 130.615647 203.780316 \nL 130.615647 203.821983 \nL 130.615647 203.75684 \nL 130.615647 203.79015 \nL 130.959089 203.79015 \nL 130.121991 203.74823 \nL 130.121991 203.692304 \nL 130.121991 203.628201 \nL 130.121991 203.652938 \nL 129.885764 203.726853 \nL 131.001874 203.562305 \nL 130.883689 203.588933 \nL 130.883689 203.525706 \nL 130.883689 203.62347 \nL 130.531048 203.609202 \nL 131.295995 203.673843 \nL 131.17884 203.730128 \nL 131.17884 203.770175 \nL 131.509592 203.770175 \nL 130.811489 203.827339 \nL 131.024107 203.874867 \nL 131.024107 203.890669 \nL 131.633469 203.986743 \nL 131.633469 203.994531 \nL 131.633469 204.002313 \nL 131.633469 203.940886 \nL 131.06374 203.897303 \nL 131.06374 203.867401 \nL 131.06374 203.80654 \nL 131.06374 203.81431 \nL 131.548513 203.825935 \nL 130.708756 203.771942 \nL 131.436422 203.736297 \nL 131.436422 203.676161 \nL 131.436422 203.683885 \nL 131.138553 203.663347 \nL 132.154854 203.596648 \nL 131.447085 203.583221 \nL 131.447085 203.524219 \nL 131.447085 203.539476 \nL 131.754849 203.539476 \nL 131.427404 203.645755 \nL 131.427404 203.668412 \nL 131.427404 203.551109 \nL 131.318796 203.566253 \nL 131.102387 203.573817 \nL 131.407917 203.581377 \nL 131.299869 203.671742 \nL 131.192087 203.754001 \nL 131.192087 203.573976 \nL 131.192087 203.588933 \nL 130.977319 203.588933 \nL 131.281127 203.656015 \nL 131.173897 203.492413 \nL 131.173897 203.379874 \nL 131.173897 203.402242 \nL 131.67136 203.454278 \nL 131.564177 203.506099 \nL 131.564177 203.550346 \nL 131.457255 203.493412 \nL 131.457255 203.508155 \nL 131.350593 203.508155 \nL 131.350593 203.416616 \nL 131.350593 203.359856 \nL 131.350593 203.367252 \nL 131.843795 203.433619 \nL 131.630827 203.47247 \nL 131.524728 203.610649 \nL 130.948114 203.68336 \nL 131.610853 203.612397 \nL 130.948114 203.718806 \nL 130.84508 203.732957 \nL 130.84508 203.677811 \nL 130.84508 203.684894 \nL 130.333541 203.783629 \nL 130.333541 203.790651 \nL 130.333541 203.853673 \nL 130.333541 203.629389 \nL 130.231954 203.636411 \nL 129.928618 203.678461 \nL 130.2191 203.741271 \nL 130.118239 203.776027 \nL 130.118239 203.721785 \nL 130.118239 203.770373 \nL 130.005844 203.811868 \nL 130.667063 203.861156 \nL 130.667063 203.874867 \nL 130.667063 203.91591 \nL 130.952679 203.91591 \nL 129.851012 204.017676 \nL 129.851012 204.024284 \nL 129.753648 204.063854 \nL 129.07822 204.142611 \nL 129.07822 204.168751 \nL 128.982595 204.194834 \nL 129.262101 204.194834 \nL 128.31179 204.291965 \nL 129.129609 204.304281 \nL 129.129609 204.316793 \nL 129.129609 204.216628 \nL 129.036332 204.254221 \nL 129.122426 204.210511 \nL 128.568263 204.359918 \nL 128.476601 204.458502 \nL 127.750382 204.396172 \nL 127.928844 204.389791 \nL 127.928844 204.340632 \nL 127.838942 204.352877 \nL 126.78375 204.44173 \nL 127.926937 204.389538 \nL 126.78375 204.459652 \nL 126.78375 204.471585 \nL 126.697379 204.417173 \nL 126.697379 204.429095 \nL 126.611188 204.429095 \nL 126.872839 204.399001 \nL 126.872839 204.357038 \nL 126.872839 204.261269 \nL 126.786644 204.267255 \nL 126.27817 204.285143 \nL 127.056377 204.23803 \nL 127.056377 204.202782 \nL 127.056377 204.155773 \nL 126.971919 204.261661 \nL 126.887633 204.261661 \nL 127.56571 204.279219 \nL 127.48125 204.18025 \nL 127.39696 204.006585 \nL 127.39696 204.018312 \nL 127.066483 203.934568 \nL 127.81605 204.048078 \nL 127.398624 203.935304 \nL 127.316161 203.759342 \nL 127.316161 203.776837 \nL 127.563713 203.776837 \nL 127.563713 203.69162 \nL 127.563713 203.646131 \nL 127.48125 203.681199 \nL 127.153015 203.613795 \nL 127.153015 203.534873 \nL 127.153015 203.575805 \nL 127.725273 203.482118 \nL 126.997435 203.639034 \nL 127.48125 203.684665 \nL 127.48125 203.707417 \nL 127.48125 203.663147 \nL 127.48125 203.68021 \nL 128.281441 203.74823 \nL 127.959536 203.601681 \nL 127.959536 203.557778 \nL 127.879442 203.574781 \nL 127.166588 203.541509 \nL 127.402953 203.484695 \nL 127.402953 203.441643 \nL 127.324801 203.491862 \nL 127.013652 203.532279 \nL 127.013652 203.59858 \nL 126.936227 203.642585 \nL 126.402244 203.738798 \nL 127.015387 203.654805 \nL 126.402244 203.749626 \nL 126.326236 203.803628 \nL 126.250368 203.803628 \nL 126.794559 203.720515 \nL 126.718955 203.716267 \nL 126.718955 203.674698 \nL 126.718955 203.690713 \nL 127.408404 203.633952 \nL 126.578013 203.599526 \nL 127.123252 203.599 \nL 127.123252 203.551243 \nL 127.907566 203.457682 \nL 127.907566 203.418965 \nL 127.836212 203.444106 \nL 127.129274 203.513381 \nL 127.200378 203.553072 \nL 127.130454 203.567924 \nL 127.48125 203.582758 \nL 126.994218 203.615928 \nL 126.994218 203.674624 \nL 126.994218 203.679502 \nL 126.994218 203.637803 \nL 126.994218 203.652426 \nL 127.342444 203.648669 \nL 127.204098 203.552531 \nL 127.135096 203.464149 \nL 127.135096 203.469018 \nL 127.412248 203.408631 \nL 126.866311 203.578116 \nL 126.866311 203.532531 \nL 126.798542 203.599704 \nL 127.682937 203.587748 \nL 126.173438 203.642012 \nL 126.962984 203.706518 \nL 126.898651 203.756409 \nL 126.523584 203.843354 \nL 127.094347 203.776161 \nL 126.912722 203.863786 \nL 126.912722 203.868187 \nL 127.102517 203.868187 \nL 126.605465 203.943842 \nL 126.922836 203.975292 \nL 126.922836 203.996946 \nL 127.726705 203.974361 \nL 127.541596 204.104778 \nL 127.48125 204.154875 \nL 127.48125 204.121744 \nL 127.420991 204.121744 \nL 127.721767 204.118069 \nL 127.660992 204.229862 \nL 127.600992 204.262789 \nL 126.892642 204.27113 \nL 127.594205 204.372501 \nL 127.594205 204.387978 \nL 127.53769 204.352913 \nL 127.53769 204.356779 \nL 127.256853 204.406559 \nL 127.816497 204.429568 \nL 127.760436 204.467818 \nL 127.70445 204.517362 \nL 127.70445 204.505623 \nL 127.206102 204.548464 \nL 127.759693 204.467011 \nL 127.645475 204.614356 \nL 127.53592 204.632908 \nL 127.210376 204.574263 \nL 127.210376 204.53624 \nL 127.210376 204.506405 \nL 127.211076 204.550596 \nL 127.319354 204.539203 \nL 127.48125 204.539203 \nL 127.266083 204.44607 \nL 127.427493 204.44607 \nL 127.427493 204.416386 \nL 127.373805 204.460539 \nL 127.320185 204.449281 \nL 127.159739 204.529772 \nL 127.320597 204.537063 \nL 127.320597 204.558908 \nL 127.427768 204.584344 \nL 127.901853 204.597685 \nL 127.16219 204.593936 \nL 127.742323 204.693164 \nL 127.637699 204.700238 \nL 127.585484 204.700238 \nL 128.501982 204.677207 \nL 128.341008 204.606705 \nL 128.341008 204.57849 \nL 128.341008 204.581967 \nL 128.736499 204.565053 \nL 128.338935 204.588917 \nL 128.583885 204.484495 \nL 128.533135 204.424949 \nL 128.533135 204.504883 \nL 128.482446 204.435291 \nL 128.431818 204.435291 \nL 128.629193 204.358624 \nL 128.629193 204.330998 \nL 128.578628 204.261976 \nL 128.727528 204.268876 \nL 128.87625 204.268876 \nL 128.573421 204.204039 \nL 128.573421 204.183576 \nL 128.573421 204.156267 \nL 128.573421 204.163131 \nL 129.527467 204.087393 \nL 128.470612 204.176976 \nL 129.477585 204.064433 \nL 129.477585 204.037619 \nL 129.377996 204.054553 \nL 128.97848 204.088825 \nL 129.216964 204.162665 \nL 129.118649 204.182725 \nL 128.620026 204.269382 \nL 128.620026 204.292307 \nL 128.523945 204.347772 \nL 128.523945 204.302057 \nL 128.332436 204.321548 \nL 128.750144 204.233744 \nL 128.7473 204.201627 \nL 128.7473 204.175777 \nL 128.7473 204.182269 \nL 129.115104 204.224507 \nL 127.571736 204.232142 \nL 127.886468 204.092439 \nL 127.886468 204.067562 \nL 127.796081 204.080115 \nL 127.75096 204.080115 \nL 128.366028 204.153497 \nL 128.137549 203.979602 \nL 128.048264 203.87464 \nL 127.738261 203.871081 \nL 128.218122 203.850839 \nL 127.98955 203.9838 \nL 127.98955 203.981164 \nL 127.904405 204.01661 \nL 127.81875 204.014523 \nL 128.232297 204.071837 \nL 127.895197 204.125006 \nL 127.895197 204.142238 \nL 127.895197 204.076697 \nL 127.81208 204.093943 \nL 127.358343 204.021232 \nL 127.358343 203.993151 \nL 127.317454 203.947911 \nL 127.358583 203.988032 \nL 127.48125 203.988032 \nL 126.716315 203.995082 \nL 127.402658 203.897845 \nL 127.402658 203.876098 \nL 127.872006 203.981482 \nL 127.872006 203.986961 \nL 127.793563 204.030704 \nL 127.55911 204.04233 \nL 127.868392 203.931477 \nL 127.868392 203.934191 \nL 127.868392 203.912834 \nL 128.392684 203.921041 \nL 128.124805 204.021949 \nL 128.048579 204.040319 \nL 128.048579 203.998832 \nL 128.048579 204.009333 \nL 127.780713 204.011404 \nL 128.160511 204.022694 \nL 128.003908 203.912614 \nL 127.966359 203.882482 \nL 128.114494 203.936995 \nL 128.789062 203.925126 \nL 127.907566 204.02735 \nL 128.225093 204.047329 \nL 128.118021 204.103291 \nL 128.118021 204.067204 \nL 127.376581 203.98177 \nL 128.289946 204.016385 \nL 128.115088 203.971317 \nL 128.115088 203.953102 \nL 128.18125 203.976193 \nL 128.820189 203.923825 \nL 128.039907 204.015064 \nL 128.707387 203.882752 \nL 128.672824 203.845646 \nL 128.607548 203.897593 \nL 127.955202 203.855627 \nL 128.73434 203.884715 \nL 128.048921 203.799681 \nL 128.048067 203.720342 \nL 127.949545 203.765865 \nL 127.450579 203.728824 \nL 128.042158 203.770269 \nL 127.450579 203.669751 \nL 127.450579 203.652817 \nL 127.48125 203.672407 \nL 127.48125 203.655489 \nL 127.573127 203.655489 \nL 126.994622 203.573771 \nL 126.994622 203.544546 \nL 126.994622 203.524022 \nL 126.934985 203.569 \nL 126.904846 203.538346 \nL 126.844633 203.540502 \nL 128.302671 203.54906 \nL 128.149958 203.647836 \nL 128.149958 203.653761 \nL 128.093825 203.621568 \nL 128.065786 203.647221 \nL 127.645046 203.738983 \nL 128.227338 203.649754 \nL 127.645046 203.758213 \nL 127.617348 203.744705 \nL 127.535636 203.781074 \nL 127.426935 203.807804 \nL 127.58967 203.737364 \nL 127.427145 203.676892 \nL 127.535285 203.653399 \nL 127.535285 203.661017 \nL 128.018477 203.597953 \nL 127.988847 203.615866 \n\" style=\"fill:none;stroke:#1f77b4;stroke-linecap:square;stroke-width:1.5;\"/>\n   </g>\n   <g id=\"patch_3\">\n    <path d=\"M 43.78125 228.439219 \nL 43.78125 10.999219 \n\" style=\"fill:none;stroke:#000000;stroke-linecap:square;stroke-linejoin:miter;stroke-width:0.8;\"/>\n   </g>\n   <g id=\"patch_4\">\n    <path d=\"M 378.58125 228.439219 \nL 378.58125 10.999219 \n\" style=\"fill:none;stroke:#000000;stroke-linecap:square;stroke-linejoin:miter;stroke-width:0.8;\"/>\n   </g>\n   <g id=\"patch_5\">\n    <path d=\"M 43.78125 228.439219 \nL 378.58125 228.439219 \n\" style=\"fill:none;stroke:#000000;stroke-linecap:square;stroke-linejoin:miter;stroke-width:0.8;\"/>\n   </g>\n   <g id=\"patch_6\">\n    <path d=\"M 43.78125 10.999219 \nL 378.58125 10.999219 \n\" style=\"fill:none;stroke:#000000;stroke-linecap:square;stroke-linejoin:miter;stroke-width:0.8;\"/>\n   </g>\n  </g>\n </g>\n <defs>\n  <clipPath id=\"pc58a330e5b\">\n   <rect height=\"217.44\" width=\"334.8\" x=\"43.78125\" y=\"10.999219\"/>\n  </clipPath>\n </defs>\n</svg>\n",
      "image/png": "[encoded data removed]"
     },
     "metadata": {
      "needs_background": "light"
     }
    }
   ],
   "source": [
    "true_positive = 0\n",
    "false_positive = 0\n",
    "true_negative = 0\n",
    "false_negative = 0\n",
    "roc_points_false_positive_rate = []\n",
    "roc_points_true_positive_rate = []\n",
    "\n",
    "threshold = [x / 100 for x in range(0, 101, 5)]\n",
    "\n",
    "predictions.select(\"prediction\", \"salary_indexed\", \"probability\").collect()\n",
    "\n",
    "for value in threshold:\n",
    "    \n",
    "\n",
    "\n",
    "    if row.prediction == 1.0 and row.salary_indexed == 1.0:\n",
    "        true_positive += 1\n",
    "    elif row.prediction == 1.0:\n",
    "        false_positive += 1\n",
    "    elif row.prediction == 0.0 and row.salary_indexed == 1.0:\n",
    "        true_negative += 1\n",
    "    else:\n",
    "        false_negative += 1\n",
    "    \n",
    "    try:\n",
    "        true_positive_rate = true_positive/(true_positive+false_negative)\n",
    "    except ZeroDivisionError:\n",
    "        true_positive_rate = 0\n",
    "    try:\n",
    "        false_positive_rate = false_positive/(false_positive+true_negative)\n",
    "    except ZeroDivisionError:\n",
    "        false_positive_rate = 0\n",
    "\n",
    "    roc_points_true_positive_rate.append(true_positive_rate)\n",
    "    roc_points_false_positive_rate.append(false_positive_rate)\n",
    "    \n",
    "\n",
    "# import matplotlib.pyplot as plt\n",
    "# plt.plot(roc_points_false_positive_rate, roc_points_true_positive_rate)\n",
    "\n",
    "# plt.xlabel('false positive rate')\n",
    "# plt.ylabel('true positive rate')\n",
    "\n",
    "# plt.axis([0, 1, 0, 1])\n",
    "# plt.show()\n",
    "\n",
    "predictions.select(\"prediction\", \"salary_indexed\", \"vector_col\", \"probability\").toPan"
   ]
  },
  {
   "cell_type": "markdown",
   "metadata": {},
   "source": [
    "5. Escribir dos funciones train() y predict() que creen el arbol de acuerdo a la metodología vista en clase (utilizando entropía como métrica de homogeneidad de clases).\n",
    "```\n",
    "def train(train_dataframe):\n",
    "    '''\n",
    "    @return devuelve una estructura de datos que representa el árbol de decision\n",
    "    '''\n",
    "     pass        \n",
    "```\n",
    "\n",
    "```\n",
    "def predict(tree, train_dataframe)\n",
    "    '''\n",
    "    @param tree la estructura de datos que representa el árbol de decisión.\n",
    "    @ return un dataframe con todos los datos de train_dataframe con una columna adicional que representa la probabilidad de que el income sea >50K. \n",
    "    '''\n",
    "    pass\n",
    "```    \n",
    "Ejemplo de uso:\n",
    "\n",
    "```\n",
    "tree = train(train_dataframe)\n",
    "predictions_df = predict(tree, train_dataframe)\n",
    "```"
   ]
  },
  {
   "cell_type": "code",
   "execution_count": 10,
   "metadata": {},
   "outputs": [],
   "source": [
    "# "
   ]
  },
  {
   "cell_type": "markdown",
   "metadata": {},
   "source": [
    "<i>[Extra credit y alumnos masters]</i>\n",
    "    \n",
    "5.  Mejorar la implementación de su algoritmo evitando hacer el split cuando no se logra un mínimo de Information Gain ( https://en.wikipedia.org/wiki/Information_gain_in_decision_trees   )\n"
   ]
  },
  {
   "cell_type": "code",
   "execution_count": 11,
   "metadata": {},
   "outputs": [],
   "source": [
    "#"
   ]
  }
 ],
 "metadata": {
  "kernelspec": {
   "name": "python391jvsc74a57bd07812ea015bdcee6f23a998adcdd2ef97c151c0c241b7b7070987d9313e41299d",
   "display_name": "Python 3.9.1 64-bit"
  },
  "language_info": {
   "codemirror_mode": {
    "name": "ipython",
    "version": 3
   },
   "file_extension": ".py",
   "mimetype": "text/x-python",
   "name": "python",
   "nbconvert_exporter": "python",
   "pygments_lexer": "ipython3",
   "version": "3.9.1-final"
  },
  "metadata": {
   "interpreter": {
    "hash": "7812ea015bdcee6f23a998adcdd2ef97c151c0c241b7b7070987d9313e41299d"
   }
  }
 },
 "nbformat": 4,
 "nbformat_minor": 4
}