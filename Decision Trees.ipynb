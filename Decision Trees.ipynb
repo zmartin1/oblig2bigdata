{
 "cells": [
  {
   "cell_type": "code",
   "execution_count": 1,
   "metadata": {},
   "outputs": [],
   "source": [
    "from pyspark.context import SparkContext\n",
    "\n",
    "sc = SparkContext('local', 'test')\n",
    "\n",
    "from pyspark.sql import SQLContext\n",
    "\n",
    "spark = SQLContext(sc)\n",
    "\n",
    "df_train = spark.read.parquet(\"parquet/train\")\n",
    "df_test = spark.read.parquet(\"parquet/test\")"
   ]
  },
  {
   "cell_type": "code",
   "execution_count": 4,
   "metadata": {},
   "outputs": [
    {
     "data": {
      "text/html": [
       "<div>\n",
       "<style scoped>\n",
       "    .dataframe tbody tr th:only-of-type {\n",
       "        vertical-align: middle;\n",
       "    }\n",
       "\n",
       "    .dataframe tbody tr th {\n",
       "        vertical-align: top;\n",
       "    }\n",
       "\n",
       "    .dataframe thead th {\n",
       "        text-align: right;\n",
       "    }\n",
       "</style>\n",
       "<table border=\"1\" class=\"dataframe\">\n",
       "  <thead>\n",
       "    <tr style=\"text-align: right;\">\n",
       "      <th></th>\n",
       "      <th>age</th>\n",
       "      <th>workclass</th>\n",
       "      <th>fnlwgt</th>\n",
       "      <th>education</th>\n",
       "      <th>education-num</th>\n",
       "      <th>marital-status</th>\n",
       "      <th>occupation</th>\n",
       "      <th>relationship</th>\n",
       "      <th>race</th>\n",
       "      <th>sex</th>\n",
       "      <th>capital-gain</th>\n",
       "      <th>capital-loss</th>\n",
       "      <th>hours-per-week</th>\n",
       "      <th>native-country</th>\n",
       "      <th>income</th>\n",
       "    </tr>\n",
       "  </thead>\n",
       "  <tbody>\n",
       "    <tr>\n",
       "      <th>0</th>\n",
       "      <td>39.0</td>\n",
       "      <td>State-gov</td>\n",
       "      <td>77516.0</td>\n",
       "      <td>Bachelors</td>\n",
       "      <td>13.0</td>\n",
       "      <td>Never-married</td>\n",
       "      <td>Adm-clerical</td>\n",
       "      <td>Not-in-family</td>\n",
       "      <td>White</td>\n",
       "      <td>Male</td>\n",
       "      <td>2174.0</td>\n",
       "      <td>0.0</td>\n",
       "      <td>40.0</td>\n",
       "      <td>United-States</td>\n",
       "      <td>&lt;=50K</td>\n",
       "    </tr>\n",
       "    <tr>\n",
       "      <th>1</th>\n",
       "      <td>50.0</td>\n",
       "      <td>Self-emp-not-inc</td>\n",
       "      <td>83311.0</td>\n",
       "      <td>Bachelors</td>\n",
       "      <td>13.0</td>\n",
       "      <td>Married-civ-spouse</td>\n",
       "      <td>Exec-managerial</td>\n",
       "      <td>Husband</td>\n",
       "      <td>White</td>\n",
       "      <td>Male</td>\n",
       "      <td>0.0</td>\n",
       "      <td>0.0</td>\n",
       "      <td>13.0</td>\n",
       "      <td>United-States</td>\n",
       "      <td>&lt;=50K</td>\n",
       "    </tr>\n",
       "    <tr>\n",
       "      <th>2</th>\n",
       "      <td>38.0</td>\n",
       "      <td>Private</td>\n",
       "      <td>215646.0</td>\n",
       "      <td>HS-grad</td>\n",
       "      <td>9.0</td>\n",
       "      <td>Divorced</td>\n",
       "      <td>Handlers-cleaners</td>\n",
       "      <td>Not-in-family</td>\n",
       "      <td>White</td>\n",
       "      <td>Male</td>\n",
       "      <td>0.0</td>\n",
       "      <td>0.0</td>\n",
       "      <td>40.0</td>\n",
       "      <td>United-States</td>\n",
       "      <td>&lt;=50K</td>\n",
       "    </tr>\n",
       "    <tr>\n",
       "      <th>3</th>\n",
       "      <td>53.0</td>\n",
       "      <td>Private</td>\n",
       "      <td>234721.0</td>\n",
       "      <td>11th</td>\n",
       "      <td>7.0</td>\n",
       "      <td>Married-civ-spouse</td>\n",
       "      <td>Handlers-cleaners</td>\n",
       "      <td>Husband</td>\n",
       "      <td>Black</td>\n",
       "      <td>Male</td>\n",
       "      <td>0.0</td>\n",
       "      <td>0.0</td>\n",
       "      <td>40.0</td>\n",
       "      <td>United-States</td>\n",
       "      <td>&lt;=50K</td>\n",
       "    </tr>\n",
       "    <tr>\n",
       "      <th>4</th>\n",
       "      <td>28.0</td>\n",
       "      <td>Private</td>\n",
       "      <td>338409.0</td>\n",
       "      <td>Bachelors</td>\n",
       "      <td>13.0</td>\n",
       "      <td>Married-civ-spouse</td>\n",
       "      <td>Prof-specialty</td>\n",
       "      <td>Wife</td>\n",
       "      <td>Black</td>\n",
       "      <td>Female</td>\n",
       "      <td>0.0</td>\n",
       "      <td>0.0</td>\n",
       "      <td>40.0</td>\n",
       "      <td>Cuba</td>\n",
       "      <td>&lt;=50K</td>\n",
       "    </tr>\n",
       "    <tr>\n",
       "      <th>...</th>\n",
       "      <td>...</td>\n",
       "      <td>...</td>\n",
       "      <td>...</td>\n",
       "      <td>...</td>\n",
       "      <td>...</td>\n",
       "      <td>...</td>\n",
       "      <td>...</td>\n",
       "      <td>...</td>\n",
       "      <td>...</td>\n",
       "      <td>...</td>\n",
       "      <td>...</td>\n",
       "      <td>...</td>\n",
       "      <td>...</td>\n",
       "      <td>...</td>\n",
       "      <td>...</td>\n",
       "    </tr>\n",
       "    <tr>\n",
       "      <th>32556</th>\n",
       "      <td>27.0</td>\n",
       "      <td>Private</td>\n",
       "      <td>257302.0</td>\n",
       "      <td>Assoc-acdm</td>\n",
       "      <td>12.0</td>\n",
       "      <td>Married-civ-spouse</td>\n",
       "      <td>Tech-support</td>\n",
       "      <td>Wife</td>\n",
       "      <td>White</td>\n",
       "      <td>Female</td>\n",
       "      <td>0.0</td>\n",
       "      <td>0.0</td>\n",
       "      <td>38.0</td>\n",
       "      <td>United-States</td>\n",
       "      <td>&lt;=50K</td>\n",
       "    </tr>\n",
       "    <tr>\n",
       "      <th>32557</th>\n",
       "      <td>40.0</td>\n",
       "      <td>Private</td>\n",
       "      <td>154374.0</td>\n",
       "      <td>HS-grad</td>\n",
       "      <td>9.0</td>\n",
       "      <td>Married-civ-spouse</td>\n",
       "      <td>Machine-op-inspct</td>\n",
       "      <td>Husband</td>\n",
       "      <td>White</td>\n",
       "      <td>Male</td>\n",
       "      <td>0.0</td>\n",
       "      <td>0.0</td>\n",
       "      <td>40.0</td>\n",
       "      <td>United-States</td>\n",
       "      <td>&gt;50K</td>\n",
       "    </tr>\n",
       "    <tr>\n",
       "      <th>32558</th>\n",
       "      <td>58.0</td>\n",
       "      <td>Private</td>\n",
       "      <td>151910.0</td>\n",
       "      <td>HS-grad</td>\n",
       "      <td>9.0</td>\n",
       "      <td>Widowed</td>\n",
       "      <td>Adm-clerical</td>\n",
       "      <td>Unmarried</td>\n",
       "      <td>White</td>\n",
       "      <td>Female</td>\n",
       "      <td>0.0</td>\n",
       "      <td>0.0</td>\n",
       "      <td>40.0</td>\n",
       "      <td>United-States</td>\n",
       "      <td>&lt;=50K</td>\n",
       "    </tr>\n",
       "    <tr>\n",
       "      <th>32559</th>\n",
       "      <td>22.0</td>\n",
       "      <td>Private</td>\n",
       "      <td>201490.0</td>\n",
       "      <td>HS-grad</td>\n",
       "      <td>9.0</td>\n",
       "      <td>Never-married</td>\n",
       "      <td>Adm-clerical</td>\n",
       "      <td>Own-child</td>\n",
       "      <td>White</td>\n",
       "      <td>Male</td>\n",
       "      <td>0.0</td>\n",
       "      <td>0.0</td>\n",
       "      <td>20.0</td>\n",
       "      <td>United-States</td>\n",
       "      <td>&lt;=50K</td>\n",
       "    </tr>\n",
       "    <tr>\n",
       "      <th>32560</th>\n",
       "      <td>52.0</td>\n",
       "      <td>Self-emp-inc</td>\n",
       "      <td>287927.0</td>\n",
       "      <td>HS-grad</td>\n",
       "      <td>9.0</td>\n",
       "      <td>Married-civ-spouse</td>\n",
       "      <td>Exec-managerial</td>\n",
       "      <td>Wife</td>\n",
       "      <td>White</td>\n",
       "      <td>Female</td>\n",
       "      <td>15024.0</td>\n",
       "      <td>0.0</td>\n",
       "      <td>40.0</td>\n",
       "      <td>United-States</td>\n",
       "      <td>&gt;50K</td>\n",
       "    </tr>\n",
       "  </tbody>\n",
       "</table>\n",
       "<p>32561 rows × 15 columns</p>\n",
       "</div>"
      ],
      "text/plain": [
       "        age          workclass    fnlwgt    education  education-num  \\\n",
       "0      39.0          State-gov   77516.0    Bachelors           13.0   \n",
       "1      50.0   Self-emp-not-inc   83311.0    Bachelors           13.0   \n",
       "2      38.0            Private  215646.0      HS-grad            9.0   \n",
       "3      53.0            Private  234721.0         11th            7.0   \n",
       "4      28.0            Private  338409.0    Bachelors           13.0   \n",
       "...     ...                ...       ...          ...            ...   \n",
       "32556  27.0            Private  257302.0   Assoc-acdm           12.0   \n",
       "32557  40.0            Private  154374.0      HS-grad            9.0   \n",
       "32558  58.0            Private  151910.0      HS-grad            9.0   \n",
       "32559  22.0            Private  201490.0      HS-grad            9.0   \n",
       "32560  52.0       Self-emp-inc  287927.0      HS-grad            9.0   \n",
       "\n",
       "            marital-status          occupation    relationship    race  \\\n",
       "0            Never-married        Adm-clerical   Not-in-family   White   \n",
       "1       Married-civ-spouse     Exec-managerial         Husband   White   \n",
       "2                 Divorced   Handlers-cleaners   Not-in-family   White   \n",
       "3       Married-civ-spouse   Handlers-cleaners         Husband   Black   \n",
       "4       Married-civ-spouse      Prof-specialty            Wife   Black   \n",
       "...                    ...                 ...             ...     ...   \n",
       "32556   Married-civ-spouse        Tech-support            Wife   White   \n",
       "32557   Married-civ-spouse   Machine-op-inspct         Husband   White   \n",
       "32558              Widowed        Adm-clerical       Unmarried   White   \n",
       "32559        Never-married        Adm-clerical       Own-child   White   \n",
       "32560   Married-civ-spouse     Exec-managerial            Wife   White   \n",
       "\n",
       "           sex  capital-gain  capital-loss  hours-per-week  native-country  \\\n",
       "0         Male        2174.0           0.0            40.0   United-States   \n",
       "1         Male           0.0           0.0            13.0   United-States   \n",
       "2         Male           0.0           0.0            40.0   United-States   \n",
       "3         Male           0.0           0.0            40.0   United-States   \n",
       "4       Female           0.0           0.0            40.0            Cuba   \n",
       "...        ...           ...           ...             ...             ...   \n",
       "32556   Female           0.0           0.0            38.0   United-States   \n",
       "32557     Male           0.0           0.0            40.0   United-States   \n",
       "32558   Female           0.0           0.0            40.0   United-States   \n",
       "32559     Male           0.0           0.0            20.0   United-States   \n",
       "32560   Female       15024.0           0.0            40.0   United-States   \n",
       "\n",
       "       income  \n",
       "0       <=50K  \n",
       "1       <=50K  \n",
       "2       <=50K  \n",
       "3       <=50K  \n",
       "4       <=50K  \n",
       "...       ...  \n",
       "32556   <=50K  \n",
       "32557    >50K  \n",
       "32558   <=50K  \n",
       "32559   <=50K  \n",
       "32560    >50K  \n",
       "\n",
       "[32561 rows x 15 columns]"
      ]
     },
     "execution_count": 4,
     "metadata": {},
     "output_type": "execute_result"
    }
   ],
   "source": [
    "df_train.toPandas()"
   ]
  },
  {
   "cell_type": "code",
   "execution_count": 6,
   "metadata": {},
   "outputs": [
    {
     "name": "stdout",
     "output_type": "stream",
     "text": [
      "+-------+------------------+\n",
      "|summary|               age|\n",
      "+-------+------------------+\n",
      "|  count|             32561|\n",
      "|   mean| 38.58164675532078|\n",
      "| stddev|13.640432553581356|\n",
      "|    min|              17.0|\n",
      "|    max|              90.0|\n",
      "+-------+------------------+\n",
      "\n"
     ]
    }
   ],
   "source": [
    "df_train.select(\"age\").describe().show()"
   ]
  },
  {
   "cell_type": "code",
   "execution_count": 10,
   "metadata": {},
   "outputs": [
    {
     "name": "stdout",
     "output_type": "stream",
     "text": [
      "+---------------+-----+\n",
      "|   relationship|count|\n",
      "+---------------+-----+\n",
      "|        Husband|13193|\n",
      "|      Own-child| 5068|\n",
      "|  Not-in-family| 8305|\n",
      "| Other-relative|  981|\n",
      "|           Wife| 1568|\n",
      "|      Unmarried| 3446|\n",
      "+---------------+-----+\n",
      "\n"
     ]
    }
   ],
   "source": [
    "df_train.select(\"relationship\").groupby('relationship').count().show()"
   ]
  },
  {
   "cell_type": "code",
   "execution_count": 12,
   "metadata": {},
   "outputs": [
    {
     "name": "stdout",
     "output_type": "stream",
     "text": [
      "+-------+------------------+\n",
      "|summary|    hours-per-week|\n",
      "+-------+------------------+\n",
      "|  count|             32561|\n",
      "|   mean|40.437455852092995|\n",
      "| stddev|12.347428681731838|\n",
      "|    min|               1.0|\n",
      "|    max|              99.0|\n",
      "+-------+------------------+\n",
      "\n"
     ]
    }
   ],
   "source": [
    "df_train.select(\"hours-per-week\").describe().show()"
   ]
  },
  {
   "cell_type": "code",
   "execution_count": 25,
   "metadata": {},
   "outputs": [
    {
     "name": "stdout",
     "output_type": "stream",
     "text": [
      "+-------+----------+------------+-----+\n",
      "|    sex|age_bucket|hours_bucket|label|\n",
      "+-------+----------+------------+-----+\n",
      "|   Male|      high|         mid|    0|\n",
      "|   Male|      high|         low|    0|\n",
      "|   Male|      high|         mid|    0|\n",
      "|   Male|      high|         mid|    0|\n",
      "| Female|       low|         mid|    0|\n",
      "| Female|       low|         mid|    0|\n",
      "| Female|      high|         low|    0|\n",
      "|   Male|      high|         mid|    1|\n",
      "| Female|       low|         mid|    1|\n",
      "|   Male|      high|         mid|    1|\n",
      "|   Male|       low|        high|    1|\n",
      "|   Male|       low|         mid|    1|\n",
      "| Female|       low|         mid|    0|\n",
      "|   Male|       low|         mid|    0|\n",
      "|   Male|      high|         mid|    1|\n",
      "|   Male|       low|         mid|    0|\n",
      "|   Male|       low|         mid|    0|\n",
      "|   Male|       low|         mid|    0|\n",
      "|   Male|      high|         mid|    0|\n",
      "| Female|      high|         mid|    1|\n",
      "+-------+----------+------------+-----+\n",
      "only showing top 20 rows\n",
      "\n"
     ]
    }
   ],
   "source": [
    "from pyspark.sql import functions as F\n",
    "\n",
    "\n",
    "def hours_bucket_udf(hours):\n",
    "    if hours<28:\n",
    "        return 'low'\n",
    "    elif hours<52:\n",
    "        return 'mid'\n",
    "    else:\n",
    "        return 'high'\n",
    "\n",
    "hours_udf = F.udf(hours_bucket_udf)\n",
    "\n",
    "df_train_small = df_train.select(\"age\",\"sex\",\"hours-per-week\",\"income\") \\\n",
    "    .withColumn(\"age_bucket\", F.when(F.col(\"age\")<38,\"low\").otherwise(\"high\")) \\\n",
    "    .withColumn(\"hours_bucket\", hours_udf(F.col(\"hours-per-week\"))) \\\n",
    "    .withColumn(\"label\", F.when(F.col(\"income\")==' <=50K',0).otherwise(1)) \\\n",
    "    .select(\"sex\",\"age_bucket\",\"hours_bucket\",\"label\")\n",
    "\n",
    "df_train_small.show()"
   ]
  },
  {
   "cell_type": "code",
   "execution_count": 29,
   "metadata": {},
   "outputs": [
    {
     "name": "stdout",
     "output_type": "stream",
     "text": [
      "+-------+-----+-----+\n",
      "|    sex|label|count|\n",
      "+-------+-----+-----+\n",
      "| Female|    0| 9592|\n",
      "| Female|    1| 1179|\n",
      "|   Male|    0|15128|\n",
      "|   Male|    1| 6662|\n",
      "+-------+-----+-----+\n",
      "\n"
     ]
    }
   ],
   "source": [
    "df_train_small.groupby(\"sex\",\"label\").count().sort(\"sex\").show()"
   ]
  },
  {
   "cell_type": "code",
   "execution_count": 34,
   "metadata": {},
   "outputs": [],
   "source": [
    "import math\n",
    "def entropy(probabs):\n",
    "    return -sum([ p * math.log(p,2) for p in probabs])"
   ]
  },
  {
   "cell_type": "code",
   "execution_count": 36,
   "metadata": {},
   "outputs": [
    {
     "data": {
      "text/plain": [
       "0.08079313589591118"
      ]
     },
     "execution_count": 36,
     "metadata": {},
     "output_type": "execute_result"
    }
   ],
   "source": [
    "entropy([0.01,0.99])"
   ]
  },
  {
   "cell_type": "code",
   "execution_count": 45,
   "metadata": {},
   "outputs": [
    {
     "data": {
      "text/plain": [
       "0.8881906136796107"
      ]
     },
     "execution_count": 45,
     "metadata": {},
     "output_type": "execute_result"
    }
   ],
   "source": [
    "# entropía Male\n",
    "p_male_0 = 15128/(6662+15128)\n",
    "p_male_1 = 6662/(6662+15128)\n",
    "entropy_male = entropy([p_male_0,p_male_1])\n",
    "entropy_male"
   ]
  },
  {
   "cell_type": "code",
   "execution_count": 46,
   "metadata": {},
   "outputs": [
    {
     "data": {
      "text/plain": [
       "0.49828678366738155"
      ]
     },
     "execution_count": 46,
     "metadata": {},
     "output_type": "execute_result"
    }
   ],
   "source": [
    "# entropía Female\n",
    "p_female_0 = 9592/(1179+9592)\n",
    "p_female_1 = 1- p_female_0\n",
    "entropy_female = entropy([p_female_0,p_female_1])\n",
    "entropy_female"
   ]
  },
  {
   "cell_type": "code",
   "execution_count": 47,
   "metadata": {},
   "outputs": [
    {
     "data": {
      "text/plain": [
       "0.759212567763892"
      ]
     },
     "execution_count": 47,
     "metadata": {},
     "output_type": "execute_result"
    }
   ],
   "source": [
    "# \"entropía\" de \"sex\" como atributo\n",
    "males = 6662+15128\n",
    "females = 1179+9592\n",
    "population = males + females\n",
    "entropy_sex= entropy_male*(males/population) + entropy_female * (females/population)\n",
    "entropy_sex"
   ]
  },
  {
   "cell_type": "code",
   "execution_count": 49,
   "metadata": {},
   "outputs": [
    {
     "name": "stdout",
     "output_type": "stream",
     "text": [
      "+----------+-----+-----+\n",
      "|age_bucket|label|count|\n",
      "+----------+-----+-----+\n",
      "|      high|    1| 5581|\n",
      "|      high|    0|10299|\n",
      "|       low|    1| 2260|\n",
      "|       low|    0|14421|\n",
      "+----------+-----+-----+\n",
      "\n"
     ]
    }
   ],
   "source": [
    "# consideremos age_bucket\n",
    "\n",
    "df_train_small.groupby(\"age_bucket\",\"label\").count().sort(\"age_bucket\").show()"
   ]
  },
  {
   "cell_type": "code",
   "execution_count": 53,
   "metadata": {},
   "outputs": [
    {
     "data": {
      "text/plain": [
       "(0.5722871298658747, 0.9353549188478923)"
      ]
     },
     "execution_count": 53,
     "metadata": {},
     "output_type": "execute_result"
    }
   ],
   "source": [
    "entropy_high = entropy([5581/(5581+10299),10299/(5581+10299)])\n",
    "entropy_low = entropy([2260/(2260+14421),14421/(2260+14421)])\n",
    "entropy_low,entropy_high"
   ]
  },
  {
   "cell_type": "code",
   "execution_count": 54,
   "metadata": {
    "scrolled": true
   },
   "outputs": [
    {
     "data": {
      "text/plain": [
       "(0.5722871298658747, 0.9353549188478923)"
      ]
     },
     "execution_count": 54,
     "metadata": {},
     "output_type": "execute_result"
    }
   ],
   "source": [
    "def entropy_from_values(values):\n",
    "  # example: values [5581,10299]\n",
    "    sum_values = sum(values)\n",
    "    probabilities = [value/sum_values for value in values]\n",
    "    return entropy(probabilities)\n",
    "\n",
    "entropy_high = entropy_from_values([5581,10299])\n",
    "entropy_low = entropy_from_values([2260, 14421])\n",
    "entropy_low,entropy_high"
   ]
  },
  {
   "cell_type": "code",
   "execution_count": 75,
   "metadata": {},
   "outputs": [
    {
     "data": {
      "text/plain": [
       "0.7493552938975212"
      ]
     },
     "execution_count": 75,
     "metadata": {},
     "output_type": "execute_result"
    }
   ],
   "source": [
    "weighted_entropy = entropy_low *(2260 + 14421)/(5581+ 10299+2260 + 14421)  + entropy_high*(5581+10299)/(5581+ 10299+2260 + 14421) \n",
    "weighted_entropy"
   ]
  },
  {
   "cell_type": "code",
   "execution_count": 94,
   "metadata": {},
   "outputs": [
    {
     "data": {
      "text/plain": [
       "[Row(age_bucket='high', label=1, count=5581),\n",
       " Row(age_bucket='high', label=0, count=10299),\n",
       " Row(age_bucket='low', label=1, count=2260),\n",
       " Row(age_bucket='low', label=0, count=14421)]"
      ]
     },
     "execution_count": 94,
     "metadata": {},
     "output_type": "execute_result"
    }
   ],
   "source": [
    "table_collected = df_train_small.groupby(\"age_bucket\",\"label\").count().sort(\"age_bucket\").collect()\n",
    "table_collected"
   ]
  },
  {
   "cell_type": "code",
   "execution_count": 95,
   "metadata": {},
   "outputs": [
    {
     "data": {
      "text/plain": [
       "{'high', 'low'}"
      ]
     },
     "execution_count": 95,
     "metadata": {},
     "output_type": "execute_result"
    }
   ],
   "source": [
    "attribute = 'age_bucket'\n",
    "distinct_attribute_values = set([row[attribute] for row in table_collected])\n",
    "distinct_attribute_values\n"
   ]
  },
  {
   "cell_type": "code",
   "execution_count": 97,
   "metadata": {},
   "outputs": [
    {
     "data": {
      "text/plain": [
       "0.7493552938975212"
      ]
     },
     "execution_count": 97,
     "metadata": {},
     "output_type": "execute_result"
    }
   ],
   "source": [
    "def attribute_values(table_collected, attribute, distinct_attribute_values):\n",
    "    counts_and_totals = []\n",
    "    for attr_value in distinct_attribute_values:\n",
    "        values_attr = [row['count'] for row in table_collected if row[attribute]==attr_value]\n",
    "        sum_values_attr  = sum(values_attr)\n",
    "        counts_and_totals = counts_and_totals + [(values_attr, sum_values_attr)]\n",
    "    return counts_and_totals\n",
    "\n",
    "def weighted_entropy_table(table_collected, attribute):\n",
    "    distinct_attribute_values = set([row[attribute] for row in table_collected])\n",
    "    attr_values = attribute_values(table_collected, attribute, distinct_attribute_values)\n",
    "    sum_splits = sum([totals for values, totals in attr_values])\n",
    "    return sum([(entropy_from_values(values)* totals)/sum_splits for values, totals in attr_values])\n",
    "    \n",
    "weighted_entropy_table(table_collected,'age_bucket')"
   ]
  },
  {
   "cell_type": "code",
   "execution_count": 98,
   "metadata": {},
   "outputs": [
    {
     "data": {
      "text/plain": [
       "[Row(hours_bucket='high', label=1, count=1501),\n",
       " Row(hours_bucket='high', label=0, count=2129),\n",
       " Row(hours_bucket='low', label=1, count=264),\n",
       " Row(hours_bucket='low', label=0, count=3739),\n",
       " Row(hours_bucket='mid', label=1, count=6076),\n",
       " Row(hours_bucket='mid', label=0, count=18852)]"
      ]
     },
     "execution_count": 98,
     "metadata": {},
     "output_type": "execute_result"
    }
   ],
   "source": [
    "table_collected = df_train_small.groupby(\"hours_bucket\",\"label\").count().sort(\"hours_bucket\").collect()\n",
    "table_collected"
   ]
  },
  {
   "cell_type": "code",
   "execution_count": 99,
   "metadata": {},
   "outputs": [
    {
     "data": {
      "text/plain": [
       "0.7655570162856272"
      ]
     },
     "execution_count": 99,
     "metadata": {},
     "output_type": "execute_result"
    }
   ],
   "source": [
    "weighted_entropy_table(table_collected,'hours_bucket')"
   ]
  },
  {
   "cell_type": "code",
   "execution_count": 100,
   "metadata": {},
   "outputs": [
    {
     "data": {
      "text/plain": [
       "[Row(sex=' Female', label=0, count=9592),\n",
       " Row(sex=' Female', label=1, count=1179),\n",
       " Row(sex=' Male', label=0, count=15128),\n",
       " Row(sex=' Male', label=1, count=6662)]"
      ]
     },
     "execution_count": 100,
     "metadata": {},
     "output_type": "execute_result"
    }
   ],
   "source": [
    "table_collected = df_train_small.groupby(\"sex\",\"label\").count().sort(\"sex\").collect()\n",
    "table_collected"
   ]
  },
  {
   "cell_type": "code",
   "execution_count": 101,
   "metadata": {},
   "outputs": [
    {
     "data": {
      "text/plain": [
       "0.7592125677638919"
      ]
     },
     "execution_count": 101,
     "metadata": {},
     "output_type": "execute_result"
    }
   ],
   "source": [
    "weighted_entropy_table(table_collected,'sex')"
   ]
  },
  {
   "cell_type": "code",
   "execution_count": 102,
   "metadata": {},
   "outputs": [],
   "source": [
    "def weighted_entropy_for_attribute(df_train_small, attribute):\n",
    "    table_collected = df_train_small.groupby(attribute,\"label\").count().sort(attribute).collect()\n",
    "    return weighted_entropy_table(table_collected,attribute)\n"
   ]
  },
  {
   "cell_type": "code",
   "execution_count": 103,
   "metadata": {},
   "outputs": [
    {
     "data": {
      "text/plain": [
       "[('sex', 0.7592125677638919),\n",
       " ('hours_bucket', 0.7655570162856272),\n",
       " ('age_bucket', 0.7493552938975212)]"
      ]
     },
     "execution_count": 103,
     "metadata": {},
     "output_type": "execute_result"
    }
   ],
   "source": [
    "[ (attribute, weighted_entropy_for_attribute(df_train_small, attribute)) for attribute in ['sex','hours_bucket','age_bucket']]"
   ]
  },
  {
   "cell_type": "code",
   "execution_count": 105,
   "metadata": {},
   "outputs": [
    {
     "name": "stdout",
     "output_type": "stream",
     "text": [
      "+-------+----------+------------+-----+\n",
      "|    sex|age_bucket|hours_bucket|label|\n",
      "+-------+----------+------------+-----+\n",
      "|   Male|      high|         mid|    0|\n",
      "|   Male|      high|         low|    0|\n",
      "|   Male|      high|         mid|    0|\n",
      "|   Male|      high|         mid|    0|\n",
      "| Female|       low|         mid|    0|\n",
      "| Female|       low|         mid|    0|\n",
      "| Female|      high|         low|    0|\n",
      "|   Male|      high|         mid|    1|\n",
      "| Female|       low|         mid|    1|\n",
      "|   Male|      high|         mid|    1|\n",
      "|   Male|       low|        high|    1|\n",
      "|   Male|       low|         mid|    1|\n",
      "| Female|       low|         mid|    0|\n",
      "|   Male|       low|         mid|    0|\n",
      "|   Male|      high|         mid|    1|\n",
      "|   Male|       low|         mid|    0|\n",
      "|   Male|       low|         mid|    0|\n",
      "|   Male|       low|         mid|    0|\n",
      "|   Male|      high|         mid|    0|\n",
      "| Female|      high|         mid|    1|\n",
      "+-------+----------+------------+-----+\n",
      "only showing top 20 rows\n",
      "\n"
     ]
    }
   ],
   "source": [
    "df_train_small.show()"
   ]
  },
  {
   "cell_type": "code",
   "execution_count": 106,
   "metadata": {},
   "outputs": [],
   "source": [
    "df_train_small_age_high = df_train_small.where(F.col('age_bucket')=='high')"
   ]
  },
  {
   "cell_type": "code",
   "execution_count": 108,
   "metadata": {},
   "outputs": [
    {
     "name": "stdout",
     "output_type": "stream",
     "text": [
      "+-------+----------+------------+-----+\n",
      "|    sex|age_bucket|hours_bucket|label|\n",
      "+-------+----------+------------+-----+\n",
      "|   Male|      high|         mid|    0|\n",
      "|   Male|      high|         low|    0|\n",
      "|   Male|      high|         mid|    0|\n",
      "|   Male|      high|         mid|    0|\n",
      "| Female|      high|         low|    0|\n",
      "|   Male|      high|         mid|    1|\n",
      "|   Male|      high|         mid|    1|\n",
      "|   Male|      high|         mid|    1|\n",
      "|   Male|      high|         mid|    0|\n",
      "| Female|      high|         mid|    1|\n",
      "|   Male|      high|        high|    1|\n",
      "| Female|      high|         low|    0|\n",
      "|   Male|      high|         mid|    0|\n",
      "| Female|      high|         mid|    0|\n",
      "|   Male|      high|         mid|    1|\n",
      "|   Male|      high|        high|    1|\n",
      "|   Male|      high|        high|    0|\n",
      "|   Male|      high|         mid|    0|\n",
      "|   Male|      high|         mid|    0|\n",
      "|   Male|      high|         mid|    0|\n",
      "+-------+----------+------------+-----+\n",
      "only showing top 20 rows\n",
      "\n"
     ]
    }
   ],
   "source": [
    "df_train_small_age_high.show()"
   ]
  },
  {
   "cell_type": "code",
   "execution_count": 109,
   "metadata": {},
   "outputs": [
    {
     "data": {
      "text/plain": [
       "[('sex', 0.8826664526766186), ('hours_bucket', 0.9098707892103722)]"
      ]
     },
     "execution_count": 109,
     "metadata": {},
     "output_type": "execute_result"
    }
   ],
   "source": [
    "[ (attribute, weighted_entropy_for_attribute(df_train_small_age_high, attribute)) for attribute in ['sex','hours_bucket']]"
   ]
  },
  {
   "cell_type": "code",
   "execution_count": 110,
   "metadata": {},
   "outputs": [
    {
     "data": {
      "text/plain": [
       "[('sex', 0.5557044933658458), ('hours_bucket', 0.5433274609106593)]"
      ]
     },
     "execution_count": 110,
     "metadata": {},
     "output_type": "execute_result"
    }
   ],
   "source": [
    "df_train_small_age_low = df_train_small.where(F.col('age_bucket')=='low')\n",
    "[ (attribute, weighted_entropy_for_attribute(df_train_small_age_low, attribute)) for attribute in ['sex','hours_bucket']]"
   ]
  },
  {
   "cell_type": "code",
   "execution_count": null,
   "metadata": {},
   "outputs": [],
   "source": [
    "#                      age_bucket\n",
    "#                 / (low)           \\ (high)\n",
    "#               hours_bucket            sex\n",
    "#              /      |    \\           /   \\\n"
   ]
  }
 ],
 "metadata": {
  "kernelspec": {
   "display_name": "Python 3",
   "language": "python",
   "name": "python3"
  },
  "language_info": {
   "codemirror_mode": {
    "name": "ipython",
    "version": 3
   },
   "file_extension": ".py",
   "mimetype": "text/x-python",
   "name": "python",
   "nbconvert_exporter": "python",
   "pygments_lexer": "ipython3",
   "version": "3.9.0"
  }
 },
 "nbformat": 4,
 "nbformat_minor": 4
}